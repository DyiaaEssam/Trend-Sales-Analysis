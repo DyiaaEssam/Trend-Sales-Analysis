{
 "cells": [
  {
   "cell_type": "code",
   "execution_count": 1,
   "id": "c9f1bbc4-e90d-41a6-ae4f-cc84841d2536",
   "metadata": {},
   "outputs": [],
   "source": [
    "import pandas as pd\n",
    "import numpy as np\n",
    "import seaborn as sns\n",
    "import plotly.express as px\n",
    "import matplotlib.pyplot as plt\n",
    "import pyodbc \n",
    "import warnings\n",
    "warnings.filterwarnings('ignore')\n",
    "colors = [\"#89CFF0\", \"#FF69B4\", \"#FFD700\", \"#7B68EE\", \"#FF4500\",\n",
    "          \"#9370DB\", \"#32CD32\", \"#8A2BE2\", \"#FF6347\", \"#20B2AA\",\n",
    "          \"#FF69B4\", \"#00CED1\", \"#FF7F50\", \"#7FFF00\", \"#DA70D6\"]"
   ]
  },
  {
   "cell_type": "code",
   "execution_count": 2,
   "id": "d996c58c-e51a-4a35-874f-7cc98b9a3b4d",
   "metadata": {},
   "outputs": [],
   "source": [
    "conn_str = (\n",
    "    'DRIVER={ODBC Driver 17 for SQL Server};'\n",
    "    'SERVER=DYIAA\\SQLEXPRESS;'\n",
    "    'DATABASE=EDA_project;'\n",
    "    'Trusted_Connection=yes;'\n",
    ")"
   ]
  },
  {
   "cell_type": "code",
   "execution_count": 3,
   "id": "7ca1ea3d-64a0-4691-bc7d-ab847d1d5789",
   "metadata": {},
   "outputs": [],
   "source": [
    "conn=pyodbc.connect(conn_str)\n"
   ]
  },
  {
   "cell_type": "code",
   "execution_count": 4,
   "id": "0c83b972-e760-404c-b14c-982700032b4b",
   "metadata": {},
   "outputs": [
    {
     "data": {
      "text/html": [
       "<div>\n",
       "<style scoped>\n",
       "    .dataframe tbody tr th:only-of-type {\n",
       "        vertical-align: middle;\n",
       "    }\n",
       "\n",
       "    .dataframe tbody tr th {\n",
       "        vertical-align: top;\n",
       "    }\n",
       "\n",
       "    .dataframe thead th {\n",
       "        text-align: right;\n",
       "    }\n",
       "</style>\n",
       "<table border=\"1\" class=\"dataframe\">\n",
       "  <thead>\n",
       "    <tr style=\"text-align: right;\">\n",
       "      <th></th>\n",
       "      <th>Customer_ID</th>\n",
       "      <th>Age</th>\n",
       "      <th>Gender</th>\n",
       "      <th>Item_Purchased</th>\n",
       "      <th>Category</th>\n",
       "      <th>Purchase_Amount_USD</th>\n",
       "      <th>Location</th>\n",
       "      <th>Size</th>\n",
       "      <th>Color</th>\n",
       "      <th>Season</th>\n",
       "      <th>Review_Rating</th>\n",
       "      <th>Subscription_Status</th>\n",
       "      <th>Payment_Method</th>\n",
       "      <th>Shipping_Type</th>\n",
       "      <th>Discount_Applied</th>\n",
       "      <th>Promo_Code_Used</th>\n",
       "      <th>Previous_Purchases</th>\n",
       "      <th>Preferred_Payment_Method</th>\n",
       "      <th>Frequency_of_Purchases</th>\n",
       "    </tr>\n",
       "  </thead>\n",
       "  <tbody>\n",
       "    <tr>\n",
       "      <th>3876</th>\n",
       "      <td>3877</td>\n",
       "      <td>60</td>\n",
       "      <td>Female</td>\n",
       "      <td>Shoes</td>\n",
       "      <td>Footwear</td>\n",
       "      <td>85</td>\n",
       "      <td>Wisconsin</td>\n",
       "      <td>S</td>\n",
       "      <td>Cyan</td>\n",
       "      <td>Fall</td>\n",
       "      <td>2.6</td>\n",
       "      <td>No</td>\n",
       "      <td>Bank Transfer</td>\n",
       "      <td>2-Day Shipping</td>\n",
       "      <td>No</td>\n",
       "      <td>No</td>\n",
       "      <td>7</td>\n",
       "      <td>Cash</td>\n",
       "      <td>Annually</td>\n",
       "    </tr>\n",
       "    <tr>\n",
       "      <th>411</th>\n",
       "      <td>412</td>\n",
       "      <td>59</td>\n",
       "      <td>Male</td>\n",
       "      <td>Jeans</td>\n",
       "      <td>Clothing</td>\n",
       "      <td>29</td>\n",
       "      <td>Michigan</td>\n",
       "      <td>M</td>\n",
       "      <td>Indigo</td>\n",
       "      <td>Summer</td>\n",
       "      <td>2.8</td>\n",
       "      <td>Yes</td>\n",
       "      <td>Cash</td>\n",
       "      <td>Express</td>\n",
       "      <td>Yes</td>\n",
       "      <td>Yes</td>\n",
       "      <td>15</td>\n",
       "      <td>PayPal</td>\n",
       "      <td>Annually</td>\n",
       "    </tr>\n",
       "    <tr>\n",
       "      <th>394</th>\n",
       "      <td>395</td>\n",
       "      <td>43</td>\n",
       "      <td>Male</td>\n",
       "      <td>Scarf</td>\n",
       "      <td>Accessories</td>\n",
       "      <td>29</td>\n",
       "      <td>North Dakota</td>\n",
       "      <td>M</td>\n",
       "      <td>Beige</td>\n",
       "      <td>Spring</td>\n",
       "      <td>4.8</td>\n",
       "      <td>Yes</td>\n",
       "      <td>PayPal</td>\n",
       "      <td>Store Pickup</td>\n",
       "      <td>Yes</td>\n",
       "      <td>Yes</td>\n",
       "      <td>7</td>\n",
       "      <td>Debit Card</td>\n",
       "      <td>Bi-Weekly</td>\n",
       "    </tr>\n",
       "    <tr>\n",
       "      <th>2072</th>\n",
       "      <td>2073</td>\n",
       "      <td>39</td>\n",
       "      <td>Male</td>\n",
       "      <td>Backpack</td>\n",
       "      <td>Accessories</td>\n",
       "      <td>66</td>\n",
       "      <td>Massachusetts</td>\n",
       "      <td>M</td>\n",
       "      <td>Beige</td>\n",
       "      <td>Winter</td>\n",
       "      <td>3.9</td>\n",
       "      <td>No</td>\n",
       "      <td>Credit Card</td>\n",
       "      <td>Next Day Air</td>\n",
       "      <td>No</td>\n",
       "      <td>No</td>\n",
       "      <td>22</td>\n",
       "      <td>Bank Transfer</td>\n",
       "      <td>Weekly</td>\n",
       "    </tr>\n",
       "    <tr>\n",
       "      <th>3023</th>\n",
       "      <td>3024</td>\n",
       "      <td>50</td>\n",
       "      <td>Female</td>\n",
       "      <td>Backpack</td>\n",
       "      <td>Accessories</td>\n",
       "      <td>31</td>\n",
       "      <td>Indiana</td>\n",
       "      <td>M</td>\n",
       "      <td>Brown</td>\n",
       "      <td>Summer</td>\n",
       "      <td>2.9</td>\n",
       "      <td>No</td>\n",
       "      <td>PayPal</td>\n",
       "      <td>Express</td>\n",
       "      <td>No</td>\n",
       "      <td>No</td>\n",
       "      <td>4</td>\n",
       "      <td>PayPal</td>\n",
       "      <td>Quarterly</td>\n",
       "    </tr>\n",
       "  </tbody>\n",
       "</table>\n",
       "</div>"
      ],
      "text/plain": [
       "      Customer_ID  Age  Gender Item_Purchased     Category  \\\n",
       "3876         3877   60  Female          Shoes     Footwear   \n",
       "411           412   59    Male          Jeans     Clothing   \n",
       "394           395   43    Male          Scarf  Accessories   \n",
       "2072         2073   39    Male       Backpack  Accessories   \n",
       "3023         3024   50  Female       Backpack  Accessories   \n",
       "\n",
       "      Purchase_Amount_USD       Location Size   Color  Season  Review_Rating  \\\n",
       "3876                   85      Wisconsin    S    Cyan    Fall            2.6   \n",
       "411                    29       Michigan    M  Indigo  Summer            2.8   \n",
       "394                    29   North Dakota    M   Beige  Spring            4.8   \n",
       "2072                   66  Massachusetts    M   Beige  Winter            3.9   \n",
       "3023                   31        Indiana    M   Brown  Summer            2.9   \n",
       "\n",
       "     Subscription_Status Payment_Method   Shipping_Type Discount_Applied  \\\n",
       "3876                  No  Bank Transfer  2-Day Shipping               No   \n",
       "411                  Yes           Cash         Express              Yes   \n",
       "394                  Yes         PayPal    Store Pickup              Yes   \n",
       "2072                  No    Credit Card    Next Day Air               No   \n",
       "3023                  No         PayPal         Express               No   \n",
       "\n",
       "     Promo_Code_Used  Previous_Purchases Preferred_Payment_Method  \\\n",
       "3876              No                   7                     Cash   \n",
       "411              Yes                  15                   PayPal   \n",
       "394              Yes                   7               Debit Card   \n",
       "2072              No                  22            Bank Transfer   \n",
       "3023              No                   4                   PayPal   \n",
       "\n",
       "     Frequency_of_Purchases  \n",
       "3876               Annually  \n",
       "411                Annually  \n",
       "394               Bi-Weekly  \n",
       "2072                 Weekly  \n",
       "3023              Quarterly  "
      ]
     },
     "execution_count": 4,
     "metadata": {},
     "output_type": "execute_result"
    }
   ],
   "source": [
    "query='select * from dbo.shopping_trends'\n",
    "df=pd.read_sql(query,conn)\n",
    "df.sample(5)"
   ]
  },
  {
   "cell_type": "code",
   "execution_count": 5,
   "id": "afa1ab31-6dc6-43fe-99f9-bc7398881e98",
   "metadata": {},
   "outputs": [
    {
     "name": "stdout",
     "output_type": "stream",
     "text": [
      "<class 'pandas.core.frame.DataFrame'>\n",
      "RangeIndex: 3900 entries, 0 to 3899\n",
      "Data columns (total 19 columns):\n",
      " #   Column                    Non-Null Count  Dtype  \n",
      "---  ------                    --------------  -----  \n",
      " 0   Customer_ID               3900 non-null   int64  \n",
      " 1   Age                       3900 non-null   int64  \n",
      " 2   Gender                    3900 non-null   object \n",
      " 3   Item_Purchased            3900 non-null   object \n",
      " 4   Category                  3900 non-null   object \n",
      " 5   Purchase_Amount_USD       3900 non-null   int64  \n",
      " 6   Location                  3900 non-null   object \n",
      " 7   Size                      3900 non-null   object \n",
      " 8   Color                     3900 non-null   object \n",
      " 9   Season                    3900 non-null   object \n",
      " 10  Review_Rating             3900 non-null   float64\n",
      " 11  Subscription_Status       3900 non-null   object \n",
      " 12  Payment_Method            3900 non-null   object \n",
      " 13  Shipping_Type             3900 non-null   object \n",
      " 14  Discount_Applied          3900 non-null   object \n",
      " 15  Promo_Code_Used           3900 non-null   object \n",
      " 16  Previous_Purchases        3900 non-null   int64  \n",
      " 17  Preferred_Payment_Method  3900 non-null   object \n",
      " 18  Frequency_of_Purchases    3900 non-null   object \n",
      "dtypes: float64(1), int64(4), object(14)\n",
      "memory usage: 579.0+ KB\n"
     ]
    }
   ],
   "source": [
    "df.info()"
   ]
  },
  {
   "cell_type": "code",
   "execution_count": 6,
   "id": "e4687a8a-49ae-48b7-8fdd-c694c5c2a1bd",
   "metadata": {},
   "outputs": [
    {
     "data": {
      "text/plain": [
       "0"
      ]
     },
     "execution_count": 6,
     "metadata": {},
     "output_type": "execute_result"
    }
   ],
   "source": [
    "df.duplicated().sum()"
   ]
  },
  {
   "cell_type": "code",
   "execution_count": 7,
   "id": "f92086e4-9983-4fd3-b8f3-077fa3b45931",
   "metadata": {},
   "outputs": [
    {
     "data": {
      "text/html": [
       "<div>\n",
       "<style scoped>\n",
       "    .dataframe tbody tr th:only-of-type {\n",
       "        vertical-align: middle;\n",
       "    }\n",
       "\n",
       "    .dataframe tbody tr th {\n",
       "        vertical-align: top;\n",
       "    }\n",
       "\n",
       "    .dataframe thead th {\n",
       "        text-align: right;\n",
       "    }\n",
       "</style>\n",
       "<table border=\"1\" class=\"dataframe\">\n",
       "  <thead>\n",
       "    <tr style=\"text-align: right;\">\n",
       "      <th></th>\n",
       "      <th>Customer_ID</th>\n",
       "      <th>Age</th>\n",
       "      <th>Purchase_Amount_USD</th>\n",
       "      <th>Review_Rating</th>\n",
       "      <th>Previous_Purchases</th>\n",
       "    </tr>\n",
       "  </thead>\n",
       "  <tbody>\n",
       "    <tr>\n",
       "      <th>count</th>\n",
       "      <td>3900.000000</td>\n",
       "      <td>3900.000000</td>\n",
       "      <td>3900.000000</td>\n",
       "      <td>3900.000000</td>\n",
       "      <td>3900.000000</td>\n",
       "    </tr>\n",
       "    <tr>\n",
       "      <th>mean</th>\n",
       "      <td>1950.500000</td>\n",
       "      <td>44.068462</td>\n",
       "      <td>59.764359</td>\n",
       "      <td>3.749949</td>\n",
       "      <td>25.351538</td>\n",
       "    </tr>\n",
       "    <tr>\n",
       "      <th>std</th>\n",
       "      <td>1125.977353</td>\n",
       "      <td>15.207589</td>\n",
       "      <td>23.685392</td>\n",
       "      <td>0.716223</td>\n",
       "      <td>14.447125</td>\n",
       "    </tr>\n",
       "    <tr>\n",
       "      <th>min</th>\n",
       "      <td>1.000000</td>\n",
       "      <td>18.000000</td>\n",
       "      <td>20.000000</td>\n",
       "      <td>2.500000</td>\n",
       "      <td>1.000000</td>\n",
       "    </tr>\n",
       "    <tr>\n",
       "      <th>25%</th>\n",
       "      <td>975.750000</td>\n",
       "      <td>31.000000</td>\n",
       "      <td>39.000000</td>\n",
       "      <td>3.100000</td>\n",
       "      <td>13.000000</td>\n",
       "    </tr>\n",
       "    <tr>\n",
       "      <th>50%</th>\n",
       "      <td>1950.500000</td>\n",
       "      <td>44.000000</td>\n",
       "      <td>60.000000</td>\n",
       "      <td>3.700000</td>\n",
       "      <td>25.000000</td>\n",
       "    </tr>\n",
       "    <tr>\n",
       "      <th>75%</th>\n",
       "      <td>2925.250000</td>\n",
       "      <td>57.000000</td>\n",
       "      <td>81.000000</td>\n",
       "      <td>4.400000</td>\n",
       "      <td>38.000000</td>\n",
       "    </tr>\n",
       "    <tr>\n",
       "      <th>max</th>\n",
       "      <td>3900.000000</td>\n",
       "      <td>70.000000</td>\n",
       "      <td>100.000000</td>\n",
       "      <td>5.000000</td>\n",
       "      <td>50.000000</td>\n",
       "    </tr>\n",
       "  </tbody>\n",
       "</table>\n",
       "</div>"
      ],
      "text/plain": [
       "       Customer_ID          Age  Purchase_Amount_USD  Review_Rating  \\\n",
       "count  3900.000000  3900.000000          3900.000000    3900.000000   \n",
       "mean   1950.500000    44.068462            59.764359       3.749949   \n",
       "std    1125.977353    15.207589            23.685392       0.716223   \n",
       "min       1.000000    18.000000            20.000000       2.500000   \n",
       "25%     975.750000    31.000000            39.000000       3.100000   \n",
       "50%    1950.500000    44.000000            60.000000       3.700000   \n",
       "75%    2925.250000    57.000000            81.000000       4.400000   \n",
       "max    3900.000000    70.000000           100.000000       5.000000   \n",
       "\n",
       "       Previous_Purchases  \n",
       "count         3900.000000  \n",
       "mean            25.351538  \n",
       "std             14.447125  \n",
       "min              1.000000  \n",
       "25%             13.000000  \n",
       "50%             25.000000  \n",
       "75%             38.000000  \n",
       "max             50.000000  "
      ]
     },
     "execution_count": 7,
     "metadata": {},
     "output_type": "execute_result"
    }
   ],
   "source": [
    "df.describe()"
   ]
  },
  {
   "cell_type": "markdown",
   "id": "ef239f00",
   "metadata": {},
   "source": []
  },
  {
   "cell_type": "code",
   "execution_count": 8,
   "id": "1511748b-0e5b-473d-8166-7e29e3066772",
   "metadata": {},
   "outputs": [
    {
     "data": {
      "application/vnd.plotly.v1+json": {
       "config": {
        "plotlyServerURL": "https://plot.ly"
       },
       "data": [
        {
         "bingroup": "x",
         "hovertemplate": "Gender=%{x}<br>count=%{y}<extra></extra>",
         "legendgroup": "Male",
         "marker": {
          "color": "#636efa",
          "pattern": {
           "shape": ""
          }
         },
         "name": "Male",
         "orientation": "v",
         "showlegend": true,
         "type": "histogram",
         "x": [
          "Male",
          "Male",
          "Male",
          "Male",
          "Male",
          "Male",
          "Male",
          "Male",
          "Male",
          "Male",
          "Male",
          "Male",
          "Male",
          "Male",
          "Male",
          "Male",
          "Male",
          "Male",
          "Male",
          "Male",
          "Male",
          "Male",
          "Male",
          "Male",
          "Male",
          "Male",
          "Male",
          "Male",
          "Male",
          "Male",
          "Male",
          "Male",
          "Male",
          "Male",
          "Male",
          "Male",
          "Male",
          "Male",
          "Male",
          "Male",
          "Male",
          "Male",
          "Male",
          "Male",
          "Male",
          "Male",
          "Male",
          "Male",
          "Male",
          "Male",
          "Male",
          "Male",
          "Male",
          "Male",
          "Male",
          "Male",
          "Male",
          "Male",
          "Male",
          "Male",
          "Male",
          "Male",
          "Male",
          "Male",
          "Male",
          "Male",
          "Male",
          "Male",
          "Male",
          "Male",
          "Male",
          "Male",
          "Male",
          "Male",
          "Male",
          "Male",
          "Male",
          "Male",
          "Male",
          "Male",
          "Male",
          "Male",
          "Male",
          "Male",
          "Male",
          "Male",
          "Male",
          "Male",
          "Male",
          "Male",
          "Male",
          "Male",
          "Male",
          "Male",
          "Male",
          "Male",
          "Male",
          "Male",
          "Male",
          "Male",
          "Male",
          "Male",
          "Male",
          "Male",
          "Male",
          "Male",
          "Male",
          "Male",
          "Male",
          "Male",
          "Male",
          "Male",
          "Male",
          "Male",
          "Male",
          "Male",
          "Male",
          "Male",
          "Male",
          "Male",
          "Male",
          "Male",
          "Male",
          "Male",
          "Male",
          "Male",
          "Male",
          "Male",
          "Male",
          "Male",
          "Male",
          "Male",
          "Male",
          "Male",
          "Male",
          "Male",
          "Male",
          "Male",
          "Male",
          "Male",
          "Male",
          "Male",
          "Male",
          "Male",
          "Male",
          "Male",
          "Male",
          "Male",
          "Male",
          "Male",
          "Male",
          "Male",
          "Male",
          "Male",
          "Male",
          "Male",
          "Male",
          "Male",
          "Male",
          "Male",
          "Male",
          "Male",
          "Male",
          "Male",
          "Male",
          "Male",
          "Male",
          "Male",
          "Male",
          "Male",
          "Male",
          "Male",
          "Male",
          "Male",
          "Male",
          "Male",
          "Male",
          "Male",
          "Male",
          "Male",
          "Male",
          "Male",
          "Male",
          "Male",
          "Male",
          "Male",
          "Male",
          "Male",
          "Male",
          "Male",
          "Male",
          "Male",
          "Male",
          "Male",
          "Male",
          "Male",
          "Male",
          "Male",
          "Male",
          "Male",
          "Male",
          "Male",
          "Male",
          "Male",
          "Male",
          "Male",
          "Male",
          "Male",
          "Male",
          "Male",
          "Male",
          "Male",
          "Male",
          "Male",
          "Male",
          "Male",
          "Male",
          "Male",
          "Male",
          "Male",
          "Male",
          "Male",
          "Male",
          "Male",
          "Male",
          "Male",
          "Male",
          "Male",
          "Male",
          "Male",
          "Male",
          "Male",
          "Male",
          "Male",
          "Male",
          "Male",
          "Male",
          "Male",
          "Male",
          "Male",
          "Male",
          "Male",
          "Male",
          "Male",
          "Male",
          "Male",
          "Male",
          "Male",
          "Male",
          "Male",
          "Male",
          "Male",
          "Male",
          "Male",
          "Male",
          "Male",
          "Male",
          "Male",
          "Male",
          "Male",
          "Male",
          "Male",
          "Male",
          "Male",
          "Male",
          "Male",
          "Male",
          "Male",
          "Male",
          "Male",
          "Male",
          "Male",
          "Male",
          "Male",
          "Male",
          "Male",
          "Male",
          "Male",
          "Male",
          "Male",
          "Male",
          "Male",
          "Male",
          "Male",
          "Male",
          "Male",
          "Male",
          "Male",
          "Male",
          "Male",
          "Male",
          "Male",
          "Male",
          "Male",
          "Male",
          "Male",
          "Male",
          "Male",
          "Male",
          "Male",
          "Male",
          "Male",
          "Male",
          "Male",
          "Male",
          "Male",
          "Male",
          "Male",
          "Male",
          "Male",
          "Male",
          "Male",
          "Male",
          "Male",
          "Male",
          "Male",
          "Male",
          "Male",
          "Male",
          "Male",
          "Male",
          "Male",
          "Male",
          "Male",
          "Male",
          "Male",
          "Male",
          "Male",
          "Male",
          "Male",
          "Male",
          "Male",
          "Male",
          "Male",
          "Male",
          "Male",
          "Male",
          "Male",
          "Male",
          "Male",
          "Male",
          "Male",
          "Male",
          "Male",
          "Male",
          "Male",
          "Male",
          "Male",
          "Male",
          "Male",
          "Male",
          "Male",
          "Male",
          "Male",
          "Male",
          "Male",
          "Male",
          "Male",
          "Male",
          "Male",
          "Male",
          "Male",
          "Male",
          "Male",
          "Male",
          "Male",
          "Male",
          "Male",
          "Male",
          "Male",
          "Male",
          "Male",
          "Male",
          "Male",
          "Male",
          "Male",
          "Male",
          "Male",
          "Male",
          "Male",
          "Male",
          "Male",
          "Male",
          "Male",
          "Male",
          "Male",
          "Male",
          "Male",
          "Male",
          "Male",
          "Male",
          "Male",
          "Male",
          "Male",
          "Male",
          "Male",
          "Male",
          "Male",
          "Male",
          "Male",
          "Male",
          "Male",
          "Male",
          "Male",
          "Male",
          "Male",
          "Male",
          "Male",
          "Male",
          "Male",
          "Male",
          "Male",
          "Male",
          "Male",
          "Male",
          "Male",
          "Male",
          "Male",
          "Male",
          "Male",
          "Male",
          "Male",
          "Male",
          "Male",
          "Male",
          "Male",
          "Male",
          "Male",
          "Male",
          "Male",
          "Male",
          "Male",
          "Male",
          "Male",
          "Male",
          "Male",
          "Male",
          "Male",
          "Male",
          "Male",
          "Male",
          "Male",
          "Male",
          "Male",
          "Male",
          "Male",
          "Male",
          "Male",
          "Male",
          "Male",
          "Male",
          "Male",
          "Male",
          "Male",
          "Male",
          "Male",
          "Male",
          "Male",
          "Male",
          "Male",
          "Male",
          "Male",
          "Male",
          "Male",
          "Male",
          "Male",
          "Male",
          "Male",
          "Male",
          "Male",
          "Male",
          "Male",
          "Male",
          "Male",
          "Male",
          "Male",
          "Male",
          "Male",
          "Male",
          "Male",
          "Male",
          "Male",
          "Male",
          "Male",
          "Male",
          "Male",
          "Male",
          "Male",
          "Male",
          "Male",
          "Male",
          "Male",
          "Male",
          "Male",
          "Male",
          "Male",
          "Male",
          "Male",
          "Male",
          "Male",
          "Male",
          "Male",
          "Male",
          "Male",
          "Male",
          "Male",
          "Male",
          "Male",
          "Male",
          "Male",
          "Male",
          "Male",
          "Male",
          "Male",
          "Male",
          "Male",
          "Male",
          "Male",
          "Male",
          "Male",
          "Male",
          "Male",
          "Male",
          "Male",
          "Male",
          "Male",
          "Male",
          "Male",
          "Male",
          "Male",
          "Male",
          "Male",
          "Male",
          "Male",
          "Male",
          "Male",
          "Male",
          "Male",
          "Male",
          "Male",
          "Male",
          "Male",
          "Male",
          "Male",
          "Male",
          "Male",
          "Male",
          "Male",
          "Male",
          "Male",
          "Male",
          "Male",
          "Male",
          "Male",
          "Male",
          "Male",
          "Male",
          "Male",
          "Male",
          "Male",
          "Male",
          "Male",
          "Male",
          "Male",
          "Male",
          "Male",
          "Male",
          "Male",
          "Male",
          "Male",
          "Male",
          "Male",
          "Male",
          "Male",
          "Male",
          "Male",
          "Male",
          "Male",
          "Male",
          "Male",
          "Male",
          "Male",
          "Male",
          "Male",
          "Male",
          "Male",
          "Male",
          "Male",
          "Male",
          "Male",
          "Male",
          "Male",
          "Male",
          "Male",
          "Male",
          "Male",
          "Male",
          "Male",
          "Male",
          "Male",
          "Male",
          "Male",
          "Male",
          "Male",
          "Male",
          "Male",
          "Male",
          "Male",
          "Male",
          "Male",
          "Male",
          "Male",
          "Male",
          "Male",
          "Male",
          "Male",
          "Male",
          "Male",
          "Male",
          "Male",
          "Male",
          "Male",
          "Male",
          "Male",
          "Male",
          "Male",
          "Male",
          "Male",
          "Male",
          "Male",
          "Male",
          "Male",
          "Male",
          "Male",
          "Male",
          "Male",
          "Male",
          "Male",
          "Male",
          "Male",
          "Male",
          "Male",
          "Male",
          "Male",
          "Male",
          "Male",
          "Male",
          "Male",
          "Male",
          "Male",
          "Male",
          "Male",
          "Male",
          "Male",
          "Male",
          "Male",
          "Male",
          "Male",
          "Male",
          "Male",
          "Male",
          "Male",
          "Male",
          "Male",
          "Male",
          "Male",
          "Male",
          "Male",
          "Male",
          "Male",
          "Male",
          "Male",
          "Male",
          "Male",
          "Male",
          "Male",
          "Male",
          "Male",
          "Male",
          "Male",
          "Male",
          "Male",
          "Male",
          "Male",
          "Male",
          "Male",
          "Male",
          "Male",
          "Male",
          "Male",
          "Male",
          "Male",
          "Male",
          "Male",
          "Male",
          "Male",
          "Male",
          "Male",
          "Male",
          "Male",
          "Male",
          "Male",
          "Male",
          "Male",
          "Male",
          "Male",
          "Male",
          "Male",
          "Male",
          "Male",
          "Male",
          "Male",
          "Male",
          "Male",
          "Male",
          "Male",
          "Male",
          "Male",
          "Male",
          "Male",
          "Male",
          "Male",
          "Male",
          "Male",
          "Male",
          "Male",
          "Male",
          "Male",
          "Male",
          "Male",
          "Male",
          "Male",
          "Male",
          "Male",
          "Male",
          "Male",
          "Male",
          "Male",
          "Male",
          "Male",
          "Male",
          "Male",
          "Male",
          "Male",
          "Male",
          "Male",
          "Male",
          "Male",
          "Male",
          "Male",
          "Male",
          "Male",
          "Male",
          "Male",
          "Male",
          "Male",
          "Male",
          "Male",
          "Male",
          "Male",
          "Male",
          "Male",
          "Male",
          "Male",
          "Male",
          "Male",
          "Male",
          "Male",
          "Male",
          "Male",
          "Male",
          "Male",
          "Male",
          "Male",
          "Male",
          "Male",
          "Male",
          "Male",
          "Male",
          "Male",
          "Male",
          "Male",
          "Male",
          "Male",
          "Male",
          "Male",
          "Male",
          "Male",
          "Male",
          "Male",
          "Male",
          "Male",
          "Male",
          "Male",
          "Male",
          "Male",
          "Male",
          "Male",
          "Male",
          "Male",
          "Male",
          "Male",
          "Male",
          "Male",
          "Male",
          "Male",
          "Male",
          "Male",
          "Male",
          "Male",
          "Male",
          "Male",
          "Male",
          "Male",
          "Male",
          "Male",
          "Male",
          "Male",
          "Male",
          "Male",
          "Male",
          "Male",
          "Male",
          "Male",
          "Male",
          "Male",
          "Male",
          "Male",
          "Male",
          "Male",
          "Male",
          "Male",
          "Male",
          "Male",
          "Male",
          "Male",
          "Male",
          "Male",
          "Male",
          "Male",
          "Male",
          "Male",
          "Male",
          "Male",
          "Male",
          "Male",
          "Male",
          "Male",
          "Male",
          "Male",
          "Male",
          "Male",
          "Male",
          "Male",
          "Male",
          "Male",
          "Male",
          "Male",
          "Male",
          "Male",
          "Male",
          "Male",
          "Male",
          "Male",
          "Male",
          "Male",
          "Male",
          "Male",
          "Male",
          "Male",
          "Male",
          "Male",
          "Male",
          "Male",
          "Male",
          "Male",
          "Male",
          "Male",
          "Male",
          "Male",
          "Male",
          "Male",
          "Male",
          "Male",
          "Male",
          "Male",
          "Male",
          "Male",
          "Male",
          "Male",
          "Male",
          "Male",
          "Male",
          "Male",
          "Male",
          "Male",
          "Male",
          "Male",
          "Male",
          "Male",
          "Male",
          "Male",
          "Male",
          "Male",
          "Male",
          "Male",
          "Male",
          "Male",
          "Male",
          "Male",
          "Male",
          "Male",
          "Male",
          "Male",
          "Male",
          "Male",
          "Male",
          "Male",
          "Male",
          "Male",
          "Male",
          "Male",
          "Male",
          "Male",
          "Male",
          "Male",
          "Male",
          "Male",
          "Male",
          "Male",
          "Male",
          "Male",
          "Male",
          "Male",
          "Male",
          "Male",
          "Male",
          "Male",
          "Male",
          "Male",
          "Male",
          "Male",
          "Male",
          "Male",
          "Male",
          "Male",
          "Male",
          "Male",
          "Male",
          "Male",
          "Male",
          "Male",
          "Male",
          "Male",
          "Male",
          "Male",
          "Male",
          "Male",
          "Male",
          "Male",
          "Male",
          "Male",
          "Male",
          "Male",
          "Male",
          "Male",
          "Male",
          "Male",
          "Male",
          "Male",
          "Male",
          "Male",
          "Male",
          "Male",
          "Male",
          "Male",
          "Male",
          "Male",
          "Male",
          "Male",
          "Male",
          "Male",
          "Male",
          "Male",
          "Male",
          "Male",
          "Male",
          "Male",
          "Male",
          "Male",
          "Male",
          "Male",
          "Male",
          "Male",
          "Male",
          "Male",
          "Male",
          "Male",
          "Male",
          "Male",
          "Male",
          "Male",
          "Male",
          "Male",
          "Male",
          "Male",
          "Male",
          "Male",
          "Male",
          "Male",
          "Male",
          "Male",
          "Male",
          "Male",
          "Male",
          "Male",
          "Male",
          "Male",
          "Male",
          "Male",
          "Male",
          "Male",
          "Male",
          "Male",
          "Male",
          "Male",
          "Male",
          "Male",
          "Male",
          "Male",
          "Male",
          "Male",
          "Male",
          "Male",
          "Male",
          "Male",
          "Male",
          "Male",
          "Male",
          "Male",
          "Male",
          "Male",
          "Male",
          "Male",
          "Male",
          "Male",
          "Male",
          "Male",
          "Male",
          "Male",
          "Male",
          "Male",
          "Male",
          "Male",
          "Male",
          "Male",
          "Male",
          "Male",
          "Male",
          "Male",
          "Male",
          "Male",
          "Male",
          "Male",
          "Male",
          "Male",
          "Male",
          "Male",
          "Male",
          "Male",
          "Male",
          "Male",
          "Male",
          "Male",
          "Male",
          "Male",
          "Male",
          "Male",
          "Male",
          "Male",
          "Male",
          "Male",
          "Male",
          "Male",
          "Male",
          "Male",
          "Male",
          "Male",
          "Male",
          "Male",
          "Male",
          "Male",
          "Male",
          "Male",
          "Male",
          "Male",
          "Male",
          "Male",
          "Male",
          "Male",
          "Male",
          "Male",
          "Male",
          "Male",
          "Male",
          "Male",
          "Male",
          "Male",
          "Male",
          "Male",
          "Male",
          "Male",
          "Male",
          "Male",
          "Male",
          "Male",
          "Male",
          "Male",
          "Male",
          "Male",
          "Male",
          "Male",
          "Male",
          "Male",
          "Male",
          "Male",
          "Male",
          "Male",
          "Male",
          "Male",
          "Male",
          "Male",
          "Male",
          "Male",
          "Male",
          "Male",
          "Male",
          "Male",
          "Male",
          "Male",
          "Male",
          "Male",
          "Male",
          "Male",
          "Male",
          "Male",
          "Male",
          "Male",
          "Male",
          "Male",
          "Male",
          "Male",
          "Male",
          "Male",
          "Male",
          "Male",
          "Male",
          "Male",
          "Male",
          "Male",
          "Male",
          "Male",
          "Male",
          "Male",
          "Male",
          "Male",
          "Male",
          "Male",
          "Male",
          "Male",
          "Male",
          "Male",
          "Male",
          "Male",
          "Male",
          "Male",
          "Male",
          "Male",
          "Male",
          "Male",
          "Male",
          "Male",
          "Male",
          "Male",
          "Male",
          "Male",
          "Male",
          "Male",
          "Male",
          "Male",
          "Male",
          "Male",
          "Male",
          "Male",
          "Male",
          "Male",
          "Male",
          "Male",
          "Male",
          "Male",
          "Male",
          "Male",
          "Male",
          "Male",
          "Male",
          "Male",
          "Male",
          "Male",
          "Male",
          "Male",
          "Male",
          "Male",
          "Male",
          "Male",
          "Male",
          "Male",
          "Male",
          "Male",
          "Male",
          "Male",
          "Male",
          "Male",
          "Male",
          "Male",
          "Male",
          "Male",
          "Male",
          "Male",
          "Male",
          "Male",
          "Male",
          "Male",
          "Male",
          "Male",
          "Male",
          "Male",
          "Male",
          "Male",
          "Male",
          "Male",
          "Male",
          "Male",
          "Male",
          "Male",
          "Male",
          "Male",
          "Male",
          "Male",
          "Male",
          "Male",
          "Male",
          "Male",
          "Male",
          "Male",
          "Male",
          "Male",
          "Male",
          "Male",
          "Male",
          "Male",
          "Male",
          "Male",
          "Male",
          "Male",
          "Male",
          "Male",
          "Male",
          "Male",
          "Male",
          "Male",
          "Male",
          "Male",
          "Male",
          "Male",
          "Male",
          "Male",
          "Male",
          "Male",
          "Male",
          "Male",
          "Male",
          "Male",
          "Male",
          "Male",
          "Male",
          "Male",
          "Male",
          "Male",
          "Male",
          "Male",
          "Male",
          "Male",
          "Male",
          "Male",
          "Male",
          "Male",
          "Male",
          "Male",
          "Male",
          "Male",
          "Male",
          "Male",
          "Male",
          "Male",
          "Male",
          "Male",
          "Male",
          "Male",
          "Male",
          "Male",
          "Male",
          "Male",
          "Male",
          "Male",
          "Male",
          "Male",
          "Male",
          "Male",
          "Male",
          "Male",
          "Male",
          "Male",
          "Male",
          "Male",
          "Male",
          "Male",
          "Male",
          "Male",
          "Male",
          "Male",
          "Male",
          "Male",
          "Male",
          "Male",
          "Male",
          "Male",
          "Male",
          "Male",
          "Male",
          "Male",
          "Male",
          "Male",
          "Male",
          "Male",
          "Male",
          "Male",
          "Male",
          "Male",
          "Male",
          "Male",
          "Male",
          "Male",
          "Male",
          "Male",
          "Male",
          "Male",
          "Male",
          "Male",
          "Male",
          "Male",
          "Male",
          "Male",
          "Male",
          "Male",
          "Male",
          "Male",
          "Male",
          "Male",
          "Male",
          "Male",
          "Male",
          "Male",
          "Male",
          "Male",
          "Male",
          "Male",
          "Male",
          "Male",
          "Male",
          "Male",
          "Male",
          "Male",
          "Male",
          "Male",
          "Male",
          "Male",
          "Male",
          "Male",
          "Male",
          "Male",
          "Male",
          "Male",
          "Male",
          "Male",
          "Male",
          "Male",
          "Male",
          "Male",
          "Male",
          "Male",
          "Male",
          "Male",
          "Male",
          "Male",
          "Male",
          "Male",
          "Male",
          "Male",
          "Male",
          "Male",
          "Male",
          "Male",
          "Male",
          "Male",
          "Male",
          "Male",
          "Male",
          "Male",
          "Male",
          "Male",
          "Male",
          "Male",
          "Male",
          "Male",
          "Male",
          "Male",
          "Male",
          "Male",
          "Male",
          "Male",
          "Male",
          "Male",
          "Male",
          "Male",
          "Male",
          "Male",
          "Male",
          "Male",
          "Male",
          "Male",
          "Male",
          "Male",
          "Male",
          "Male",
          "Male",
          "Male",
          "Male",
          "Male",
          "Male",
          "Male",
          "Male",
          "Male",
          "Male",
          "Male",
          "Male",
          "Male",
          "Male",
          "Male",
          "Male",
          "Male",
          "Male",
          "Male",
          "Male",
          "Male",
          "Male",
          "Male",
          "Male",
          "Male",
          "Male",
          "Male",
          "Male",
          "Male",
          "Male",
          "Male",
          "Male",
          "Male",
          "Male",
          "Male",
          "Male",
          "Male",
          "Male",
          "Male",
          "Male",
          "Male",
          "Male",
          "Male",
          "Male",
          "Male",
          "Male",
          "Male",
          "Male",
          "Male",
          "Male",
          "Male",
          "Male",
          "Male",
          "Male",
          "Male",
          "Male",
          "Male",
          "Male",
          "Male",
          "Male",
          "Male",
          "Male",
          "Male",
          "Male",
          "Male",
          "Male",
          "Male",
          "Male",
          "Male",
          "Male",
          "Male",
          "Male",
          "Male",
          "Male",
          "Male",
          "Male",
          "Male",
          "Male",
          "Male",
          "Male",
          "Male",
          "Male",
          "Male",
          "Male",
          "Male",
          "Male",
          "Male",
          "Male",
          "Male",
          "Male",
          "Male",
          "Male",
          "Male",
          "Male",
          "Male",
          "Male",
          "Male",
          "Male",
          "Male",
          "Male",
          "Male",
          "Male",
          "Male",
          "Male",
          "Male",
          "Male",
          "Male",
          "Male",
          "Male",
          "Male",
          "Male",
          "Male",
          "Male",
          "Male",
          "Male",
          "Male",
          "Male",
          "Male",
          "Male",
          "Male",
          "Male",
          "Male",
          "Male",
          "Male",
          "Male",
          "Male",
          "Male",
          "Male",
          "Male",
          "Male",
          "Male",
          "Male",
          "Male",
          "Male",
          "Male",
          "Male",
          "Male",
          "Male",
          "Male",
          "Male",
          "Male",
          "Male",
          "Male",
          "Male",
          "Male",
          "Male",
          "Male",
          "Male",
          "Male",
          "Male",
          "Male",
          "Male",
          "Male",
          "Male",
          "Male",
          "Male",
          "Male",
          "Male",
          "Male",
          "Male",
          "Male",
          "Male",
          "Male",
          "Male",
          "Male",
          "Male",
          "Male",
          "Male",
          "Male",
          "Male",
          "Male",
          "Male",
          "Male",
          "Male",
          "Male",
          "Male",
          "Male",
          "Male",
          "Male",
          "Male",
          "Male",
          "Male",
          "Male",
          "Male",
          "Male",
          "Male",
          "Male",
          "Male",
          "Male",
          "Male",
          "Male",
          "Male",
          "Male",
          "Male",
          "Male",
          "Male",
          "Male",
          "Male",
          "Male",
          "Male",
          "Male",
          "Male",
          "Male",
          "Male",
          "Male",
          "Male",
          "Male",
          "Male",
          "Male",
          "Male",
          "Male",
          "Male",
          "Male",
          "Male",
          "Male",
          "Male",
          "Male",
          "Male",
          "Male",
          "Male",
          "Male",
          "Male",
          "Male",
          "Male",
          "Male",
          "Male",
          "Male",
          "Male",
          "Male",
          "Male",
          "Male",
          "Male",
          "Male",
          "Male",
          "Male",
          "Male",
          "Male",
          "Male",
          "Male",
          "Male",
          "Male",
          "Male",
          "Male",
          "Male",
          "Male",
          "Male",
          "Male",
          "Male",
          "Male",
          "Male",
          "Male",
          "Male",
          "Male",
          "Male",
          "Male",
          "Male",
          "Male",
          "Male",
          "Male",
          "Male",
          "Male",
          "Male",
          "Male",
          "Male",
          "Male",
          "Male",
          "Male",
          "Male",
          "Male",
          "Male",
          "Male",
          "Male",
          "Male",
          "Male",
          "Male",
          "Male",
          "Male",
          "Male",
          "Male",
          "Male",
          "Male",
          "Male",
          "Male",
          "Male",
          "Male",
          "Male",
          "Male",
          "Male",
          "Male",
          "Male",
          "Male",
          "Male",
          "Male",
          "Male",
          "Male",
          "Male",
          "Male",
          "Male",
          "Male",
          "Male",
          "Male",
          "Male",
          "Male",
          "Male",
          "Male",
          "Male",
          "Male",
          "Male",
          "Male",
          "Male",
          "Male",
          "Male",
          "Male",
          "Male",
          "Male",
          "Male",
          "Male",
          "Male",
          "Male",
          "Male",
          "Male",
          "Male",
          "Male",
          "Male",
          "Male",
          "Male",
          "Male",
          "Male",
          "Male",
          "Male",
          "Male",
          "Male",
          "Male",
          "Male",
          "Male",
          "Male",
          "Male",
          "Male",
          "Male",
          "Male",
          "Male",
          "Male",
          "Male",
          "Male",
          "Male",
          "Male",
          "Male",
          "Male",
          "Male",
          "Male",
          "Male",
          "Male",
          "Male",
          "Male",
          "Male",
          "Male",
          "Male",
          "Male",
          "Male",
          "Male",
          "Male",
          "Male",
          "Male",
          "Male",
          "Male",
          "Male",
          "Male",
          "Male",
          "Male",
          "Male",
          "Male",
          "Male",
          "Male",
          "Male",
          "Male",
          "Male",
          "Male",
          "Male",
          "Male",
          "Male",
          "Male",
          "Male",
          "Male",
          "Male",
          "Male",
          "Male",
          "Male",
          "Male",
          "Male",
          "Male",
          "Male",
          "Male",
          "Male",
          "Male",
          "Male",
          "Male",
          "Male",
          "Male",
          "Male",
          "Male",
          "Male",
          "Male",
          "Male",
          "Male",
          "Male",
          "Male",
          "Male",
          "Male",
          "Male",
          "Male",
          "Male",
          "Male",
          "Male",
          "Male",
          "Male",
          "Male",
          "Male",
          "Male",
          "Male",
          "Male",
          "Male",
          "Male",
          "Male",
          "Male",
          "Male",
          "Male",
          "Male",
          "Male",
          "Male",
          "Male",
          "Male",
          "Male",
          "Male",
          "Male",
          "Male",
          "Male",
          "Male",
          "Male",
          "Male",
          "Male",
          "Male",
          "Male",
          "Male",
          "Male",
          "Male",
          "Male",
          "Male",
          "Male",
          "Male",
          "Male",
          "Male",
          "Male",
          "Male",
          "Male",
          "Male",
          "Male",
          "Male",
          "Male",
          "Male",
          "Male",
          "Male",
          "Male",
          "Male",
          "Male",
          "Male",
          "Male",
          "Male",
          "Male",
          "Male",
          "Male",
          "Male",
          "Male",
          "Male",
          "Male",
          "Male",
          "Male",
          "Male",
          "Male",
          "Male",
          "Male",
          "Male",
          "Male",
          "Male",
          "Male",
          "Male",
          "Male",
          "Male",
          "Male",
          "Male",
          "Male",
          "Male",
          "Male",
          "Male",
          "Male",
          "Male",
          "Male",
          "Male",
          "Male",
          "Male",
          "Male",
          "Male",
          "Male",
          "Male",
          "Male",
          "Male",
          "Male",
          "Male",
          "Male",
          "Male",
          "Male",
          "Male",
          "Male",
          "Male",
          "Male",
          "Male",
          "Male",
          "Male",
          "Male",
          "Male",
          "Male",
          "Male",
          "Male",
          "Male",
          "Male",
          "Male",
          "Male",
          "Male",
          "Male",
          "Male",
          "Male",
          "Male",
          "Male",
          "Male",
          "Male",
          "Male",
          "Male",
          "Male",
          "Male",
          "Male",
          "Male",
          "Male",
          "Male",
          "Male",
          "Male",
          "Male",
          "Male",
          "Male",
          "Male",
          "Male",
          "Male",
          "Male",
          "Male",
          "Male",
          "Male",
          "Male",
          "Male",
          "Male",
          "Male",
          "Male",
          "Male",
          "Male",
          "Male",
          "Male",
          "Male",
          "Male",
          "Male",
          "Male",
          "Male",
          "Male",
          "Male",
          "Male",
          "Male",
          "Male",
          "Male",
          "Male",
          "Male",
          "Male",
          "Male",
          "Male",
          "Male",
          "Male",
          "Male",
          "Male",
          "Male",
          "Male",
          "Male",
          "Male",
          "Male",
          "Male",
          "Male",
          "Male",
          "Male",
          "Male",
          "Male",
          "Male",
          "Male",
          "Male",
          "Male",
          "Male",
          "Male",
          "Male",
          "Male",
          "Male",
          "Male",
          "Male",
          "Male",
          "Male",
          "Male",
          "Male",
          "Male",
          "Male",
          "Male",
          "Male",
          "Male",
          "Male",
          "Male",
          "Male",
          "Male",
          "Male",
          "Male",
          "Male",
          "Male",
          "Male",
          "Male",
          "Male",
          "Male",
          "Male",
          "Male",
          "Male",
          "Male",
          "Male",
          "Male",
          "Male",
          "Male",
          "Male",
          "Male",
          "Male",
          "Male",
          "Male",
          "Male",
          "Male",
          "Male",
          "Male",
          "Male",
          "Male",
          "Male",
          "Male",
          "Male",
          "Male",
          "Male",
          "Male",
          "Male",
          "Male",
          "Male",
          "Male",
          "Male",
          "Male",
          "Male",
          "Male",
          "Male",
          "Male",
          "Male",
          "Male",
          "Male",
          "Male",
          "Male",
          "Male",
          "Male",
          "Male",
          "Male",
          "Male",
          "Male",
          "Male",
          "Male",
          "Male",
          "Male",
          "Male",
          "Male",
          "Male",
          "Male",
          "Male",
          "Male",
          "Male",
          "Male",
          "Male",
          "Male",
          "Male",
          "Male",
          "Male",
          "Male",
          "Male",
          "Male",
          "Male",
          "Male",
          "Male",
          "Male",
          "Male",
          "Male",
          "Male",
          "Male",
          "Male",
          "Male",
          "Male",
          "Male",
          "Male",
          "Male",
          "Male",
          "Male",
          "Male",
          "Male",
          "Male",
          "Male",
          "Male",
          "Male",
          "Male",
          "Male",
          "Male",
          "Male",
          "Male",
          "Male",
          "Male",
          "Male",
          "Male",
          "Male",
          "Male",
          "Male",
          "Male",
          "Male",
          "Male",
          "Male",
          "Male",
          "Male",
          "Male",
          "Male",
          "Male",
          "Male",
          "Male",
          "Male",
          "Male",
          "Male",
          "Male",
          "Male",
          "Male",
          "Male",
          "Male",
          "Male",
          "Male",
          "Male",
          "Male",
          "Male",
          "Male",
          "Male",
          "Male",
          "Male",
          "Male",
          "Male",
          "Male",
          "Male",
          "Male",
          "Male",
          "Male",
          "Male",
          "Male",
          "Male",
          "Male",
          "Male",
          "Male",
          "Male",
          "Male",
          "Male",
          "Male",
          "Male",
          "Male",
          "Male",
          "Male",
          "Male",
          "Male",
          "Male",
          "Male",
          "Male",
          "Male",
          "Male",
          "Male",
          "Male",
          "Male",
          "Male",
          "Male",
          "Male",
          "Male",
          "Male",
          "Male",
          "Male",
          "Male",
          "Male",
          "Male",
          "Male",
          "Male",
          "Male",
          "Male",
          "Male",
          "Male",
          "Male",
          "Male",
          "Male",
          "Male",
          "Male",
          "Male",
          "Male",
          "Male",
          "Male",
          "Male",
          "Male",
          "Male",
          "Male",
          "Male",
          "Male",
          "Male",
          "Male",
          "Male",
          "Male",
          "Male",
          "Male",
          "Male",
          "Male",
          "Male",
          "Male",
          "Male",
          "Male",
          "Male",
          "Male",
          "Male",
          "Male",
          "Male",
          "Male",
          "Male",
          "Male",
          "Male",
          "Male",
          "Male",
          "Male",
          "Male",
          "Male",
          "Male",
          "Male",
          "Male",
          "Male",
          "Male",
          "Male",
          "Male",
          "Male",
          "Male",
          "Male",
          "Male",
          "Male",
          "Male",
          "Male",
          "Male",
          "Male",
          "Male",
          "Male",
          "Male",
          "Male",
          "Male",
          "Male",
          "Male",
          "Male",
          "Male",
          "Male",
          "Male",
          "Male",
          "Male",
          "Male",
          "Male",
          "Male",
          "Male",
          "Male",
          "Male",
          "Male",
          "Male",
          "Male",
          "Male",
          "Male",
          "Male",
          "Male",
          "Male",
          "Male",
          "Male",
          "Male",
          "Male",
          "Male",
          "Male",
          "Male",
          "Male",
          "Male",
          "Male",
          "Male",
          "Male",
          "Male",
          "Male",
          "Male",
          "Male",
          "Male",
          "Male",
          "Male",
          "Male",
          "Male",
          "Male",
          "Male",
          "Male",
          "Male",
          "Male",
          "Male",
          "Male",
          "Male",
          "Male",
          "Male",
          "Male",
          "Male",
          "Male",
          "Male",
          "Male",
          "Male",
          "Male",
          "Male",
          "Male",
          "Male",
          "Male",
          "Male",
          "Male",
          "Male",
          "Male",
          "Male",
          "Male",
          "Male",
          "Male",
          "Male",
          "Male",
          "Male",
          "Male",
          "Male",
          "Male",
          "Male",
          "Male",
          "Male",
          "Male",
          "Male",
          "Male",
          "Male",
          "Male",
          "Male",
          "Male",
          "Male",
          "Male",
          "Male",
          "Male",
          "Male",
          "Male",
          "Male",
          "Male",
          "Male",
          "Male",
          "Male",
          "Male",
          "Male",
          "Male",
          "Male",
          "Male",
          "Male",
          "Male",
          "Male",
          "Male",
          "Male",
          "Male",
          "Male",
          "Male",
          "Male",
          "Male",
          "Male",
          "Male",
          "Male",
          "Male",
          "Male",
          "Male",
          "Male",
          "Male",
          "Male",
          "Male",
          "Male",
          "Male",
          "Male",
          "Male",
          "Male",
          "Male",
          "Male",
          "Male",
          "Male",
          "Male",
          "Male",
          "Male",
          "Male",
          "Male",
          "Male",
          "Male",
          "Male",
          "Male",
          "Male",
          "Male",
          "Male",
          "Male",
          "Male",
          "Male",
          "Male",
          "Male",
          "Male",
          "Male",
          "Male",
          "Male",
          "Male",
          "Male",
          "Male",
          "Male",
          "Male",
          "Male",
          "Male",
          "Male",
          "Male",
          "Male",
          "Male",
          "Male",
          "Male",
          "Male",
          "Male",
          "Male",
          "Male",
          "Male",
          "Male",
          "Male",
          "Male",
          "Male",
          "Male",
          "Male",
          "Male",
          "Male",
          "Male",
          "Male",
          "Male",
          "Male",
          "Male",
          "Male",
          "Male",
          "Male",
          "Male",
          "Male",
          "Male",
          "Male",
          "Male",
          "Male",
          "Male",
          "Male",
          "Male",
          "Male",
          "Male",
          "Male",
          "Male",
          "Male",
          "Male",
          "Male",
          "Male",
          "Male",
          "Male",
          "Male",
          "Male",
          "Male",
          "Male",
          "Male",
          "Male",
          "Male",
          "Male",
          "Male",
          "Male",
          "Male",
          "Male",
          "Male",
          "Male",
          "Male",
          "Male",
          "Male",
          "Male",
          "Male",
          "Male",
          "Male",
          "Male",
          "Male",
          "Male",
          "Male",
          "Male",
          "Male",
          "Male",
          "Male",
          "Male",
          "Male",
          "Male",
          "Male",
          "Male",
          "Male",
          "Male",
          "Male",
          "Male",
          "Male",
          "Male",
          "Male",
          "Male",
          "Male",
          "Male",
          "Male",
          "Male",
          "Male",
          "Male",
          "Male",
          "Male",
          "Male",
          "Male",
          "Male",
          "Male",
          "Male",
          "Male",
          "Male",
          "Male",
          "Male",
          "Male",
          "Male",
          "Male",
          "Male",
          "Male",
          "Male",
          "Male",
          "Male",
          "Male",
          "Male",
          "Male",
          "Male",
          "Male",
          "Male",
          "Male",
          "Male",
          "Male",
          "Male",
          "Male",
          "Male",
          "Male",
          "Male",
          "Male",
          "Male",
          "Male",
          "Male",
          "Male",
          "Male",
          "Male",
          "Male",
          "Male",
          "Male",
          "Male",
          "Male",
          "Male",
          "Male",
          "Male",
          "Male",
          "Male",
          "Male",
          "Male",
          "Male",
          "Male",
          "Male",
          "Male",
          "Male",
          "Male",
          "Male",
          "Male",
          "Male",
          "Male",
          "Male",
          "Male",
          "Male",
          "Male",
          "Male",
          "Male",
          "Male",
          "Male",
          "Male",
          "Male",
          "Male",
          "Male",
          "Male",
          "Male",
          "Male",
          "Male",
          "Male",
          "Male",
          "Male",
          "Male",
          "Male",
          "Male",
          "Male",
          "Male",
          "Male",
          "Male",
          "Male",
          "Male",
          "Male"
         ],
         "xaxis": "x",
         "yaxis": "y"
        },
        {
         "bingroup": "x",
         "hovertemplate": "Gender=%{x}<br>count=%{y}<extra></extra>",
         "legendgroup": "Female",
         "marker": {
          "color": "#EF553B",
          "pattern": {
           "shape": ""
          }
         },
         "name": "Female",
         "orientation": "v",
         "showlegend": true,
         "type": "histogram",
         "x": [
          "Female",
          "Female",
          "Female",
          "Female",
          "Female",
          "Female",
          "Female",
          "Female",
          "Female",
          "Female",
          "Female",
          "Female",
          "Female",
          "Female",
          "Female",
          "Female",
          "Female",
          "Female",
          "Female",
          "Female",
          "Female",
          "Female",
          "Female",
          "Female",
          "Female",
          "Female",
          "Female",
          "Female",
          "Female",
          "Female",
          "Female",
          "Female",
          "Female",
          "Female",
          "Female",
          "Female",
          "Female",
          "Female",
          "Female",
          "Female",
          "Female",
          "Female",
          "Female",
          "Female",
          "Female",
          "Female",
          "Female",
          "Female",
          "Female",
          "Female",
          "Female",
          "Female",
          "Female",
          "Female",
          "Female",
          "Female",
          "Female",
          "Female",
          "Female",
          "Female",
          "Female",
          "Female",
          "Female",
          "Female",
          "Female",
          "Female",
          "Female",
          "Female",
          "Female",
          "Female",
          "Female",
          "Female",
          "Female",
          "Female",
          "Female",
          "Female",
          "Female",
          "Female",
          "Female",
          "Female",
          "Female",
          "Female",
          "Female",
          "Female",
          "Female",
          "Female",
          "Female",
          "Female",
          "Female",
          "Female",
          "Female",
          "Female",
          "Female",
          "Female",
          "Female",
          "Female",
          "Female",
          "Female",
          "Female",
          "Female",
          "Female",
          "Female",
          "Female",
          "Female",
          "Female",
          "Female",
          "Female",
          "Female",
          "Female",
          "Female",
          "Female",
          "Female",
          "Female",
          "Female",
          "Female",
          "Female",
          "Female",
          "Female",
          "Female",
          "Female",
          "Female",
          "Female",
          "Female",
          "Female",
          "Female",
          "Female",
          "Female",
          "Female",
          "Female",
          "Female",
          "Female",
          "Female",
          "Female",
          "Female",
          "Female",
          "Female",
          "Female",
          "Female",
          "Female",
          "Female",
          "Female",
          "Female",
          "Female",
          "Female",
          "Female",
          "Female",
          "Female",
          "Female",
          "Female",
          "Female",
          "Female",
          "Female",
          "Female",
          "Female",
          "Female",
          "Female",
          "Female",
          "Female",
          "Female",
          "Female",
          "Female",
          "Female",
          "Female",
          "Female",
          "Female",
          "Female",
          "Female",
          "Female",
          "Female",
          "Female",
          "Female",
          "Female",
          "Female",
          "Female",
          "Female",
          "Female",
          "Female",
          "Female",
          "Female",
          "Female",
          "Female",
          "Female",
          "Female",
          "Female",
          "Female",
          "Female",
          "Female",
          "Female",
          "Female",
          "Female",
          "Female",
          "Female",
          "Female",
          "Female",
          "Female",
          "Female",
          "Female",
          "Female",
          "Female",
          "Female",
          "Female",
          "Female",
          "Female",
          "Female",
          "Female",
          "Female",
          "Female",
          "Female",
          "Female",
          "Female",
          "Female",
          "Female",
          "Female",
          "Female",
          "Female",
          "Female",
          "Female",
          "Female",
          "Female",
          "Female",
          "Female",
          "Female",
          "Female",
          "Female",
          "Female",
          "Female",
          "Female",
          "Female",
          "Female",
          "Female",
          "Female",
          "Female",
          "Female",
          "Female",
          "Female",
          "Female",
          "Female",
          "Female",
          "Female",
          "Female",
          "Female",
          "Female",
          "Female",
          "Female",
          "Female",
          "Female",
          "Female",
          "Female",
          "Female",
          "Female",
          "Female",
          "Female",
          "Female",
          "Female",
          "Female",
          "Female",
          "Female",
          "Female",
          "Female",
          "Female",
          "Female",
          "Female",
          "Female",
          "Female",
          "Female",
          "Female",
          "Female",
          "Female",
          "Female",
          "Female",
          "Female",
          "Female",
          "Female",
          "Female",
          "Female",
          "Female",
          "Female",
          "Female",
          "Female",
          "Female",
          "Female",
          "Female",
          "Female",
          "Female",
          "Female",
          "Female",
          "Female",
          "Female",
          "Female",
          "Female",
          "Female",
          "Female",
          "Female",
          "Female",
          "Female",
          "Female",
          "Female",
          "Female",
          "Female",
          "Female",
          "Female",
          "Female",
          "Female",
          "Female",
          "Female",
          "Female",
          "Female",
          "Female",
          "Female",
          "Female",
          "Female",
          "Female",
          "Female",
          "Female",
          "Female",
          "Female",
          "Female",
          "Female",
          "Female",
          "Female",
          "Female",
          "Female",
          "Female",
          "Female",
          "Female",
          "Female",
          "Female",
          "Female",
          "Female",
          "Female",
          "Female",
          "Female",
          "Female",
          "Female",
          "Female",
          "Female",
          "Female",
          "Female",
          "Female",
          "Female",
          "Female",
          "Female",
          "Female",
          "Female",
          "Female",
          "Female",
          "Female",
          "Female",
          "Female",
          "Female",
          "Female",
          "Female",
          "Female",
          "Female",
          "Female",
          "Female",
          "Female",
          "Female",
          "Female",
          "Female",
          "Female",
          "Female",
          "Female",
          "Female",
          "Female",
          "Female",
          "Female",
          "Female",
          "Female",
          "Female",
          "Female",
          "Female",
          "Female",
          "Female",
          "Female",
          "Female",
          "Female",
          "Female",
          "Female",
          "Female",
          "Female",
          "Female",
          "Female",
          "Female",
          "Female",
          "Female",
          "Female",
          "Female",
          "Female",
          "Female",
          "Female",
          "Female",
          "Female",
          "Female",
          "Female",
          "Female",
          "Female",
          "Female",
          "Female",
          "Female",
          "Female",
          "Female",
          "Female",
          "Female",
          "Female",
          "Female",
          "Female",
          "Female",
          "Female",
          "Female",
          "Female",
          "Female",
          "Female",
          "Female",
          "Female",
          "Female",
          "Female",
          "Female",
          "Female",
          "Female",
          "Female",
          "Female",
          "Female",
          "Female",
          "Female",
          "Female",
          "Female",
          "Female",
          "Female",
          "Female",
          "Female",
          "Female",
          "Female",
          "Female",
          "Female",
          "Female",
          "Female",
          "Female",
          "Female",
          "Female",
          "Female",
          "Female",
          "Female",
          "Female",
          "Female",
          "Female",
          "Female",
          "Female",
          "Female",
          "Female",
          "Female",
          "Female",
          "Female",
          "Female",
          "Female",
          "Female",
          "Female",
          "Female",
          "Female",
          "Female",
          "Female",
          "Female",
          "Female",
          "Female",
          "Female",
          "Female",
          "Female",
          "Female",
          "Female",
          "Female",
          "Female",
          "Female",
          "Female",
          "Female",
          "Female",
          "Female",
          "Female",
          "Female",
          "Female",
          "Female",
          "Female",
          "Female",
          "Female",
          "Female",
          "Female",
          "Female",
          "Female",
          "Female",
          "Female",
          "Female",
          "Female",
          "Female",
          "Female",
          "Female",
          "Female",
          "Female",
          "Female",
          "Female",
          "Female",
          "Female",
          "Female",
          "Female",
          "Female",
          "Female",
          "Female",
          "Female",
          "Female",
          "Female",
          "Female",
          "Female",
          "Female",
          "Female",
          "Female",
          "Female",
          "Female",
          "Female",
          "Female",
          "Female",
          "Female",
          "Female",
          "Female",
          "Female",
          "Female",
          "Female",
          "Female",
          "Female",
          "Female",
          "Female",
          "Female",
          "Female",
          "Female",
          "Female",
          "Female",
          "Female",
          "Female",
          "Female",
          "Female",
          "Female",
          "Female",
          "Female",
          "Female",
          "Female",
          "Female",
          "Female",
          "Female",
          "Female",
          "Female",
          "Female",
          "Female",
          "Female",
          "Female",
          "Female",
          "Female",
          "Female",
          "Female",
          "Female",
          "Female",
          "Female",
          "Female",
          "Female",
          "Female",
          "Female",
          "Female",
          "Female",
          "Female",
          "Female",
          "Female",
          "Female",
          "Female",
          "Female",
          "Female",
          "Female",
          "Female",
          "Female",
          "Female",
          "Female",
          "Female",
          "Female",
          "Female",
          "Female",
          "Female",
          "Female",
          "Female",
          "Female",
          "Female",
          "Female",
          "Female",
          "Female",
          "Female",
          "Female",
          "Female",
          "Female",
          "Female",
          "Female",
          "Female",
          "Female",
          "Female",
          "Female",
          "Female",
          "Female",
          "Female",
          "Female",
          "Female",
          "Female",
          "Female",
          "Female",
          "Female",
          "Female",
          "Female",
          "Female",
          "Female",
          "Female",
          "Female",
          "Female",
          "Female",
          "Female",
          "Female",
          "Female",
          "Female",
          "Female",
          "Female",
          "Female",
          "Female",
          "Female",
          "Female",
          "Female",
          "Female",
          "Female",
          "Female",
          "Female",
          "Female",
          "Female",
          "Female",
          "Female",
          "Female",
          "Female",
          "Female",
          "Female",
          "Female",
          "Female",
          "Female",
          "Female",
          "Female",
          "Female",
          "Female",
          "Female",
          "Female",
          "Female",
          "Female",
          "Female",
          "Female",
          "Female",
          "Female",
          "Female",
          "Female",
          "Female",
          "Female",
          "Female",
          "Female",
          "Female",
          "Female",
          "Female",
          "Female",
          "Female",
          "Female",
          "Female",
          "Female",
          "Female",
          "Female",
          "Female",
          "Female",
          "Female",
          "Female",
          "Female",
          "Female",
          "Female",
          "Female",
          "Female",
          "Female",
          "Female",
          "Female",
          "Female",
          "Female",
          "Female",
          "Female",
          "Female",
          "Female",
          "Female",
          "Female",
          "Female",
          "Female",
          "Female",
          "Female",
          "Female",
          "Female",
          "Female",
          "Female",
          "Female",
          "Female",
          "Female",
          "Female",
          "Female",
          "Female",
          "Female",
          "Female",
          "Female",
          "Female",
          "Female",
          "Female",
          "Female",
          "Female",
          "Female",
          "Female",
          "Female",
          "Female",
          "Female",
          "Female",
          "Female",
          "Female",
          "Female",
          "Female",
          "Female",
          "Female",
          "Female",
          "Female",
          "Female",
          "Female",
          "Female",
          "Female",
          "Female",
          "Female",
          "Female",
          "Female",
          "Female",
          "Female",
          "Female",
          "Female",
          "Female",
          "Female",
          "Female",
          "Female",
          "Female",
          "Female",
          "Female",
          "Female",
          "Female",
          "Female",
          "Female",
          "Female",
          "Female",
          "Female",
          "Female",
          "Female",
          "Female",
          "Female",
          "Female",
          "Female",
          "Female",
          "Female",
          "Female",
          "Female",
          "Female",
          "Female",
          "Female",
          "Female",
          "Female",
          "Female",
          "Female",
          "Female",
          "Female",
          "Female",
          "Female",
          "Female",
          "Female",
          "Female",
          "Female",
          "Female",
          "Female",
          "Female",
          "Female",
          "Female",
          "Female",
          "Female",
          "Female",
          "Female",
          "Female",
          "Female",
          "Female",
          "Female",
          "Female",
          "Female",
          "Female",
          "Female",
          "Female",
          "Female",
          "Female",
          "Female",
          "Female",
          "Female",
          "Female",
          "Female",
          "Female",
          "Female",
          "Female",
          "Female",
          "Female",
          "Female",
          "Female",
          "Female",
          "Female",
          "Female",
          "Female",
          "Female",
          "Female",
          "Female",
          "Female",
          "Female",
          "Female",
          "Female",
          "Female",
          "Female",
          "Female",
          "Female",
          "Female",
          "Female",
          "Female",
          "Female",
          "Female",
          "Female",
          "Female",
          "Female",
          "Female",
          "Female",
          "Female",
          "Female",
          "Female",
          "Female",
          "Female",
          "Female",
          "Female",
          "Female",
          "Female",
          "Female",
          "Female",
          "Female",
          "Female",
          "Female",
          "Female",
          "Female",
          "Female",
          "Female",
          "Female",
          "Female",
          "Female",
          "Female",
          "Female",
          "Female",
          "Female",
          "Female",
          "Female",
          "Female",
          "Female",
          "Female",
          "Female",
          "Female",
          "Female",
          "Female",
          "Female",
          "Female",
          "Female",
          "Female",
          "Female",
          "Female",
          "Female",
          "Female",
          "Female",
          "Female",
          "Female",
          "Female",
          "Female",
          "Female",
          "Female",
          "Female",
          "Female",
          "Female",
          "Female",
          "Female",
          "Female",
          "Female",
          "Female",
          "Female",
          "Female",
          "Female",
          "Female",
          "Female",
          "Female",
          "Female",
          "Female",
          "Female",
          "Female",
          "Female",
          "Female",
          "Female",
          "Female",
          "Female",
          "Female",
          "Female",
          "Female",
          "Female",
          "Female",
          "Female",
          "Female",
          "Female",
          "Female",
          "Female",
          "Female",
          "Female",
          "Female",
          "Female",
          "Female",
          "Female",
          "Female",
          "Female",
          "Female",
          "Female",
          "Female",
          "Female",
          "Female",
          "Female",
          "Female",
          "Female",
          "Female",
          "Female",
          "Female",
          "Female",
          "Female",
          "Female",
          "Female",
          "Female",
          "Female",
          "Female",
          "Female",
          "Female",
          "Female",
          "Female",
          "Female",
          "Female",
          "Female",
          "Female",
          "Female",
          "Female",
          "Female",
          "Female",
          "Female",
          "Female",
          "Female",
          "Female",
          "Female",
          "Female",
          "Female",
          "Female",
          "Female",
          "Female",
          "Female",
          "Female",
          "Female",
          "Female",
          "Female",
          "Female",
          "Female",
          "Female",
          "Female",
          "Female",
          "Female",
          "Female",
          "Female",
          "Female",
          "Female",
          "Female",
          "Female",
          "Female",
          "Female",
          "Female",
          "Female",
          "Female",
          "Female",
          "Female",
          "Female",
          "Female",
          "Female",
          "Female",
          "Female",
          "Female",
          "Female",
          "Female",
          "Female",
          "Female",
          "Female",
          "Female",
          "Female",
          "Female",
          "Female",
          "Female",
          "Female",
          "Female",
          "Female",
          "Female",
          "Female",
          "Female",
          "Female",
          "Female",
          "Female",
          "Female",
          "Female",
          "Female",
          "Female",
          "Female",
          "Female",
          "Female",
          "Female",
          "Female",
          "Female",
          "Female",
          "Female",
          "Female",
          "Female",
          "Female",
          "Female",
          "Female",
          "Female",
          "Female",
          "Female",
          "Female",
          "Female",
          "Female",
          "Female",
          "Female",
          "Female",
          "Female",
          "Female",
          "Female",
          "Female",
          "Female",
          "Female",
          "Female",
          "Female",
          "Female",
          "Female",
          "Female",
          "Female",
          "Female",
          "Female",
          "Female",
          "Female",
          "Female",
          "Female",
          "Female",
          "Female",
          "Female",
          "Female",
          "Female",
          "Female",
          "Female",
          "Female",
          "Female",
          "Female",
          "Female",
          "Female",
          "Female",
          "Female",
          "Female",
          "Female",
          "Female",
          "Female",
          "Female",
          "Female",
          "Female",
          "Female",
          "Female",
          "Female",
          "Female",
          "Female",
          "Female",
          "Female",
          "Female",
          "Female",
          "Female",
          "Female",
          "Female",
          "Female",
          "Female",
          "Female",
          "Female",
          "Female",
          "Female",
          "Female",
          "Female",
          "Female",
          "Female",
          "Female",
          "Female",
          "Female",
          "Female",
          "Female",
          "Female",
          "Female",
          "Female",
          "Female",
          "Female",
          "Female",
          "Female",
          "Female",
          "Female",
          "Female",
          "Female",
          "Female",
          "Female",
          "Female",
          "Female",
          "Female",
          "Female",
          "Female",
          "Female",
          "Female",
          "Female",
          "Female",
          "Female",
          "Female",
          "Female",
          "Female",
          "Female",
          "Female",
          "Female",
          "Female",
          "Female",
          "Female",
          "Female",
          "Female",
          "Female",
          "Female",
          "Female",
          "Female",
          "Female",
          "Female",
          "Female",
          "Female",
          "Female",
          "Female",
          "Female",
          "Female",
          "Female",
          "Female",
          "Female",
          "Female",
          "Female",
          "Female",
          "Female",
          "Female",
          "Female",
          "Female",
          "Female",
          "Female",
          "Female",
          "Female",
          "Female",
          "Female",
          "Female",
          "Female",
          "Female",
          "Female",
          "Female",
          "Female",
          "Female",
          "Female",
          "Female",
          "Female",
          "Female",
          "Female",
          "Female",
          "Female",
          "Female",
          "Female",
          "Female",
          "Female",
          "Female",
          "Female",
          "Female",
          "Female",
          "Female",
          "Female",
          "Female",
          "Female",
          "Female",
          "Female",
          "Female",
          "Female",
          "Female",
          "Female",
          "Female",
          "Female",
          "Female",
          "Female",
          "Female",
          "Female",
          "Female",
          "Female",
          "Female",
          "Female",
          "Female",
          "Female",
          "Female",
          "Female",
          "Female",
          "Female",
          "Female",
          "Female",
          "Female",
          "Female",
          "Female",
          "Female",
          "Female",
          "Female",
          "Female",
          "Female",
          "Female",
          "Female",
          "Female",
          "Female",
          "Female",
          "Female",
          "Female",
          "Female",
          "Female",
          "Female",
          "Female",
          "Female",
          "Female",
          "Female",
          "Female",
          "Female",
          "Female",
          "Female",
          "Female",
          "Female",
          "Female",
          "Female",
          "Female",
          "Female"
         ],
         "xaxis": "x",
         "yaxis": "y"
        }
       ],
       "layout": {
        "barmode": "relative",
        "legend": {
         "title": {
          "text": "Gender"
         },
         "tracegroupgap": 0
        },
        "template": {
         "data": {
          "bar": [
           {
            "error_x": {
             "color": "#2a3f5f"
            },
            "error_y": {
             "color": "#2a3f5f"
            },
            "marker": {
             "line": {
              "color": "#E5ECF6",
              "width": 0.5
             },
             "pattern": {
              "fillmode": "overlay",
              "size": 10,
              "solidity": 0.2
             }
            },
            "type": "bar"
           }
          ],
          "barpolar": [
           {
            "marker": {
             "line": {
              "color": "#E5ECF6",
              "width": 0.5
             },
             "pattern": {
              "fillmode": "overlay",
              "size": 10,
              "solidity": 0.2
             }
            },
            "type": "barpolar"
           }
          ],
          "carpet": [
           {
            "aaxis": {
             "endlinecolor": "#2a3f5f",
             "gridcolor": "white",
             "linecolor": "white",
             "minorgridcolor": "white",
             "startlinecolor": "#2a3f5f"
            },
            "baxis": {
             "endlinecolor": "#2a3f5f",
             "gridcolor": "white",
             "linecolor": "white",
             "minorgridcolor": "white",
             "startlinecolor": "#2a3f5f"
            },
            "type": "carpet"
           }
          ],
          "choropleth": [
           {
            "colorbar": {
             "outlinewidth": 0,
             "ticks": ""
            },
            "type": "choropleth"
           }
          ],
          "contour": [
           {
            "colorbar": {
             "outlinewidth": 0,
             "ticks": ""
            },
            "colorscale": [
             [
              0,
              "#0d0887"
             ],
             [
              0.1111111111111111,
              "#46039f"
             ],
             [
              0.2222222222222222,
              "#7201a8"
             ],
             [
              0.3333333333333333,
              "#9c179e"
             ],
             [
              0.4444444444444444,
              "#bd3786"
             ],
             [
              0.5555555555555556,
              "#d8576b"
             ],
             [
              0.6666666666666666,
              "#ed7953"
             ],
             [
              0.7777777777777778,
              "#fb9f3a"
             ],
             [
              0.8888888888888888,
              "#fdca26"
             ],
             [
              1,
              "#f0f921"
             ]
            ],
            "type": "contour"
           }
          ],
          "contourcarpet": [
           {
            "colorbar": {
             "outlinewidth": 0,
             "ticks": ""
            },
            "type": "contourcarpet"
           }
          ],
          "heatmap": [
           {
            "colorbar": {
             "outlinewidth": 0,
             "ticks": ""
            },
            "colorscale": [
             [
              0,
              "#0d0887"
             ],
             [
              0.1111111111111111,
              "#46039f"
             ],
             [
              0.2222222222222222,
              "#7201a8"
             ],
             [
              0.3333333333333333,
              "#9c179e"
             ],
             [
              0.4444444444444444,
              "#bd3786"
             ],
             [
              0.5555555555555556,
              "#d8576b"
             ],
             [
              0.6666666666666666,
              "#ed7953"
             ],
             [
              0.7777777777777778,
              "#fb9f3a"
             ],
             [
              0.8888888888888888,
              "#fdca26"
             ],
             [
              1,
              "#f0f921"
             ]
            ],
            "type": "heatmap"
           }
          ],
          "histogram": [
           {
            "marker": {
             "pattern": {
              "fillmode": "overlay",
              "size": 10,
              "solidity": 0.2
             }
            },
            "type": "histogram"
           }
          ],
          "histogram2d": [
           {
            "colorbar": {
             "outlinewidth": 0,
             "ticks": ""
            },
            "colorscale": [
             [
              0,
              "#0d0887"
             ],
             [
              0.1111111111111111,
              "#46039f"
             ],
             [
              0.2222222222222222,
              "#7201a8"
             ],
             [
              0.3333333333333333,
              "#9c179e"
             ],
             [
              0.4444444444444444,
              "#bd3786"
             ],
             [
              0.5555555555555556,
              "#d8576b"
             ],
             [
              0.6666666666666666,
              "#ed7953"
             ],
             [
              0.7777777777777778,
              "#fb9f3a"
             ],
             [
              0.8888888888888888,
              "#fdca26"
             ],
             [
              1,
              "#f0f921"
             ]
            ],
            "type": "histogram2d"
           }
          ],
          "histogram2dcontour": [
           {
            "colorbar": {
             "outlinewidth": 0,
             "ticks": ""
            },
            "colorscale": [
             [
              0,
              "#0d0887"
             ],
             [
              0.1111111111111111,
              "#46039f"
             ],
             [
              0.2222222222222222,
              "#7201a8"
             ],
             [
              0.3333333333333333,
              "#9c179e"
             ],
             [
              0.4444444444444444,
              "#bd3786"
             ],
             [
              0.5555555555555556,
              "#d8576b"
             ],
             [
              0.6666666666666666,
              "#ed7953"
             ],
             [
              0.7777777777777778,
              "#fb9f3a"
             ],
             [
              0.8888888888888888,
              "#fdca26"
             ],
             [
              1,
              "#f0f921"
             ]
            ],
            "type": "histogram2dcontour"
           }
          ],
          "mesh3d": [
           {
            "colorbar": {
             "outlinewidth": 0,
             "ticks": ""
            },
            "type": "mesh3d"
           }
          ],
          "parcoords": [
           {
            "line": {
             "colorbar": {
              "outlinewidth": 0,
              "ticks": ""
             }
            },
            "type": "parcoords"
           }
          ],
          "pie": [
           {
            "automargin": true,
            "type": "pie"
           }
          ],
          "scatter": [
           {
            "fillpattern": {
             "fillmode": "overlay",
             "size": 10,
             "solidity": 0.2
            },
            "type": "scatter"
           }
          ],
          "scatter3d": [
           {
            "line": {
             "colorbar": {
              "outlinewidth": 0,
              "ticks": ""
             }
            },
            "marker": {
             "colorbar": {
              "outlinewidth": 0,
              "ticks": ""
             }
            },
            "type": "scatter3d"
           }
          ],
          "scattercarpet": [
           {
            "marker": {
             "colorbar": {
              "outlinewidth": 0,
              "ticks": ""
             }
            },
            "type": "scattercarpet"
           }
          ],
          "scattergeo": [
           {
            "marker": {
             "colorbar": {
              "outlinewidth": 0,
              "ticks": ""
             }
            },
            "type": "scattergeo"
           }
          ],
          "scattergl": [
           {
            "marker": {
             "colorbar": {
              "outlinewidth": 0,
              "ticks": ""
             }
            },
            "type": "scattergl"
           }
          ],
          "scattermap": [
           {
            "marker": {
             "colorbar": {
              "outlinewidth": 0,
              "ticks": ""
             }
            },
            "type": "scattermap"
           }
          ],
          "scattermapbox": [
           {
            "marker": {
             "colorbar": {
              "outlinewidth": 0,
              "ticks": ""
             }
            },
            "type": "scattermapbox"
           }
          ],
          "scatterpolar": [
           {
            "marker": {
             "colorbar": {
              "outlinewidth": 0,
              "ticks": ""
             }
            },
            "type": "scatterpolar"
           }
          ],
          "scatterpolargl": [
           {
            "marker": {
             "colorbar": {
              "outlinewidth": 0,
              "ticks": ""
             }
            },
            "type": "scatterpolargl"
           }
          ],
          "scatterternary": [
           {
            "marker": {
             "colorbar": {
              "outlinewidth": 0,
              "ticks": ""
             }
            },
            "type": "scatterternary"
           }
          ],
          "surface": [
           {
            "colorbar": {
             "outlinewidth": 0,
             "ticks": ""
            },
            "colorscale": [
             [
              0,
              "#0d0887"
             ],
             [
              0.1111111111111111,
              "#46039f"
             ],
             [
              0.2222222222222222,
              "#7201a8"
             ],
             [
              0.3333333333333333,
              "#9c179e"
             ],
             [
              0.4444444444444444,
              "#bd3786"
             ],
             [
              0.5555555555555556,
              "#d8576b"
             ],
             [
              0.6666666666666666,
              "#ed7953"
             ],
             [
              0.7777777777777778,
              "#fb9f3a"
             ],
             [
              0.8888888888888888,
              "#fdca26"
             ],
             [
              1,
              "#f0f921"
             ]
            ],
            "type": "surface"
           }
          ],
          "table": [
           {
            "cells": {
             "fill": {
              "color": "#EBF0F8"
             },
             "line": {
              "color": "white"
             }
            },
            "header": {
             "fill": {
              "color": "#C8D4E3"
             },
             "line": {
              "color": "white"
             }
            },
            "type": "table"
           }
          ]
         },
         "layout": {
          "annotationdefaults": {
           "arrowcolor": "#2a3f5f",
           "arrowhead": 0,
           "arrowwidth": 1
          },
          "autotypenumbers": "strict",
          "coloraxis": {
           "colorbar": {
            "outlinewidth": 0,
            "ticks": ""
           }
          },
          "colorscale": {
           "diverging": [
            [
             0,
             "#8e0152"
            ],
            [
             0.1,
             "#c51b7d"
            ],
            [
             0.2,
             "#de77ae"
            ],
            [
             0.3,
             "#f1b6da"
            ],
            [
             0.4,
             "#fde0ef"
            ],
            [
             0.5,
             "#f7f7f7"
            ],
            [
             0.6,
             "#e6f5d0"
            ],
            [
             0.7,
             "#b8e186"
            ],
            [
             0.8,
             "#7fbc41"
            ],
            [
             0.9,
             "#4d9221"
            ],
            [
             1,
             "#276419"
            ]
           ],
           "sequential": [
            [
             0,
             "#0d0887"
            ],
            [
             0.1111111111111111,
             "#46039f"
            ],
            [
             0.2222222222222222,
             "#7201a8"
            ],
            [
             0.3333333333333333,
             "#9c179e"
            ],
            [
             0.4444444444444444,
             "#bd3786"
            ],
            [
             0.5555555555555556,
             "#d8576b"
            ],
            [
             0.6666666666666666,
             "#ed7953"
            ],
            [
             0.7777777777777778,
             "#fb9f3a"
            ],
            [
             0.8888888888888888,
             "#fdca26"
            ],
            [
             1,
             "#f0f921"
            ]
           ],
           "sequentialminus": [
            [
             0,
             "#0d0887"
            ],
            [
             0.1111111111111111,
             "#46039f"
            ],
            [
             0.2222222222222222,
             "#7201a8"
            ],
            [
             0.3333333333333333,
             "#9c179e"
            ],
            [
             0.4444444444444444,
             "#bd3786"
            ],
            [
             0.5555555555555556,
             "#d8576b"
            ],
            [
             0.6666666666666666,
             "#ed7953"
            ],
            [
             0.7777777777777778,
             "#fb9f3a"
            ],
            [
             0.8888888888888888,
             "#fdca26"
            ],
            [
             1,
             "#f0f921"
            ]
           ]
          },
          "colorway": [
           "#636efa",
           "#EF553B",
           "#00cc96",
           "#ab63fa",
           "#FFA15A",
           "#19d3f3",
           "#FF6692",
           "#B6E880",
           "#FF97FF",
           "#FECB52"
          ],
          "font": {
           "color": "#2a3f5f"
          },
          "geo": {
           "bgcolor": "white",
           "lakecolor": "white",
           "landcolor": "#E5ECF6",
           "showlakes": true,
           "showland": true,
           "subunitcolor": "white"
          },
          "hoverlabel": {
           "align": "left"
          },
          "hovermode": "closest",
          "mapbox": {
           "style": "light"
          },
          "paper_bgcolor": "white",
          "plot_bgcolor": "#E5ECF6",
          "polar": {
           "angularaxis": {
            "gridcolor": "white",
            "linecolor": "white",
            "ticks": ""
           },
           "bgcolor": "#E5ECF6",
           "radialaxis": {
            "gridcolor": "white",
            "linecolor": "white",
            "ticks": ""
           }
          },
          "scene": {
           "xaxis": {
            "backgroundcolor": "#E5ECF6",
            "gridcolor": "white",
            "gridwidth": 2,
            "linecolor": "white",
            "showbackground": true,
            "ticks": "",
            "zerolinecolor": "white"
           },
           "yaxis": {
            "backgroundcolor": "#E5ECF6",
            "gridcolor": "white",
            "gridwidth": 2,
            "linecolor": "white",
            "showbackground": true,
            "ticks": "",
            "zerolinecolor": "white"
           },
           "zaxis": {
            "backgroundcolor": "#E5ECF6",
            "gridcolor": "white",
            "gridwidth": 2,
            "linecolor": "white",
            "showbackground": true,
            "ticks": "",
            "zerolinecolor": "white"
           }
          },
          "shapedefaults": {
           "line": {
            "color": "#2a3f5f"
           }
          },
          "ternary": {
           "aaxis": {
            "gridcolor": "white",
            "linecolor": "white",
            "ticks": ""
           },
           "baxis": {
            "gridcolor": "white",
            "linecolor": "white",
            "ticks": ""
           },
           "bgcolor": "#E5ECF6",
           "caxis": {
            "gridcolor": "white",
            "linecolor": "white",
            "ticks": ""
           }
          },
          "title": {
           "x": 0.05
          },
          "xaxis": {
           "automargin": true,
           "gridcolor": "white",
           "linecolor": "white",
           "ticks": "",
           "title": {
            "standoff": 15
           },
           "zerolinecolor": "white",
           "zerolinewidth": 2
          },
          "yaxis": {
           "automargin": true,
           "gridcolor": "white",
           "linecolor": "white",
           "ticks": "",
           "title": {
            "standoff": 15
           },
           "zerolinecolor": "white",
           "zerolinewidth": 2
          }
         }
        },
        "title": {
         "text": "Age Distribution"
        },
        "xaxis": {
         "anchor": "y",
         "categoryarray": [
          "Male",
          "Female"
         ],
         "categoryorder": "array",
         "domain": [
          0,
          1
         ],
         "title": {
          "text": "Gender"
         }
        },
        "yaxis": {
         "anchor": "x",
         "domain": [
          0,
          1
         ],
         "title": {
          "text": "count"
         }
        }
       }
      }
     },
     "metadata": {},
     "output_type": "display_data"
    }
   ],
   "source": [
    "fig=px.histogram(df,x='Gender',title='Age Distribution',color=\"Gender\")\n",
    "fig.show()"
   ]
  },
  {
   "cell_type": "code",
   "execution_count": 9,
   "id": "6baf8340-0ee6-4d2c-a5ef-73198162dfd7",
   "metadata": {},
   "outputs": [
    {
     "name": "stdout",
     "output_type": "stream",
     "text": [
      "<class 'pandas.core.frame.DataFrame'>\n",
      "RangeIndex: 3900 entries, 0 to 3899\n",
      "Data columns (total 19 columns):\n",
      " #   Column                    Non-Null Count  Dtype  \n",
      "---  ------                    --------------  -----  \n",
      " 0   Customer_ID               3900 non-null   int64  \n",
      " 1   Age                       3900 non-null   int64  \n",
      " 2   Gender                    3900 non-null   object \n",
      " 3   Item_Purchased            3900 non-null   object \n",
      " 4   Category                  3900 non-null   object \n",
      " 5   Purchase_Amount_USD       3900 non-null   int64  \n",
      " 6   Location                  3900 non-null   object \n",
      " 7   Size                      3900 non-null   object \n",
      " 8   Color                     3900 non-null   object \n",
      " 9   Season                    3900 non-null   object \n",
      " 10  Review_Rating             3900 non-null   float64\n",
      " 11  Subscription_Status       3900 non-null   object \n",
      " 12  Payment_Method            3900 non-null   object \n",
      " 13  Shipping_Type             3900 non-null   object \n",
      " 14  Discount_Applied          3900 non-null   object \n",
      " 15  Promo_Code_Used           3900 non-null   object \n",
      " 16  Previous_Purchases        3900 non-null   int64  \n",
      " 17  Preferred_Payment_Method  3900 non-null   object \n",
      " 18  Frequency_of_Purchases    3900 non-null   object \n",
      "dtypes: float64(1), int64(4), object(14)\n",
      "memory usage: 579.0+ KB\n"
     ]
    }
   ],
   "source": [
    "df.info()\n",
    "    "
   ]
  },
  {
   "cell_type": "code",
   "execution_count": 10,
   "id": "d346de54-cea8-4073-82e6-ecdca6c1a23a",
   "metadata": {},
   "outputs": [
    {
     "data": {
      "application/vnd.plotly.v1+json": {
       "config": {
        "plotlyServerURL": "https://plot.ly"
       },
       "data": [
        {
         "bingroup": "x",
         "hovertemplate": "Category=%{x}<br>count=%{y}<extra></extra>",
         "legendgroup": "Clothing",
         "marker": {
          "color": "#636efa",
          "pattern": {
           "shape": ""
          }
         },
         "name": "Clothing",
         "orientation": "v",
         "showlegend": true,
         "type": "histogram",
         "x": [
          "Clothing",
          "Clothing",
          "Clothing",
          "Clothing",
          "Clothing",
          "Clothing",
          "Clothing",
          "Clothing",
          "Clothing",
          "Clothing",
          "Clothing",
          "Clothing",
          "Clothing",
          "Clothing",
          "Clothing",
          "Clothing",
          "Clothing",
          "Clothing",
          "Clothing",
          "Clothing",
          "Clothing",
          "Clothing",
          "Clothing",
          "Clothing",
          "Clothing",
          "Clothing",
          "Clothing",
          "Clothing",
          "Clothing",
          "Clothing",
          "Clothing",
          "Clothing",
          "Clothing",
          "Clothing",
          "Clothing",
          "Clothing",
          "Clothing",
          "Clothing",
          "Clothing",
          "Clothing",
          "Clothing",
          "Clothing",
          "Clothing",
          "Clothing",
          "Clothing",
          "Clothing",
          "Clothing",
          "Clothing",
          "Clothing",
          "Clothing",
          "Clothing",
          "Clothing",
          "Clothing",
          "Clothing",
          "Clothing",
          "Clothing",
          "Clothing",
          "Clothing",
          "Clothing",
          "Clothing",
          "Clothing",
          "Clothing",
          "Clothing",
          "Clothing",
          "Clothing",
          "Clothing",
          "Clothing",
          "Clothing",
          "Clothing",
          "Clothing",
          "Clothing",
          "Clothing",
          "Clothing",
          "Clothing",
          "Clothing",
          "Clothing",
          "Clothing",
          "Clothing",
          "Clothing",
          "Clothing",
          "Clothing",
          "Clothing",
          "Clothing",
          "Clothing",
          "Clothing",
          "Clothing",
          "Clothing",
          "Clothing",
          "Clothing",
          "Clothing",
          "Clothing",
          "Clothing",
          "Clothing",
          "Clothing",
          "Clothing",
          "Clothing",
          "Clothing",
          "Clothing",
          "Clothing",
          "Clothing",
          "Clothing",
          "Clothing",
          "Clothing",
          "Clothing",
          "Clothing",
          "Clothing",
          "Clothing",
          "Clothing",
          "Clothing",
          "Clothing",
          "Clothing",
          "Clothing",
          "Clothing",
          "Clothing",
          "Clothing",
          "Clothing",
          "Clothing",
          "Clothing",
          "Clothing",
          "Clothing",
          "Clothing",
          "Clothing",
          "Clothing",
          "Clothing",
          "Clothing",
          "Clothing",
          "Clothing",
          "Clothing",
          "Clothing",
          "Clothing",
          "Clothing",
          "Clothing",
          "Clothing",
          "Clothing",
          "Clothing",
          "Clothing",
          "Clothing",
          "Clothing",
          "Clothing",
          "Clothing",
          "Clothing",
          "Clothing",
          "Clothing",
          "Clothing",
          "Clothing",
          "Clothing",
          "Clothing",
          "Clothing",
          "Clothing",
          "Clothing",
          "Clothing",
          "Clothing",
          "Clothing",
          "Clothing",
          "Clothing",
          "Clothing",
          "Clothing",
          "Clothing",
          "Clothing",
          "Clothing",
          "Clothing",
          "Clothing",
          "Clothing",
          "Clothing",
          "Clothing",
          "Clothing",
          "Clothing",
          "Clothing",
          "Clothing",
          "Clothing",
          "Clothing",
          "Clothing",
          "Clothing",
          "Clothing",
          "Clothing",
          "Clothing",
          "Clothing",
          "Clothing",
          "Clothing",
          "Clothing",
          "Clothing",
          "Clothing",
          "Clothing",
          "Clothing",
          "Clothing",
          "Clothing",
          "Clothing",
          "Clothing",
          "Clothing",
          "Clothing",
          "Clothing",
          "Clothing",
          "Clothing",
          "Clothing",
          "Clothing",
          "Clothing",
          "Clothing",
          "Clothing",
          "Clothing",
          "Clothing",
          "Clothing",
          "Clothing",
          "Clothing",
          "Clothing",
          "Clothing",
          "Clothing",
          "Clothing",
          "Clothing",
          "Clothing",
          "Clothing",
          "Clothing",
          "Clothing",
          "Clothing",
          "Clothing",
          "Clothing",
          "Clothing",
          "Clothing",
          "Clothing",
          "Clothing",
          "Clothing",
          "Clothing",
          "Clothing",
          "Clothing",
          "Clothing",
          "Clothing",
          "Clothing",
          "Clothing",
          "Clothing",
          "Clothing",
          "Clothing",
          "Clothing",
          "Clothing",
          "Clothing",
          "Clothing",
          "Clothing",
          "Clothing",
          "Clothing",
          "Clothing",
          "Clothing",
          "Clothing",
          "Clothing",
          "Clothing",
          "Clothing",
          "Clothing",
          "Clothing",
          "Clothing",
          "Clothing",
          "Clothing",
          "Clothing",
          "Clothing",
          "Clothing",
          "Clothing",
          "Clothing",
          "Clothing",
          "Clothing",
          "Clothing",
          "Clothing",
          "Clothing",
          "Clothing",
          "Clothing",
          "Clothing",
          "Clothing",
          "Clothing",
          "Clothing",
          "Clothing",
          "Clothing",
          "Clothing",
          "Clothing",
          "Clothing",
          "Clothing",
          "Clothing",
          "Clothing",
          "Clothing",
          "Clothing",
          "Clothing",
          "Clothing",
          "Clothing",
          "Clothing",
          "Clothing",
          "Clothing",
          "Clothing",
          "Clothing",
          "Clothing",
          "Clothing",
          "Clothing",
          "Clothing",
          "Clothing",
          "Clothing",
          "Clothing",
          "Clothing",
          "Clothing",
          "Clothing",
          "Clothing",
          "Clothing",
          "Clothing",
          "Clothing",
          "Clothing",
          "Clothing",
          "Clothing",
          "Clothing",
          "Clothing",
          "Clothing",
          "Clothing",
          "Clothing",
          "Clothing",
          "Clothing",
          "Clothing",
          "Clothing",
          "Clothing",
          "Clothing",
          "Clothing",
          "Clothing",
          "Clothing",
          "Clothing",
          "Clothing",
          "Clothing",
          "Clothing",
          "Clothing",
          "Clothing",
          "Clothing",
          "Clothing",
          "Clothing",
          "Clothing",
          "Clothing",
          "Clothing",
          "Clothing",
          "Clothing",
          "Clothing",
          "Clothing",
          "Clothing",
          "Clothing",
          "Clothing",
          "Clothing",
          "Clothing",
          "Clothing",
          "Clothing",
          "Clothing",
          "Clothing",
          "Clothing",
          "Clothing",
          "Clothing",
          "Clothing",
          "Clothing",
          "Clothing",
          "Clothing",
          "Clothing",
          "Clothing",
          "Clothing",
          "Clothing",
          "Clothing",
          "Clothing",
          "Clothing",
          "Clothing",
          "Clothing",
          "Clothing",
          "Clothing",
          "Clothing",
          "Clothing",
          "Clothing",
          "Clothing",
          "Clothing",
          "Clothing",
          "Clothing",
          "Clothing",
          "Clothing",
          "Clothing",
          "Clothing",
          "Clothing",
          "Clothing",
          "Clothing",
          "Clothing",
          "Clothing",
          "Clothing",
          "Clothing",
          "Clothing",
          "Clothing",
          "Clothing",
          "Clothing",
          "Clothing",
          "Clothing",
          "Clothing",
          "Clothing",
          "Clothing",
          "Clothing",
          "Clothing",
          "Clothing",
          "Clothing",
          "Clothing",
          "Clothing",
          "Clothing",
          "Clothing",
          "Clothing",
          "Clothing",
          "Clothing",
          "Clothing",
          "Clothing",
          "Clothing",
          "Clothing",
          "Clothing",
          "Clothing",
          "Clothing",
          "Clothing",
          "Clothing",
          "Clothing",
          "Clothing",
          "Clothing",
          "Clothing",
          "Clothing",
          "Clothing",
          "Clothing",
          "Clothing",
          "Clothing",
          "Clothing",
          "Clothing",
          "Clothing",
          "Clothing",
          "Clothing",
          "Clothing",
          "Clothing",
          "Clothing",
          "Clothing",
          "Clothing",
          "Clothing",
          "Clothing",
          "Clothing",
          "Clothing",
          "Clothing",
          "Clothing",
          "Clothing",
          "Clothing",
          "Clothing",
          "Clothing",
          "Clothing",
          "Clothing",
          "Clothing",
          "Clothing",
          "Clothing",
          "Clothing",
          "Clothing",
          "Clothing",
          "Clothing",
          "Clothing",
          "Clothing",
          "Clothing",
          "Clothing",
          "Clothing",
          "Clothing",
          "Clothing",
          "Clothing",
          "Clothing",
          "Clothing",
          "Clothing",
          "Clothing",
          "Clothing",
          "Clothing",
          "Clothing",
          "Clothing",
          "Clothing",
          "Clothing",
          "Clothing",
          "Clothing",
          "Clothing",
          "Clothing",
          "Clothing",
          "Clothing",
          "Clothing",
          "Clothing",
          "Clothing",
          "Clothing",
          "Clothing",
          "Clothing",
          "Clothing",
          "Clothing",
          "Clothing",
          "Clothing",
          "Clothing",
          "Clothing",
          "Clothing",
          "Clothing",
          "Clothing",
          "Clothing",
          "Clothing",
          "Clothing",
          "Clothing",
          "Clothing",
          "Clothing",
          "Clothing",
          "Clothing",
          "Clothing",
          "Clothing",
          "Clothing",
          "Clothing",
          "Clothing",
          "Clothing",
          "Clothing",
          "Clothing",
          "Clothing",
          "Clothing",
          "Clothing",
          "Clothing",
          "Clothing",
          "Clothing",
          "Clothing",
          "Clothing",
          "Clothing",
          "Clothing",
          "Clothing",
          "Clothing",
          "Clothing",
          "Clothing",
          "Clothing",
          "Clothing",
          "Clothing",
          "Clothing",
          "Clothing",
          "Clothing",
          "Clothing",
          "Clothing",
          "Clothing",
          "Clothing",
          "Clothing",
          "Clothing",
          "Clothing",
          "Clothing",
          "Clothing",
          "Clothing",
          "Clothing",
          "Clothing",
          "Clothing",
          "Clothing",
          "Clothing",
          "Clothing",
          "Clothing",
          "Clothing",
          "Clothing",
          "Clothing",
          "Clothing",
          "Clothing",
          "Clothing",
          "Clothing",
          "Clothing",
          "Clothing",
          "Clothing",
          "Clothing",
          "Clothing",
          "Clothing",
          "Clothing",
          "Clothing",
          "Clothing",
          "Clothing",
          "Clothing",
          "Clothing",
          "Clothing",
          "Clothing",
          "Clothing",
          "Clothing",
          "Clothing",
          "Clothing",
          "Clothing",
          "Clothing",
          "Clothing",
          "Clothing",
          "Clothing",
          "Clothing",
          "Clothing",
          "Clothing",
          "Clothing",
          "Clothing",
          "Clothing",
          "Clothing",
          "Clothing",
          "Clothing",
          "Clothing",
          "Clothing",
          "Clothing",
          "Clothing",
          "Clothing",
          "Clothing",
          "Clothing",
          "Clothing",
          "Clothing",
          "Clothing",
          "Clothing",
          "Clothing",
          "Clothing",
          "Clothing",
          "Clothing",
          "Clothing",
          "Clothing",
          "Clothing",
          "Clothing",
          "Clothing",
          "Clothing",
          "Clothing",
          "Clothing",
          "Clothing",
          "Clothing",
          "Clothing",
          "Clothing",
          "Clothing",
          "Clothing",
          "Clothing",
          "Clothing",
          "Clothing",
          "Clothing",
          "Clothing",
          "Clothing",
          "Clothing",
          "Clothing",
          "Clothing",
          "Clothing",
          "Clothing",
          "Clothing",
          "Clothing",
          "Clothing",
          "Clothing",
          "Clothing",
          "Clothing",
          "Clothing",
          "Clothing",
          "Clothing",
          "Clothing",
          "Clothing",
          "Clothing",
          "Clothing",
          "Clothing",
          "Clothing",
          "Clothing",
          "Clothing",
          "Clothing",
          "Clothing",
          "Clothing",
          "Clothing",
          "Clothing",
          "Clothing",
          "Clothing",
          "Clothing",
          "Clothing",
          "Clothing",
          "Clothing",
          "Clothing",
          "Clothing",
          "Clothing",
          "Clothing",
          "Clothing",
          "Clothing",
          "Clothing",
          "Clothing",
          "Clothing",
          "Clothing",
          "Clothing",
          "Clothing",
          "Clothing",
          "Clothing",
          "Clothing",
          "Clothing",
          "Clothing",
          "Clothing",
          "Clothing",
          "Clothing",
          "Clothing",
          "Clothing",
          "Clothing",
          "Clothing",
          "Clothing",
          "Clothing",
          "Clothing",
          "Clothing",
          "Clothing",
          "Clothing",
          "Clothing",
          "Clothing",
          "Clothing",
          "Clothing",
          "Clothing",
          "Clothing",
          "Clothing",
          "Clothing",
          "Clothing",
          "Clothing",
          "Clothing",
          "Clothing",
          "Clothing",
          "Clothing",
          "Clothing",
          "Clothing",
          "Clothing",
          "Clothing",
          "Clothing",
          "Clothing",
          "Clothing",
          "Clothing",
          "Clothing",
          "Clothing",
          "Clothing",
          "Clothing",
          "Clothing",
          "Clothing",
          "Clothing",
          "Clothing",
          "Clothing",
          "Clothing",
          "Clothing",
          "Clothing",
          "Clothing",
          "Clothing",
          "Clothing",
          "Clothing",
          "Clothing",
          "Clothing",
          "Clothing",
          "Clothing",
          "Clothing",
          "Clothing",
          "Clothing",
          "Clothing",
          "Clothing",
          "Clothing",
          "Clothing",
          "Clothing",
          "Clothing",
          "Clothing",
          "Clothing",
          "Clothing",
          "Clothing",
          "Clothing",
          "Clothing",
          "Clothing",
          "Clothing",
          "Clothing",
          "Clothing",
          "Clothing",
          "Clothing",
          "Clothing",
          "Clothing",
          "Clothing",
          "Clothing",
          "Clothing",
          "Clothing",
          "Clothing",
          "Clothing",
          "Clothing",
          "Clothing",
          "Clothing",
          "Clothing",
          "Clothing",
          "Clothing",
          "Clothing",
          "Clothing",
          "Clothing",
          "Clothing",
          "Clothing",
          "Clothing",
          "Clothing",
          "Clothing",
          "Clothing",
          "Clothing",
          "Clothing",
          "Clothing",
          "Clothing",
          "Clothing",
          "Clothing",
          "Clothing",
          "Clothing",
          "Clothing",
          "Clothing",
          "Clothing",
          "Clothing",
          "Clothing",
          "Clothing",
          "Clothing",
          "Clothing",
          "Clothing",
          "Clothing",
          "Clothing",
          "Clothing",
          "Clothing",
          "Clothing",
          "Clothing",
          "Clothing",
          "Clothing",
          "Clothing",
          "Clothing",
          "Clothing",
          "Clothing",
          "Clothing",
          "Clothing",
          "Clothing",
          "Clothing",
          "Clothing",
          "Clothing",
          "Clothing",
          "Clothing",
          "Clothing",
          "Clothing",
          "Clothing",
          "Clothing",
          "Clothing",
          "Clothing",
          "Clothing",
          "Clothing",
          "Clothing",
          "Clothing",
          "Clothing",
          "Clothing",
          "Clothing",
          "Clothing",
          "Clothing",
          "Clothing",
          "Clothing",
          "Clothing",
          "Clothing",
          "Clothing",
          "Clothing",
          "Clothing",
          "Clothing",
          "Clothing",
          "Clothing",
          "Clothing",
          "Clothing",
          "Clothing",
          "Clothing",
          "Clothing",
          "Clothing",
          "Clothing",
          "Clothing",
          "Clothing",
          "Clothing",
          "Clothing",
          "Clothing",
          "Clothing",
          "Clothing",
          "Clothing",
          "Clothing",
          "Clothing",
          "Clothing",
          "Clothing",
          "Clothing",
          "Clothing",
          "Clothing",
          "Clothing",
          "Clothing",
          "Clothing",
          "Clothing",
          "Clothing",
          "Clothing",
          "Clothing",
          "Clothing",
          "Clothing",
          "Clothing",
          "Clothing",
          "Clothing",
          "Clothing",
          "Clothing",
          "Clothing",
          "Clothing",
          "Clothing",
          "Clothing",
          "Clothing",
          "Clothing",
          "Clothing",
          "Clothing",
          "Clothing",
          "Clothing",
          "Clothing",
          "Clothing",
          "Clothing",
          "Clothing",
          "Clothing",
          "Clothing",
          "Clothing",
          "Clothing",
          "Clothing",
          "Clothing",
          "Clothing",
          "Clothing",
          "Clothing",
          "Clothing",
          "Clothing",
          "Clothing",
          "Clothing",
          "Clothing",
          "Clothing",
          "Clothing",
          "Clothing",
          "Clothing",
          "Clothing",
          "Clothing",
          "Clothing",
          "Clothing",
          "Clothing",
          "Clothing",
          "Clothing",
          "Clothing",
          "Clothing",
          "Clothing",
          "Clothing",
          "Clothing",
          "Clothing",
          "Clothing",
          "Clothing",
          "Clothing",
          "Clothing",
          "Clothing",
          "Clothing",
          "Clothing",
          "Clothing",
          "Clothing",
          "Clothing",
          "Clothing",
          "Clothing",
          "Clothing",
          "Clothing",
          "Clothing",
          "Clothing",
          "Clothing",
          "Clothing",
          "Clothing",
          "Clothing",
          "Clothing",
          "Clothing",
          "Clothing",
          "Clothing",
          "Clothing",
          "Clothing",
          "Clothing",
          "Clothing",
          "Clothing",
          "Clothing",
          "Clothing",
          "Clothing",
          "Clothing",
          "Clothing",
          "Clothing",
          "Clothing",
          "Clothing",
          "Clothing",
          "Clothing",
          "Clothing",
          "Clothing",
          "Clothing",
          "Clothing",
          "Clothing",
          "Clothing",
          "Clothing",
          "Clothing",
          "Clothing",
          "Clothing",
          "Clothing",
          "Clothing",
          "Clothing",
          "Clothing",
          "Clothing",
          "Clothing",
          "Clothing",
          "Clothing",
          "Clothing",
          "Clothing",
          "Clothing",
          "Clothing",
          "Clothing",
          "Clothing",
          "Clothing",
          "Clothing",
          "Clothing",
          "Clothing",
          "Clothing",
          "Clothing",
          "Clothing",
          "Clothing",
          "Clothing",
          "Clothing",
          "Clothing",
          "Clothing",
          "Clothing",
          "Clothing",
          "Clothing",
          "Clothing",
          "Clothing",
          "Clothing",
          "Clothing",
          "Clothing",
          "Clothing",
          "Clothing",
          "Clothing",
          "Clothing",
          "Clothing",
          "Clothing",
          "Clothing",
          "Clothing",
          "Clothing",
          "Clothing",
          "Clothing",
          "Clothing",
          "Clothing",
          "Clothing",
          "Clothing",
          "Clothing",
          "Clothing",
          "Clothing",
          "Clothing",
          "Clothing",
          "Clothing",
          "Clothing",
          "Clothing",
          "Clothing",
          "Clothing",
          "Clothing",
          "Clothing",
          "Clothing",
          "Clothing",
          "Clothing",
          "Clothing",
          "Clothing",
          "Clothing",
          "Clothing",
          "Clothing",
          "Clothing",
          "Clothing",
          "Clothing",
          "Clothing",
          "Clothing",
          "Clothing",
          "Clothing",
          "Clothing",
          "Clothing",
          "Clothing",
          "Clothing",
          "Clothing",
          "Clothing",
          "Clothing",
          "Clothing",
          "Clothing",
          "Clothing",
          "Clothing",
          "Clothing",
          "Clothing",
          "Clothing",
          "Clothing",
          "Clothing",
          "Clothing",
          "Clothing",
          "Clothing",
          "Clothing",
          "Clothing",
          "Clothing",
          "Clothing",
          "Clothing",
          "Clothing",
          "Clothing",
          "Clothing",
          "Clothing",
          "Clothing",
          "Clothing",
          "Clothing",
          "Clothing",
          "Clothing",
          "Clothing",
          "Clothing",
          "Clothing",
          "Clothing",
          "Clothing",
          "Clothing",
          "Clothing",
          "Clothing",
          "Clothing",
          "Clothing",
          "Clothing",
          "Clothing",
          "Clothing",
          "Clothing",
          "Clothing",
          "Clothing",
          "Clothing",
          "Clothing",
          "Clothing",
          "Clothing",
          "Clothing",
          "Clothing",
          "Clothing",
          "Clothing",
          "Clothing",
          "Clothing",
          "Clothing",
          "Clothing",
          "Clothing",
          "Clothing",
          "Clothing",
          "Clothing",
          "Clothing",
          "Clothing",
          "Clothing",
          "Clothing",
          "Clothing",
          "Clothing",
          "Clothing",
          "Clothing",
          "Clothing",
          "Clothing",
          "Clothing",
          "Clothing",
          "Clothing",
          "Clothing",
          "Clothing",
          "Clothing",
          "Clothing",
          "Clothing",
          "Clothing",
          "Clothing",
          "Clothing",
          "Clothing",
          "Clothing",
          "Clothing",
          "Clothing",
          "Clothing",
          "Clothing",
          "Clothing",
          "Clothing",
          "Clothing",
          "Clothing",
          "Clothing",
          "Clothing",
          "Clothing",
          "Clothing",
          "Clothing",
          "Clothing",
          "Clothing",
          "Clothing",
          "Clothing",
          "Clothing",
          "Clothing",
          "Clothing",
          "Clothing",
          "Clothing",
          "Clothing",
          "Clothing",
          "Clothing",
          "Clothing",
          "Clothing",
          "Clothing",
          "Clothing",
          "Clothing",
          "Clothing",
          "Clothing",
          "Clothing",
          "Clothing",
          "Clothing",
          "Clothing",
          "Clothing",
          "Clothing",
          "Clothing",
          "Clothing",
          "Clothing",
          "Clothing",
          "Clothing",
          "Clothing",
          "Clothing",
          "Clothing",
          "Clothing",
          "Clothing",
          "Clothing",
          "Clothing",
          "Clothing",
          "Clothing",
          "Clothing",
          "Clothing",
          "Clothing",
          "Clothing",
          "Clothing",
          "Clothing",
          "Clothing",
          "Clothing",
          "Clothing",
          "Clothing",
          "Clothing",
          "Clothing",
          "Clothing",
          "Clothing",
          "Clothing",
          "Clothing",
          "Clothing",
          "Clothing",
          "Clothing",
          "Clothing",
          "Clothing",
          "Clothing",
          "Clothing",
          "Clothing",
          "Clothing",
          "Clothing",
          "Clothing",
          "Clothing",
          "Clothing",
          "Clothing",
          "Clothing",
          "Clothing",
          "Clothing",
          "Clothing",
          "Clothing",
          "Clothing",
          "Clothing",
          "Clothing",
          "Clothing",
          "Clothing",
          "Clothing",
          "Clothing",
          "Clothing",
          "Clothing",
          "Clothing",
          "Clothing",
          "Clothing",
          "Clothing",
          "Clothing",
          "Clothing",
          "Clothing",
          "Clothing",
          "Clothing",
          "Clothing",
          "Clothing",
          "Clothing",
          "Clothing",
          "Clothing",
          "Clothing",
          "Clothing",
          "Clothing",
          "Clothing",
          "Clothing",
          "Clothing",
          "Clothing",
          "Clothing",
          "Clothing",
          "Clothing",
          "Clothing",
          "Clothing",
          "Clothing",
          "Clothing",
          "Clothing",
          "Clothing",
          "Clothing",
          "Clothing",
          "Clothing",
          "Clothing",
          "Clothing",
          "Clothing",
          "Clothing",
          "Clothing",
          "Clothing",
          "Clothing",
          "Clothing",
          "Clothing",
          "Clothing",
          "Clothing",
          "Clothing",
          "Clothing",
          "Clothing",
          "Clothing",
          "Clothing",
          "Clothing",
          "Clothing",
          "Clothing",
          "Clothing",
          "Clothing",
          "Clothing",
          "Clothing",
          "Clothing",
          "Clothing",
          "Clothing",
          "Clothing",
          "Clothing",
          "Clothing",
          "Clothing",
          "Clothing",
          "Clothing",
          "Clothing",
          "Clothing",
          "Clothing",
          "Clothing",
          "Clothing",
          "Clothing",
          "Clothing",
          "Clothing",
          "Clothing",
          "Clothing",
          "Clothing",
          "Clothing",
          "Clothing",
          "Clothing",
          "Clothing",
          "Clothing",
          "Clothing",
          "Clothing",
          "Clothing",
          "Clothing",
          "Clothing",
          "Clothing",
          "Clothing",
          "Clothing",
          "Clothing",
          "Clothing",
          "Clothing",
          "Clothing",
          "Clothing",
          "Clothing",
          "Clothing",
          "Clothing",
          "Clothing",
          "Clothing",
          "Clothing",
          "Clothing",
          "Clothing",
          "Clothing",
          "Clothing",
          "Clothing",
          "Clothing",
          "Clothing",
          "Clothing",
          "Clothing",
          "Clothing",
          "Clothing",
          "Clothing",
          "Clothing",
          "Clothing",
          "Clothing",
          "Clothing",
          "Clothing",
          "Clothing",
          "Clothing",
          "Clothing",
          "Clothing",
          "Clothing",
          "Clothing",
          "Clothing",
          "Clothing",
          "Clothing",
          "Clothing",
          "Clothing",
          "Clothing",
          "Clothing",
          "Clothing",
          "Clothing",
          "Clothing",
          "Clothing",
          "Clothing",
          "Clothing",
          "Clothing",
          "Clothing",
          "Clothing",
          "Clothing",
          "Clothing",
          "Clothing",
          "Clothing",
          "Clothing",
          "Clothing",
          "Clothing",
          "Clothing",
          "Clothing",
          "Clothing",
          "Clothing",
          "Clothing",
          "Clothing",
          "Clothing",
          "Clothing",
          "Clothing",
          "Clothing",
          "Clothing",
          "Clothing",
          "Clothing",
          "Clothing",
          "Clothing",
          "Clothing",
          "Clothing",
          "Clothing",
          "Clothing",
          "Clothing",
          "Clothing",
          "Clothing",
          "Clothing",
          "Clothing",
          "Clothing",
          "Clothing",
          "Clothing",
          "Clothing",
          "Clothing",
          "Clothing",
          "Clothing",
          "Clothing",
          "Clothing",
          "Clothing",
          "Clothing",
          "Clothing",
          "Clothing",
          "Clothing",
          "Clothing",
          "Clothing",
          "Clothing",
          "Clothing",
          "Clothing",
          "Clothing",
          "Clothing",
          "Clothing",
          "Clothing",
          "Clothing",
          "Clothing",
          "Clothing",
          "Clothing",
          "Clothing",
          "Clothing",
          "Clothing",
          "Clothing",
          "Clothing",
          "Clothing",
          "Clothing",
          "Clothing",
          "Clothing",
          "Clothing",
          "Clothing",
          "Clothing",
          "Clothing",
          "Clothing",
          "Clothing",
          "Clothing",
          "Clothing",
          "Clothing",
          "Clothing",
          "Clothing",
          "Clothing",
          "Clothing",
          "Clothing",
          "Clothing",
          "Clothing",
          "Clothing",
          "Clothing",
          "Clothing",
          "Clothing",
          "Clothing",
          "Clothing",
          "Clothing",
          "Clothing",
          "Clothing",
          "Clothing",
          "Clothing",
          "Clothing",
          "Clothing",
          "Clothing",
          "Clothing",
          "Clothing",
          "Clothing",
          "Clothing",
          "Clothing",
          "Clothing",
          "Clothing",
          "Clothing",
          "Clothing",
          "Clothing",
          "Clothing",
          "Clothing",
          "Clothing",
          "Clothing",
          "Clothing",
          "Clothing",
          "Clothing",
          "Clothing",
          "Clothing",
          "Clothing",
          "Clothing",
          "Clothing",
          "Clothing",
          "Clothing",
          "Clothing",
          "Clothing",
          "Clothing",
          "Clothing",
          "Clothing",
          "Clothing",
          "Clothing",
          "Clothing",
          "Clothing",
          "Clothing",
          "Clothing",
          "Clothing",
          "Clothing",
          "Clothing",
          "Clothing",
          "Clothing",
          "Clothing",
          "Clothing",
          "Clothing",
          "Clothing",
          "Clothing",
          "Clothing",
          "Clothing",
          "Clothing",
          "Clothing",
          "Clothing",
          "Clothing",
          "Clothing",
          "Clothing",
          "Clothing",
          "Clothing",
          "Clothing",
          "Clothing",
          "Clothing",
          "Clothing",
          "Clothing",
          "Clothing",
          "Clothing",
          "Clothing",
          "Clothing",
          "Clothing",
          "Clothing",
          "Clothing",
          "Clothing",
          "Clothing",
          "Clothing",
          "Clothing",
          "Clothing",
          "Clothing",
          "Clothing",
          "Clothing",
          "Clothing",
          "Clothing",
          "Clothing",
          "Clothing",
          "Clothing",
          "Clothing",
          "Clothing",
          "Clothing",
          "Clothing",
          "Clothing",
          "Clothing",
          "Clothing",
          "Clothing",
          "Clothing",
          "Clothing",
          "Clothing",
          "Clothing",
          "Clothing",
          "Clothing",
          "Clothing",
          "Clothing",
          "Clothing",
          "Clothing",
          "Clothing",
          "Clothing",
          "Clothing",
          "Clothing",
          "Clothing",
          "Clothing",
          "Clothing",
          "Clothing",
          "Clothing",
          "Clothing",
          "Clothing",
          "Clothing",
          "Clothing",
          "Clothing",
          "Clothing",
          "Clothing",
          "Clothing",
          "Clothing",
          "Clothing",
          "Clothing",
          "Clothing",
          "Clothing",
          "Clothing",
          "Clothing",
          "Clothing",
          "Clothing",
          "Clothing",
          "Clothing",
          "Clothing",
          "Clothing",
          "Clothing",
          "Clothing",
          "Clothing",
          "Clothing",
          "Clothing",
          "Clothing",
          "Clothing",
          "Clothing",
          "Clothing",
          "Clothing",
          "Clothing",
          "Clothing",
          "Clothing",
          "Clothing",
          "Clothing",
          "Clothing",
          "Clothing",
          "Clothing",
          "Clothing",
          "Clothing",
          "Clothing",
          "Clothing",
          "Clothing",
          "Clothing",
          "Clothing",
          "Clothing",
          "Clothing",
          "Clothing",
          "Clothing",
          "Clothing",
          "Clothing",
          "Clothing",
          "Clothing",
          "Clothing",
          "Clothing",
          "Clothing",
          "Clothing",
          "Clothing",
          "Clothing",
          "Clothing",
          "Clothing",
          "Clothing",
          "Clothing",
          "Clothing",
          "Clothing",
          "Clothing",
          "Clothing",
          "Clothing",
          "Clothing",
          "Clothing",
          "Clothing",
          "Clothing",
          "Clothing",
          "Clothing",
          "Clothing",
          "Clothing",
          "Clothing",
          "Clothing",
          "Clothing",
          "Clothing",
          "Clothing",
          "Clothing",
          "Clothing",
          "Clothing",
          "Clothing",
          "Clothing",
          "Clothing",
          "Clothing",
          "Clothing",
          "Clothing",
          "Clothing",
          "Clothing",
          "Clothing",
          "Clothing",
          "Clothing",
          "Clothing",
          "Clothing",
          "Clothing",
          "Clothing",
          "Clothing",
          "Clothing",
          "Clothing",
          "Clothing",
          "Clothing",
          "Clothing",
          "Clothing",
          "Clothing",
          "Clothing",
          "Clothing",
          "Clothing",
          "Clothing",
          "Clothing",
          "Clothing",
          "Clothing",
          "Clothing",
          "Clothing",
          "Clothing",
          "Clothing",
          "Clothing",
          "Clothing",
          "Clothing",
          "Clothing",
          "Clothing",
          "Clothing",
          "Clothing",
          "Clothing",
          "Clothing",
          "Clothing",
          "Clothing",
          "Clothing",
          "Clothing",
          "Clothing",
          "Clothing",
          "Clothing",
          "Clothing",
          "Clothing",
          "Clothing",
          "Clothing",
          "Clothing",
          "Clothing",
          "Clothing",
          "Clothing",
          "Clothing",
          "Clothing",
          "Clothing",
          "Clothing",
          "Clothing",
          "Clothing",
          "Clothing",
          "Clothing",
          "Clothing",
          "Clothing",
          "Clothing",
          "Clothing",
          "Clothing",
          "Clothing",
          "Clothing",
          "Clothing",
          "Clothing",
          "Clothing",
          "Clothing",
          "Clothing",
          "Clothing",
          "Clothing",
          "Clothing",
          "Clothing",
          "Clothing",
          "Clothing",
          "Clothing",
          "Clothing",
          "Clothing",
          "Clothing",
          "Clothing",
          "Clothing",
          "Clothing",
          "Clothing",
          "Clothing",
          "Clothing",
          "Clothing",
          "Clothing",
          "Clothing",
          "Clothing",
          "Clothing",
          "Clothing",
          "Clothing"
         ],
         "xaxis": "x",
         "yaxis": "y"
        },
        {
         "bingroup": "x",
         "hovertemplate": "Category=%{x}<br>count=%{y}<extra></extra>",
         "legendgroup": "Footwear",
         "marker": {
          "color": "#EF553B",
          "pattern": {
           "shape": ""
          }
         },
         "name": "Footwear",
         "orientation": "v",
         "showlegend": true,
         "type": "histogram",
         "x": [
          "Footwear",
          "Footwear",
          "Footwear",
          "Footwear",
          "Footwear",
          "Footwear",
          "Footwear",
          "Footwear",
          "Footwear",
          "Footwear",
          "Footwear",
          "Footwear",
          "Footwear",
          "Footwear",
          "Footwear",
          "Footwear",
          "Footwear",
          "Footwear",
          "Footwear",
          "Footwear",
          "Footwear",
          "Footwear",
          "Footwear",
          "Footwear",
          "Footwear",
          "Footwear",
          "Footwear",
          "Footwear",
          "Footwear",
          "Footwear",
          "Footwear",
          "Footwear",
          "Footwear",
          "Footwear",
          "Footwear",
          "Footwear",
          "Footwear",
          "Footwear",
          "Footwear",
          "Footwear",
          "Footwear",
          "Footwear",
          "Footwear",
          "Footwear",
          "Footwear",
          "Footwear",
          "Footwear",
          "Footwear",
          "Footwear",
          "Footwear",
          "Footwear",
          "Footwear",
          "Footwear",
          "Footwear",
          "Footwear",
          "Footwear",
          "Footwear",
          "Footwear",
          "Footwear",
          "Footwear",
          "Footwear",
          "Footwear",
          "Footwear",
          "Footwear",
          "Footwear",
          "Footwear",
          "Footwear",
          "Footwear",
          "Footwear",
          "Footwear",
          "Footwear",
          "Footwear",
          "Footwear",
          "Footwear",
          "Footwear",
          "Footwear",
          "Footwear",
          "Footwear",
          "Footwear",
          "Footwear",
          "Footwear",
          "Footwear",
          "Footwear",
          "Footwear",
          "Footwear",
          "Footwear",
          "Footwear",
          "Footwear",
          "Footwear",
          "Footwear",
          "Footwear",
          "Footwear",
          "Footwear",
          "Footwear",
          "Footwear",
          "Footwear",
          "Footwear",
          "Footwear",
          "Footwear",
          "Footwear",
          "Footwear",
          "Footwear",
          "Footwear",
          "Footwear",
          "Footwear",
          "Footwear",
          "Footwear",
          "Footwear",
          "Footwear",
          "Footwear",
          "Footwear",
          "Footwear",
          "Footwear",
          "Footwear",
          "Footwear",
          "Footwear",
          "Footwear",
          "Footwear",
          "Footwear",
          "Footwear",
          "Footwear",
          "Footwear",
          "Footwear",
          "Footwear",
          "Footwear",
          "Footwear",
          "Footwear",
          "Footwear",
          "Footwear",
          "Footwear",
          "Footwear",
          "Footwear",
          "Footwear",
          "Footwear",
          "Footwear",
          "Footwear",
          "Footwear",
          "Footwear",
          "Footwear",
          "Footwear",
          "Footwear",
          "Footwear",
          "Footwear",
          "Footwear",
          "Footwear",
          "Footwear",
          "Footwear",
          "Footwear",
          "Footwear",
          "Footwear",
          "Footwear",
          "Footwear",
          "Footwear",
          "Footwear",
          "Footwear",
          "Footwear",
          "Footwear",
          "Footwear",
          "Footwear",
          "Footwear",
          "Footwear",
          "Footwear",
          "Footwear",
          "Footwear",
          "Footwear",
          "Footwear",
          "Footwear",
          "Footwear",
          "Footwear",
          "Footwear",
          "Footwear",
          "Footwear",
          "Footwear",
          "Footwear",
          "Footwear",
          "Footwear",
          "Footwear",
          "Footwear",
          "Footwear",
          "Footwear",
          "Footwear",
          "Footwear",
          "Footwear",
          "Footwear",
          "Footwear",
          "Footwear",
          "Footwear",
          "Footwear",
          "Footwear",
          "Footwear",
          "Footwear",
          "Footwear",
          "Footwear",
          "Footwear",
          "Footwear",
          "Footwear",
          "Footwear",
          "Footwear",
          "Footwear",
          "Footwear",
          "Footwear",
          "Footwear",
          "Footwear",
          "Footwear",
          "Footwear",
          "Footwear",
          "Footwear",
          "Footwear",
          "Footwear",
          "Footwear",
          "Footwear",
          "Footwear",
          "Footwear",
          "Footwear",
          "Footwear",
          "Footwear",
          "Footwear",
          "Footwear",
          "Footwear",
          "Footwear",
          "Footwear",
          "Footwear",
          "Footwear",
          "Footwear",
          "Footwear",
          "Footwear",
          "Footwear",
          "Footwear",
          "Footwear",
          "Footwear",
          "Footwear",
          "Footwear",
          "Footwear",
          "Footwear",
          "Footwear",
          "Footwear",
          "Footwear",
          "Footwear",
          "Footwear",
          "Footwear",
          "Footwear",
          "Footwear",
          "Footwear",
          "Footwear",
          "Footwear",
          "Footwear",
          "Footwear",
          "Footwear",
          "Footwear",
          "Footwear",
          "Footwear",
          "Footwear",
          "Footwear",
          "Footwear",
          "Footwear",
          "Footwear",
          "Footwear",
          "Footwear",
          "Footwear",
          "Footwear",
          "Footwear",
          "Footwear",
          "Footwear",
          "Footwear",
          "Footwear",
          "Footwear",
          "Footwear",
          "Footwear",
          "Footwear",
          "Footwear",
          "Footwear",
          "Footwear",
          "Footwear",
          "Footwear",
          "Footwear",
          "Footwear",
          "Footwear",
          "Footwear",
          "Footwear",
          "Footwear",
          "Footwear",
          "Footwear",
          "Footwear",
          "Footwear",
          "Footwear",
          "Footwear",
          "Footwear",
          "Footwear",
          "Footwear",
          "Footwear",
          "Footwear",
          "Footwear",
          "Footwear",
          "Footwear",
          "Footwear",
          "Footwear",
          "Footwear",
          "Footwear",
          "Footwear",
          "Footwear",
          "Footwear",
          "Footwear",
          "Footwear",
          "Footwear",
          "Footwear",
          "Footwear",
          "Footwear",
          "Footwear",
          "Footwear",
          "Footwear",
          "Footwear",
          "Footwear",
          "Footwear",
          "Footwear",
          "Footwear",
          "Footwear",
          "Footwear",
          "Footwear",
          "Footwear",
          "Footwear",
          "Footwear",
          "Footwear",
          "Footwear",
          "Footwear",
          "Footwear",
          "Footwear",
          "Footwear",
          "Footwear",
          "Footwear",
          "Footwear",
          "Footwear",
          "Footwear",
          "Footwear",
          "Footwear",
          "Footwear",
          "Footwear",
          "Footwear",
          "Footwear",
          "Footwear",
          "Footwear",
          "Footwear",
          "Footwear",
          "Footwear",
          "Footwear",
          "Footwear",
          "Footwear",
          "Footwear",
          "Footwear",
          "Footwear",
          "Footwear",
          "Footwear",
          "Footwear",
          "Footwear",
          "Footwear",
          "Footwear",
          "Footwear",
          "Footwear",
          "Footwear",
          "Footwear",
          "Footwear",
          "Footwear",
          "Footwear",
          "Footwear",
          "Footwear",
          "Footwear",
          "Footwear",
          "Footwear",
          "Footwear",
          "Footwear",
          "Footwear",
          "Footwear",
          "Footwear",
          "Footwear",
          "Footwear",
          "Footwear",
          "Footwear",
          "Footwear",
          "Footwear",
          "Footwear",
          "Footwear",
          "Footwear",
          "Footwear",
          "Footwear",
          "Footwear",
          "Footwear",
          "Footwear",
          "Footwear",
          "Footwear",
          "Footwear",
          "Footwear",
          "Footwear",
          "Footwear",
          "Footwear",
          "Footwear",
          "Footwear",
          "Footwear",
          "Footwear",
          "Footwear",
          "Footwear",
          "Footwear",
          "Footwear",
          "Footwear",
          "Footwear",
          "Footwear",
          "Footwear",
          "Footwear",
          "Footwear",
          "Footwear",
          "Footwear",
          "Footwear",
          "Footwear",
          "Footwear",
          "Footwear",
          "Footwear",
          "Footwear",
          "Footwear",
          "Footwear",
          "Footwear",
          "Footwear",
          "Footwear",
          "Footwear",
          "Footwear",
          "Footwear",
          "Footwear",
          "Footwear",
          "Footwear",
          "Footwear",
          "Footwear",
          "Footwear",
          "Footwear",
          "Footwear",
          "Footwear",
          "Footwear",
          "Footwear",
          "Footwear",
          "Footwear",
          "Footwear",
          "Footwear",
          "Footwear",
          "Footwear",
          "Footwear",
          "Footwear",
          "Footwear",
          "Footwear",
          "Footwear",
          "Footwear",
          "Footwear",
          "Footwear",
          "Footwear",
          "Footwear",
          "Footwear",
          "Footwear",
          "Footwear",
          "Footwear",
          "Footwear",
          "Footwear",
          "Footwear",
          "Footwear",
          "Footwear",
          "Footwear",
          "Footwear",
          "Footwear",
          "Footwear",
          "Footwear",
          "Footwear",
          "Footwear",
          "Footwear",
          "Footwear",
          "Footwear",
          "Footwear",
          "Footwear",
          "Footwear",
          "Footwear",
          "Footwear",
          "Footwear",
          "Footwear",
          "Footwear",
          "Footwear",
          "Footwear",
          "Footwear",
          "Footwear",
          "Footwear",
          "Footwear",
          "Footwear",
          "Footwear",
          "Footwear",
          "Footwear",
          "Footwear",
          "Footwear",
          "Footwear",
          "Footwear",
          "Footwear",
          "Footwear",
          "Footwear",
          "Footwear",
          "Footwear",
          "Footwear",
          "Footwear",
          "Footwear",
          "Footwear",
          "Footwear",
          "Footwear",
          "Footwear",
          "Footwear",
          "Footwear",
          "Footwear",
          "Footwear",
          "Footwear",
          "Footwear",
          "Footwear",
          "Footwear",
          "Footwear",
          "Footwear",
          "Footwear",
          "Footwear",
          "Footwear",
          "Footwear",
          "Footwear",
          "Footwear",
          "Footwear",
          "Footwear",
          "Footwear",
          "Footwear",
          "Footwear",
          "Footwear",
          "Footwear",
          "Footwear",
          "Footwear",
          "Footwear",
          "Footwear",
          "Footwear",
          "Footwear",
          "Footwear",
          "Footwear",
          "Footwear",
          "Footwear",
          "Footwear",
          "Footwear",
          "Footwear",
          "Footwear",
          "Footwear",
          "Footwear",
          "Footwear",
          "Footwear",
          "Footwear",
          "Footwear",
          "Footwear",
          "Footwear",
          "Footwear",
          "Footwear",
          "Footwear",
          "Footwear",
          "Footwear",
          "Footwear",
          "Footwear",
          "Footwear",
          "Footwear",
          "Footwear",
          "Footwear",
          "Footwear",
          "Footwear",
          "Footwear",
          "Footwear",
          "Footwear",
          "Footwear",
          "Footwear",
          "Footwear",
          "Footwear",
          "Footwear",
          "Footwear",
          "Footwear",
          "Footwear",
          "Footwear",
          "Footwear",
          "Footwear",
          "Footwear",
          "Footwear",
          "Footwear",
          "Footwear",
          "Footwear",
          "Footwear",
          "Footwear",
          "Footwear",
          "Footwear",
          "Footwear",
          "Footwear",
          "Footwear",
          "Footwear",
          "Footwear",
          "Footwear",
          "Footwear",
          "Footwear",
          "Footwear",
          "Footwear",
          "Footwear",
          "Footwear",
          "Footwear",
          "Footwear",
          "Footwear"
         ],
         "xaxis": "x",
         "yaxis": "y"
        },
        {
         "bingroup": "x",
         "hovertemplate": "Category=%{x}<br>count=%{y}<extra></extra>",
         "legendgroup": "Outerwear",
         "marker": {
          "color": "#00cc96",
          "pattern": {
           "shape": ""
          }
         },
         "name": "Outerwear",
         "orientation": "v",
         "showlegend": true,
         "type": "histogram",
         "x": [
          "Outerwear",
          "Outerwear",
          "Outerwear",
          "Outerwear",
          "Outerwear",
          "Outerwear",
          "Outerwear",
          "Outerwear",
          "Outerwear",
          "Outerwear",
          "Outerwear",
          "Outerwear",
          "Outerwear",
          "Outerwear",
          "Outerwear",
          "Outerwear",
          "Outerwear",
          "Outerwear",
          "Outerwear",
          "Outerwear",
          "Outerwear",
          "Outerwear",
          "Outerwear",
          "Outerwear",
          "Outerwear",
          "Outerwear",
          "Outerwear",
          "Outerwear",
          "Outerwear",
          "Outerwear",
          "Outerwear",
          "Outerwear",
          "Outerwear",
          "Outerwear",
          "Outerwear",
          "Outerwear",
          "Outerwear",
          "Outerwear",
          "Outerwear",
          "Outerwear",
          "Outerwear",
          "Outerwear",
          "Outerwear",
          "Outerwear",
          "Outerwear",
          "Outerwear",
          "Outerwear",
          "Outerwear",
          "Outerwear",
          "Outerwear",
          "Outerwear",
          "Outerwear",
          "Outerwear",
          "Outerwear",
          "Outerwear",
          "Outerwear",
          "Outerwear",
          "Outerwear",
          "Outerwear",
          "Outerwear",
          "Outerwear",
          "Outerwear",
          "Outerwear",
          "Outerwear",
          "Outerwear",
          "Outerwear",
          "Outerwear",
          "Outerwear",
          "Outerwear",
          "Outerwear",
          "Outerwear",
          "Outerwear",
          "Outerwear",
          "Outerwear",
          "Outerwear",
          "Outerwear",
          "Outerwear",
          "Outerwear",
          "Outerwear",
          "Outerwear",
          "Outerwear",
          "Outerwear",
          "Outerwear",
          "Outerwear",
          "Outerwear",
          "Outerwear",
          "Outerwear",
          "Outerwear",
          "Outerwear",
          "Outerwear",
          "Outerwear",
          "Outerwear",
          "Outerwear",
          "Outerwear",
          "Outerwear",
          "Outerwear",
          "Outerwear",
          "Outerwear",
          "Outerwear",
          "Outerwear",
          "Outerwear",
          "Outerwear",
          "Outerwear",
          "Outerwear",
          "Outerwear",
          "Outerwear",
          "Outerwear",
          "Outerwear",
          "Outerwear",
          "Outerwear",
          "Outerwear",
          "Outerwear",
          "Outerwear",
          "Outerwear",
          "Outerwear",
          "Outerwear",
          "Outerwear",
          "Outerwear",
          "Outerwear",
          "Outerwear",
          "Outerwear",
          "Outerwear",
          "Outerwear",
          "Outerwear",
          "Outerwear",
          "Outerwear",
          "Outerwear",
          "Outerwear",
          "Outerwear",
          "Outerwear",
          "Outerwear",
          "Outerwear",
          "Outerwear",
          "Outerwear",
          "Outerwear",
          "Outerwear",
          "Outerwear",
          "Outerwear",
          "Outerwear",
          "Outerwear",
          "Outerwear",
          "Outerwear",
          "Outerwear",
          "Outerwear",
          "Outerwear",
          "Outerwear",
          "Outerwear",
          "Outerwear",
          "Outerwear",
          "Outerwear",
          "Outerwear",
          "Outerwear",
          "Outerwear",
          "Outerwear",
          "Outerwear",
          "Outerwear",
          "Outerwear",
          "Outerwear",
          "Outerwear",
          "Outerwear",
          "Outerwear",
          "Outerwear",
          "Outerwear",
          "Outerwear",
          "Outerwear",
          "Outerwear",
          "Outerwear",
          "Outerwear",
          "Outerwear",
          "Outerwear",
          "Outerwear",
          "Outerwear",
          "Outerwear",
          "Outerwear",
          "Outerwear",
          "Outerwear",
          "Outerwear",
          "Outerwear",
          "Outerwear",
          "Outerwear",
          "Outerwear",
          "Outerwear",
          "Outerwear",
          "Outerwear",
          "Outerwear",
          "Outerwear",
          "Outerwear",
          "Outerwear",
          "Outerwear",
          "Outerwear",
          "Outerwear",
          "Outerwear",
          "Outerwear",
          "Outerwear",
          "Outerwear",
          "Outerwear",
          "Outerwear",
          "Outerwear",
          "Outerwear",
          "Outerwear",
          "Outerwear",
          "Outerwear",
          "Outerwear",
          "Outerwear",
          "Outerwear",
          "Outerwear",
          "Outerwear",
          "Outerwear",
          "Outerwear",
          "Outerwear",
          "Outerwear",
          "Outerwear",
          "Outerwear",
          "Outerwear",
          "Outerwear",
          "Outerwear",
          "Outerwear",
          "Outerwear",
          "Outerwear",
          "Outerwear",
          "Outerwear",
          "Outerwear",
          "Outerwear",
          "Outerwear",
          "Outerwear",
          "Outerwear",
          "Outerwear",
          "Outerwear",
          "Outerwear",
          "Outerwear",
          "Outerwear",
          "Outerwear",
          "Outerwear",
          "Outerwear",
          "Outerwear",
          "Outerwear",
          "Outerwear",
          "Outerwear",
          "Outerwear",
          "Outerwear",
          "Outerwear",
          "Outerwear",
          "Outerwear",
          "Outerwear",
          "Outerwear",
          "Outerwear",
          "Outerwear",
          "Outerwear",
          "Outerwear",
          "Outerwear",
          "Outerwear",
          "Outerwear",
          "Outerwear",
          "Outerwear",
          "Outerwear",
          "Outerwear",
          "Outerwear",
          "Outerwear",
          "Outerwear",
          "Outerwear",
          "Outerwear",
          "Outerwear",
          "Outerwear",
          "Outerwear",
          "Outerwear",
          "Outerwear",
          "Outerwear",
          "Outerwear",
          "Outerwear",
          "Outerwear",
          "Outerwear",
          "Outerwear",
          "Outerwear",
          "Outerwear",
          "Outerwear",
          "Outerwear",
          "Outerwear",
          "Outerwear",
          "Outerwear",
          "Outerwear",
          "Outerwear",
          "Outerwear",
          "Outerwear",
          "Outerwear",
          "Outerwear",
          "Outerwear",
          "Outerwear",
          "Outerwear",
          "Outerwear",
          "Outerwear",
          "Outerwear",
          "Outerwear",
          "Outerwear",
          "Outerwear",
          "Outerwear",
          "Outerwear",
          "Outerwear",
          "Outerwear",
          "Outerwear",
          "Outerwear",
          "Outerwear",
          "Outerwear",
          "Outerwear",
          "Outerwear",
          "Outerwear",
          "Outerwear",
          "Outerwear",
          "Outerwear",
          "Outerwear",
          "Outerwear",
          "Outerwear",
          "Outerwear",
          "Outerwear",
          "Outerwear",
          "Outerwear",
          "Outerwear",
          "Outerwear",
          "Outerwear",
          "Outerwear",
          "Outerwear",
          "Outerwear",
          "Outerwear",
          "Outerwear",
          "Outerwear"
         ],
         "xaxis": "x",
         "yaxis": "y"
        },
        {
         "bingroup": "x",
         "hovertemplate": "Category=%{x}<br>count=%{y}<extra></extra>",
         "legendgroup": "Accessories",
         "marker": {
          "color": "#ab63fa",
          "pattern": {
           "shape": ""
          }
         },
         "name": "Accessories",
         "orientation": "v",
         "showlegend": true,
         "type": "histogram",
         "x": [
          "Accessories",
          "Accessories",
          "Accessories",
          "Accessories",
          "Accessories",
          "Accessories",
          "Accessories",
          "Accessories",
          "Accessories",
          "Accessories",
          "Accessories",
          "Accessories",
          "Accessories",
          "Accessories",
          "Accessories",
          "Accessories",
          "Accessories",
          "Accessories",
          "Accessories",
          "Accessories",
          "Accessories",
          "Accessories",
          "Accessories",
          "Accessories",
          "Accessories",
          "Accessories",
          "Accessories",
          "Accessories",
          "Accessories",
          "Accessories",
          "Accessories",
          "Accessories",
          "Accessories",
          "Accessories",
          "Accessories",
          "Accessories",
          "Accessories",
          "Accessories",
          "Accessories",
          "Accessories",
          "Accessories",
          "Accessories",
          "Accessories",
          "Accessories",
          "Accessories",
          "Accessories",
          "Accessories",
          "Accessories",
          "Accessories",
          "Accessories",
          "Accessories",
          "Accessories",
          "Accessories",
          "Accessories",
          "Accessories",
          "Accessories",
          "Accessories",
          "Accessories",
          "Accessories",
          "Accessories",
          "Accessories",
          "Accessories",
          "Accessories",
          "Accessories",
          "Accessories",
          "Accessories",
          "Accessories",
          "Accessories",
          "Accessories",
          "Accessories",
          "Accessories",
          "Accessories",
          "Accessories",
          "Accessories",
          "Accessories",
          "Accessories",
          "Accessories",
          "Accessories",
          "Accessories",
          "Accessories",
          "Accessories",
          "Accessories",
          "Accessories",
          "Accessories",
          "Accessories",
          "Accessories",
          "Accessories",
          "Accessories",
          "Accessories",
          "Accessories",
          "Accessories",
          "Accessories",
          "Accessories",
          "Accessories",
          "Accessories",
          "Accessories",
          "Accessories",
          "Accessories",
          "Accessories",
          "Accessories",
          "Accessories",
          "Accessories",
          "Accessories",
          "Accessories",
          "Accessories",
          "Accessories",
          "Accessories",
          "Accessories",
          "Accessories",
          "Accessories",
          "Accessories",
          "Accessories",
          "Accessories",
          "Accessories",
          "Accessories",
          "Accessories",
          "Accessories",
          "Accessories",
          "Accessories",
          "Accessories",
          "Accessories",
          "Accessories",
          "Accessories",
          "Accessories",
          "Accessories",
          "Accessories",
          "Accessories",
          "Accessories",
          "Accessories",
          "Accessories",
          "Accessories",
          "Accessories",
          "Accessories",
          "Accessories",
          "Accessories",
          "Accessories",
          "Accessories",
          "Accessories",
          "Accessories",
          "Accessories",
          "Accessories",
          "Accessories",
          "Accessories",
          "Accessories",
          "Accessories",
          "Accessories",
          "Accessories",
          "Accessories",
          "Accessories",
          "Accessories",
          "Accessories",
          "Accessories",
          "Accessories",
          "Accessories",
          "Accessories",
          "Accessories",
          "Accessories",
          "Accessories",
          "Accessories",
          "Accessories",
          "Accessories",
          "Accessories",
          "Accessories",
          "Accessories",
          "Accessories",
          "Accessories",
          "Accessories",
          "Accessories",
          "Accessories",
          "Accessories",
          "Accessories",
          "Accessories",
          "Accessories",
          "Accessories",
          "Accessories",
          "Accessories",
          "Accessories",
          "Accessories",
          "Accessories",
          "Accessories",
          "Accessories",
          "Accessories",
          "Accessories",
          "Accessories",
          "Accessories",
          "Accessories",
          "Accessories",
          "Accessories",
          "Accessories",
          "Accessories",
          "Accessories",
          "Accessories",
          "Accessories",
          "Accessories",
          "Accessories",
          "Accessories",
          "Accessories",
          "Accessories",
          "Accessories",
          "Accessories",
          "Accessories",
          "Accessories",
          "Accessories",
          "Accessories",
          "Accessories",
          "Accessories",
          "Accessories",
          "Accessories",
          "Accessories",
          "Accessories",
          "Accessories",
          "Accessories",
          "Accessories",
          "Accessories",
          "Accessories",
          "Accessories",
          "Accessories",
          "Accessories",
          "Accessories",
          "Accessories",
          "Accessories",
          "Accessories",
          "Accessories",
          "Accessories",
          "Accessories",
          "Accessories",
          "Accessories",
          "Accessories",
          "Accessories",
          "Accessories",
          "Accessories",
          "Accessories",
          "Accessories",
          "Accessories",
          "Accessories",
          "Accessories",
          "Accessories",
          "Accessories",
          "Accessories",
          "Accessories",
          "Accessories",
          "Accessories",
          "Accessories",
          "Accessories",
          "Accessories",
          "Accessories",
          "Accessories",
          "Accessories",
          "Accessories",
          "Accessories",
          "Accessories",
          "Accessories",
          "Accessories",
          "Accessories",
          "Accessories",
          "Accessories",
          "Accessories",
          "Accessories",
          "Accessories",
          "Accessories",
          "Accessories",
          "Accessories",
          "Accessories",
          "Accessories",
          "Accessories",
          "Accessories",
          "Accessories",
          "Accessories",
          "Accessories",
          "Accessories",
          "Accessories",
          "Accessories",
          "Accessories",
          "Accessories",
          "Accessories",
          "Accessories",
          "Accessories",
          "Accessories",
          "Accessories",
          "Accessories",
          "Accessories",
          "Accessories",
          "Accessories",
          "Accessories",
          "Accessories",
          "Accessories",
          "Accessories",
          "Accessories",
          "Accessories",
          "Accessories",
          "Accessories",
          "Accessories",
          "Accessories",
          "Accessories",
          "Accessories",
          "Accessories",
          "Accessories",
          "Accessories",
          "Accessories",
          "Accessories",
          "Accessories",
          "Accessories",
          "Accessories",
          "Accessories",
          "Accessories",
          "Accessories",
          "Accessories",
          "Accessories",
          "Accessories",
          "Accessories",
          "Accessories",
          "Accessories",
          "Accessories",
          "Accessories",
          "Accessories",
          "Accessories",
          "Accessories",
          "Accessories",
          "Accessories",
          "Accessories",
          "Accessories",
          "Accessories",
          "Accessories",
          "Accessories",
          "Accessories",
          "Accessories",
          "Accessories",
          "Accessories",
          "Accessories",
          "Accessories",
          "Accessories",
          "Accessories",
          "Accessories",
          "Accessories",
          "Accessories",
          "Accessories",
          "Accessories",
          "Accessories",
          "Accessories",
          "Accessories",
          "Accessories",
          "Accessories",
          "Accessories",
          "Accessories",
          "Accessories",
          "Accessories",
          "Accessories",
          "Accessories",
          "Accessories",
          "Accessories",
          "Accessories",
          "Accessories",
          "Accessories",
          "Accessories",
          "Accessories",
          "Accessories",
          "Accessories",
          "Accessories",
          "Accessories",
          "Accessories",
          "Accessories",
          "Accessories",
          "Accessories",
          "Accessories",
          "Accessories",
          "Accessories",
          "Accessories",
          "Accessories",
          "Accessories",
          "Accessories",
          "Accessories",
          "Accessories",
          "Accessories",
          "Accessories",
          "Accessories",
          "Accessories",
          "Accessories",
          "Accessories",
          "Accessories",
          "Accessories",
          "Accessories",
          "Accessories",
          "Accessories",
          "Accessories",
          "Accessories",
          "Accessories",
          "Accessories",
          "Accessories",
          "Accessories",
          "Accessories",
          "Accessories",
          "Accessories",
          "Accessories",
          "Accessories",
          "Accessories",
          "Accessories",
          "Accessories",
          "Accessories",
          "Accessories",
          "Accessories",
          "Accessories",
          "Accessories",
          "Accessories",
          "Accessories",
          "Accessories",
          "Accessories",
          "Accessories",
          "Accessories",
          "Accessories",
          "Accessories",
          "Accessories",
          "Accessories",
          "Accessories",
          "Accessories",
          "Accessories",
          "Accessories",
          "Accessories",
          "Accessories",
          "Accessories",
          "Accessories",
          "Accessories",
          "Accessories",
          "Accessories",
          "Accessories",
          "Accessories",
          "Accessories",
          "Accessories",
          "Accessories",
          "Accessories",
          "Accessories",
          "Accessories",
          "Accessories",
          "Accessories",
          "Accessories",
          "Accessories",
          "Accessories",
          "Accessories",
          "Accessories",
          "Accessories",
          "Accessories",
          "Accessories",
          "Accessories",
          "Accessories",
          "Accessories",
          "Accessories",
          "Accessories",
          "Accessories",
          "Accessories",
          "Accessories",
          "Accessories",
          "Accessories",
          "Accessories",
          "Accessories",
          "Accessories",
          "Accessories",
          "Accessories",
          "Accessories",
          "Accessories",
          "Accessories",
          "Accessories",
          "Accessories",
          "Accessories",
          "Accessories",
          "Accessories",
          "Accessories",
          "Accessories",
          "Accessories",
          "Accessories",
          "Accessories",
          "Accessories",
          "Accessories",
          "Accessories",
          "Accessories",
          "Accessories",
          "Accessories",
          "Accessories",
          "Accessories",
          "Accessories",
          "Accessories",
          "Accessories",
          "Accessories",
          "Accessories",
          "Accessories",
          "Accessories",
          "Accessories",
          "Accessories",
          "Accessories",
          "Accessories",
          "Accessories",
          "Accessories",
          "Accessories",
          "Accessories",
          "Accessories",
          "Accessories",
          "Accessories",
          "Accessories",
          "Accessories",
          "Accessories",
          "Accessories",
          "Accessories",
          "Accessories",
          "Accessories",
          "Accessories",
          "Accessories",
          "Accessories",
          "Accessories",
          "Accessories",
          "Accessories",
          "Accessories",
          "Accessories",
          "Accessories",
          "Accessories",
          "Accessories",
          "Accessories",
          "Accessories",
          "Accessories",
          "Accessories",
          "Accessories",
          "Accessories",
          "Accessories",
          "Accessories",
          "Accessories",
          "Accessories",
          "Accessories",
          "Accessories",
          "Accessories",
          "Accessories",
          "Accessories",
          "Accessories",
          "Accessories",
          "Accessories",
          "Accessories",
          "Accessories",
          "Accessories",
          "Accessories",
          "Accessories",
          "Accessories",
          "Accessories",
          "Accessories",
          "Accessories",
          "Accessories",
          "Accessories",
          "Accessories",
          "Accessories",
          "Accessories",
          "Accessories",
          "Accessories",
          "Accessories",
          "Accessories",
          "Accessories",
          "Accessories",
          "Accessories",
          "Accessories",
          "Accessories",
          "Accessories",
          "Accessories",
          "Accessories",
          "Accessories",
          "Accessories",
          "Accessories",
          "Accessories",
          "Accessories",
          "Accessories",
          "Accessories",
          "Accessories",
          "Accessories",
          "Accessories",
          "Accessories",
          "Accessories",
          "Accessories",
          "Accessories",
          "Accessories",
          "Accessories",
          "Accessories",
          "Accessories",
          "Accessories",
          "Accessories",
          "Accessories",
          "Accessories",
          "Accessories",
          "Accessories",
          "Accessories",
          "Accessories",
          "Accessories",
          "Accessories",
          "Accessories",
          "Accessories",
          "Accessories",
          "Accessories",
          "Accessories",
          "Accessories",
          "Accessories",
          "Accessories",
          "Accessories",
          "Accessories",
          "Accessories",
          "Accessories",
          "Accessories",
          "Accessories",
          "Accessories",
          "Accessories",
          "Accessories",
          "Accessories",
          "Accessories",
          "Accessories",
          "Accessories",
          "Accessories",
          "Accessories",
          "Accessories",
          "Accessories",
          "Accessories",
          "Accessories",
          "Accessories",
          "Accessories",
          "Accessories",
          "Accessories",
          "Accessories",
          "Accessories",
          "Accessories",
          "Accessories",
          "Accessories",
          "Accessories",
          "Accessories",
          "Accessories",
          "Accessories",
          "Accessories",
          "Accessories",
          "Accessories",
          "Accessories",
          "Accessories",
          "Accessories",
          "Accessories",
          "Accessories",
          "Accessories",
          "Accessories",
          "Accessories",
          "Accessories",
          "Accessories",
          "Accessories",
          "Accessories",
          "Accessories",
          "Accessories",
          "Accessories",
          "Accessories",
          "Accessories",
          "Accessories",
          "Accessories",
          "Accessories",
          "Accessories",
          "Accessories",
          "Accessories",
          "Accessories",
          "Accessories",
          "Accessories",
          "Accessories",
          "Accessories",
          "Accessories",
          "Accessories",
          "Accessories",
          "Accessories",
          "Accessories",
          "Accessories",
          "Accessories",
          "Accessories",
          "Accessories",
          "Accessories",
          "Accessories",
          "Accessories",
          "Accessories",
          "Accessories",
          "Accessories",
          "Accessories",
          "Accessories",
          "Accessories",
          "Accessories",
          "Accessories",
          "Accessories",
          "Accessories",
          "Accessories",
          "Accessories",
          "Accessories",
          "Accessories",
          "Accessories",
          "Accessories",
          "Accessories",
          "Accessories",
          "Accessories",
          "Accessories",
          "Accessories",
          "Accessories",
          "Accessories",
          "Accessories",
          "Accessories",
          "Accessories",
          "Accessories",
          "Accessories",
          "Accessories",
          "Accessories",
          "Accessories",
          "Accessories",
          "Accessories",
          "Accessories",
          "Accessories",
          "Accessories",
          "Accessories",
          "Accessories",
          "Accessories",
          "Accessories",
          "Accessories",
          "Accessories",
          "Accessories",
          "Accessories",
          "Accessories",
          "Accessories",
          "Accessories",
          "Accessories",
          "Accessories",
          "Accessories",
          "Accessories",
          "Accessories",
          "Accessories",
          "Accessories",
          "Accessories",
          "Accessories",
          "Accessories",
          "Accessories",
          "Accessories",
          "Accessories",
          "Accessories",
          "Accessories",
          "Accessories",
          "Accessories",
          "Accessories",
          "Accessories",
          "Accessories",
          "Accessories",
          "Accessories",
          "Accessories",
          "Accessories",
          "Accessories",
          "Accessories",
          "Accessories",
          "Accessories",
          "Accessories",
          "Accessories",
          "Accessories",
          "Accessories",
          "Accessories",
          "Accessories",
          "Accessories",
          "Accessories",
          "Accessories",
          "Accessories",
          "Accessories",
          "Accessories",
          "Accessories",
          "Accessories",
          "Accessories",
          "Accessories",
          "Accessories",
          "Accessories",
          "Accessories",
          "Accessories",
          "Accessories",
          "Accessories",
          "Accessories",
          "Accessories",
          "Accessories",
          "Accessories",
          "Accessories",
          "Accessories",
          "Accessories",
          "Accessories",
          "Accessories",
          "Accessories",
          "Accessories",
          "Accessories",
          "Accessories",
          "Accessories",
          "Accessories",
          "Accessories",
          "Accessories",
          "Accessories",
          "Accessories",
          "Accessories",
          "Accessories",
          "Accessories",
          "Accessories",
          "Accessories",
          "Accessories",
          "Accessories",
          "Accessories",
          "Accessories",
          "Accessories",
          "Accessories",
          "Accessories",
          "Accessories",
          "Accessories",
          "Accessories",
          "Accessories",
          "Accessories",
          "Accessories",
          "Accessories",
          "Accessories",
          "Accessories",
          "Accessories",
          "Accessories",
          "Accessories",
          "Accessories",
          "Accessories",
          "Accessories",
          "Accessories",
          "Accessories",
          "Accessories",
          "Accessories",
          "Accessories",
          "Accessories",
          "Accessories",
          "Accessories",
          "Accessories",
          "Accessories",
          "Accessories",
          "Accessories",
          "Accessories",
          "Accessories",
          "Accessories",
          "Accessories",
          "Accessories",
          "Accessories",
          "Accessories",
          "Accessories",
          "Accessories",
          "Accessories",
          "Accessories",
          "Accessories",
          "Accessories",
          "Accessories",
          "Accessories",
          "Accessories",
          "Accessories",
          "Accessories",
          "Accessories",
          "Accessories",
          "Accessories",
          "Accessories",
          "Accessories",
          "Accessories",
          "Accessories",
          "Accessories",
          "Accessories",
          "Accessories",
          "Accessories",
          "Accessories",
          "Accessories",
          "Accessories",
          "Accessories",
          "Accessories",
          "Accessories",
          "Accessories",
          "Accessories",
          "Accessories",
          "Accessories",
          "Accessories",
          "Accessories",
          "Accessories",
          "Accessories",
          "Accessories",
          "Accessories",
          "Accessories",
          "Accessories",
          "Accessories",
          "Accessories",
          "Accessories",
          "Accessories",
          "Accessories",
          "Accessories",
          "Accessories",
          "Accessories",
          "Accessories",
          "Accessories",
          "Accessories",
          "Accessories",
          "Accessories",
          "Accessories",
          "Accessories",
          "Accessories",
          "Accessories",
          "Accessories",
          "Accessories",
          "Accessories",
          "Accessories",
          "Accessories",
          "Accessories",
          "Accessories",
          "Accessories",
          "Accessories",
          "Accessories",
          "Accessories",
          "Accessories",
          "Accessories",
          "Accessories",
          "Accessories",
          "Accessories",
          "Accessories",
          "Accessories",
          "Accessories",
          "Accessories",
          "Accessories",
          "Accessories",
          "Accessories",
          "Accessories",
          "Accessories",
          "Accessories",
          "Accessories",
          "Accessories",
          "Accessories",
          "Accessories",
          "Accessories",
          "Accessories",
          "Accessories",
          "Accessories",
          "Accessories",
          "Accessories",
          "Accessories",
          "Accessories",
          "Accessories",
          "Accessories",
          "Accessories",
          "Accessories",
          "Accessories",
          "Accessories",
          "Accessories",
          "Accessories",
          "Accessories",
          "Accessories",
          "Accessories",
          "Accessories",
          "Accessories",
          "Accessories",
          "Accessories",
          "Accessories",
          "Accessories",
          "Accessories",
          "Accessories",
          "Accessories",
          "Accessories",
          "Accessories",
          "Accessories",
          "Accessories",
          "Accessories",
          "Accessories",
          "Accessories",
          "Accessories",
          "Accessories",
          "Accessories",
          "Accessories",
          "Accessories",
          "Accessories",
          "Accessories",
          "Accessories",
          "Accessories",
          "Accessories",
          "Accessories",
          "Accessories",
          "Accessories",
          "Accessories",
          "Accessories",
          "Accessories",
          "Accessories",
          "Accessories",
          "Accessories",
          "Accessories",
          "Accessories",
          "Accessories",
          "Accessories",
          "Accessories",
          "Accessories",
          "Accessories",
          "Accessories",
          "Accessories",
          "Accessories",
          "Accessories",
          "Accessories",
          "Accessories",
          "Accessories",
          "Accessories",
          "Accessories",
          "Accessories",
          "Accessories",
          "Accessories",
          "Accessories",
          "Accessories",
          "Accessories",
          "Accessories",
          "Accessories",
          "Accessories",
          "Accessories",
          "Accessories",
          "Accessories",
          "Accessories",
          "Accessories",
          "Accessories",
          "Accessories",
          "Accessories",
          "Accessories",
          "Accessories",
          "Accessories",
          "Accessories",
          "Accessories",
          "Accessories",
          "Accessories",
          "Accessories",
          "Accessories",
          "Accessories",
          "Accessories",
          "Accessories",
          "Accessories",
          "Accessories",
          "Accessories",
          "Accessories",
          "Accessories",
          "Accessories",
          "Accessories",
          "Accessories",
          "Accessories",
          "Accessories",
          "Accessories",
          "Accessories",
          "Accessories",
          "Accessories",
          "Accessories",
          "Accessories",
          "Accessories",
          "Accessories",
          "Accessories",
          "Accessories",
          "Accessories",
          "Accessories",
          "Accessories",
          "Accessories",
          "Accessories",
          "Accessories",
          "Accessories",
          "Accessories",
          "Accessories",
          "Accessories",
          "Accessories",
          "Accessories",
          "Accessories",
          "Accessories",
          "Accessories",
          "Accessories",
          "Accessories",
          "Accessories",
          "Accessories",
          "Accessories",
          "Accessories",
          "Accessories",
          "Accessories",
          "Accessories",
          "Accessories",
          "Accessories",
          "Accessories",
          "Accessories",
          "Accessories",
          "Accessories",
          "Accessories",
          "Accessories",
          "Accessories",
          "Accessories",
          "Accessories",
          "Accessories",
          "Accessories",
          "Accessories",
          "Accessories",
          "Accessories",
          "Accessories",
          "Accessories",
          "Accessories",
          "Accessories",
          "Accessories",
          "Accessories",
          "Accessories",
          "Accessories",
          "Accessories",
          "Accessories",
          "Accessories",
          "Accessories",
          "Accessories",
          "Accessories",
          "Accessories",
          "Accessories",
          "Accessories",
          "Accessories",
          "Accessories",
          "Accessories",
          "Accessories",
          "Accessories",
          "Accessories",
          "Accessories",
          "Accessories",
          "Accessories",
          "Accessories",
          "Accessories",
          "Accessories",
          "Accessories",
          "Accessories",
          "Accessories",
          "Accessories",
          "Accessories",
          "Accessories",
          "Accessories",
          "Accessories",
          "Accessories",
          "Accessories",
          "Accessories",
          "Accessories",
          "Accessories",
          "Accessories",
          "Accessories",
          "Accessories",
          "Accessories",
          "Accessories",
          "Accessories",
          "Accessories",
          "Accessories",
          "Accessories",
          "Accessories",
          "Accessories",
          "Accessories",
          "Accessories",
          "Accessories",
          "Accessories",
          "Accessories",
          "Accessories",
          "Accessories",
          "Accessories",
          "Accessories",
          "Accessories",
          "Accessories",
          "Accessories",
          "Accessories",
          "Accessories",
          "Accessories",
          "Accessories",
          "Accessories",
          "Accessories",
          "Accessories",
          "Accessories",
          "Accessories",
          "Accessories",
          "Accessories",
          "Accessories",
          "Accessories",
          "Accessories",
          "Accessories",
          "Accessories",
          "Accessories",
          "Accessories",
          "Accessories",
          "Accessories",
          "Accessories",
          "Accessories",
          "Accessories",
          "Accessories",
          "Accessories",
          "Accessories",
          "Accessories",
          "Accessories",
          "Accessories",
          "Accessories",
          "Accessories",
          "Accessories",
          "Accessories",
          "Accessories",
          "Accessories",
          "Accessories",
          "Accessories",
          "Accessories",
          "Accessories",
          "Accessories",
          "Accessories",
          "Accessories",
          "Accessories",
          "Accessories",
          "Accessories",
          "Accessories",
          "Accessories",
          "Accessories",
          "Accessories",
          "Accessories",
          "Accessories",
          "Accessories",
          "Accessories",
          "Accessories",
          "Accessories",
          "Accessories",
          "Accessories",
          "Accessories",
          "Accessories",
          "Accessories",
          "Accessories",
          "Accessories",
          "Accessories",
          "Accessories",
          "Accessories",
          "Accessories",
          "Accessories",
          "Accessories",
          "Accessories",
          "Accessories",
          "Accessories",
          "Accessories",
          "Accessories",
          "Accessories",
          "Accessories",
          "Accessories",
          "Accessories",
          "Accessories",
          "Accessories",
          "Accessories",
          "Accessories",
          "Accessories",
          "Accessories",
          "Accessories",
          "Accessories",
          "Accessories",
          "Accessories",
          "Accessories",
          "Accessories",
          "Accessories",
          "Accessories",
          "Accessories",
          "Accessories",
          "Accessories",
          "Accessories",
          "Accessories",
          "Accessories",
          "Accessories",
          "Accessories"
         ],
         "xaxis": "x",
         "yaxis": "y"
        }
       ],
       "layout": {
        "barmode": "relative",
        "legend": {
         "title": {
          "text": "Category"
         },
         "tracegroupgap": 0
        },
        "template": {
         "data": {
          "bar": [
           {
            "error_x": {
             "color": "#2a3f5f"
            },
            "error_y": {
             "color": "#2a3f5f"
            },
            "marker": {
             "line": {
              "color": "#E5ECF6",
              "width": 0.5
             },
             "pattern": {
              "fillmode": "overlay",
              "size": 10,
              "solidity": 0.2
             }
            },
            "type": "bar"
           }
          ],
          "barpolar": [
           {
            "marker": {
             "line": {
              "color": "#E5ECF6",
              "width": 0.5
             },
             "pattern": {
              "fillmode": "overlay",
              "size": 10,
              "solidity": 0.2
             }
            },
            "type": "barpolar"
           }
          ],
          "carpet": [
           {
            "aaxis": {
             "endlinecolor": "#2a3f5f",
             "gridcolor": "white",
             "linecolor": "white",
             "minorgridcolor": "white",
             "startlinecolor": "#2a3f5f"
            },
            "baxis": {
             "endlinecolor": "#2a3f5f",
             "gridcolor": "white",
             "linecolor": "white",
             "minorgridcolor": "white",
             "startlinecolor": "#2a3f5f"
            },
            "type": "carpet"
           }
          ],
          "choropleth": [
           {
            "colorbar": {
             "outlinewidth": 0,
             "ticks": ""
            },
            "type": "choropleth"
           }
          ],
          "contour": [
           {
            "colorbar": {
             "outlinewidth": 0,
             "ticks": ""
            },
            "colorscale": [
             [
              0,
              "#0d0887"
             ],
             [
              0.1111111111111111,
              "#46039f"
             ],
             [
              0.2222222222222222,
              "#7201a8"
             ],
             [
              0.3333333333333333,
              "#9c179e"
             ],
             [
              0.4444444444444444,
              "#bd3786"
             ],
             [
              0.5555555555555556,
              "#d8576b"
             ],
             [
              0.6666666666666666,
              "#ed7953"
             ],
             [
              0.7777777777777778,
              "#fb9f3a"
             ],
             [
              0.8888888888888888,
              "#fdca26"
             ],
             [
              1,
              "#f0f921"
             ]
            ],
            "type": "contour"
           }
          ],
          "contourcarpet": [
           {
            "colorbar": {
             "outlinewidth": 0,
             "ticks": ""
            },
            "type": "contourcarpet"
           }
          ],
          "heatmap": [
           {
            "colorbar": {
             "outlinewidth": 0,
             "ticks": ""
            },
            "colorscale": [
             [
              0,
              "#0d0887"
             ],
             [
              0.1111111111111111,
              "#46039f"
             ],
             [
              0.2222222222222222,
              "#7201a8"
             ],
             [
              0.3333333333333333,
              "#9c179e"
             ],
             [
              0.4444444444444444,
              "#bd3786"
             ],
             [
              0.5555555555555556,
              "#d8576b"
             ],
             [
              0.6666666666666666,
              "#ed7953"
             ],
             [
              0.7777777777777778,
              "#fb9f3a"
             ],
             [
              0.8888888888888888,
              "#fdca26"
             ],
             [
              1,
              "#f0f921"
             ]
            ],
            "type": "heatmap"
           }
          ],
          "histogram": [
           {
            "marker": {
             "pattern": {
              "fillmode": "overlay",
              "size": 10,
              "solidity": 0.2
             }
            },
            "type": "histogram"
           }
          ],
          "histogram2d": [
           {
            "colorbar": {
             "outlinewidth": 0,
             "ticks": ""
            },
            "colorscale": [
             [
              0,
              "#0d0887"
             ],
             [
              0.1111111111111111,
              "#46039f"
             ],
             [
              0.2222222222222222,
              "#7201a8"
             ],
             [
              0.3333333333333333,
              "#9c179e"
             ],
             [
              0.4444444444444444,
              "#bd3786"
             ],
             [
              0.5555555555555556,
              "#d8576b"
             ],
             [
              0.6666666666666666,
              "#ed7953"
             ],
             [
              0.7777777777777778,
              "#fb9f3a"
             ],
             [
              0.8888888888888888,
              "#fdca26"
             ],
             [
              1,
              "#f0f921"
             ]
            ],
            "type": "histogram2d"
           }
          ],
          "histogram2dcontour": [
           {
            "colorbar": {
             "outlinewidth": 0,
             "ticks": ""
            },
            "colorscale": [
             [
              0,
              "#0d0887"
             ],
             [
              0.1111111111111111,
              "#46039f"
             ],
             [
              0.2222222222222222,
              "#7201a8"
             ],
             [
              0.3333333333333333,
              "#9c179e"
             ],
             [
              0.4444444444444444,
              "#bd3786"
             ],
             [
              0.5555555555555556,
              "#d8576b"
             ],
             [
              0.6666666666666666,
              "#ed7953"
             ],
             [
              0.7777777777777778,
              "#fb9f3a"
             ],
             [
              0.8888888888888888,
              "#fdca26"
             ],
             [
              1,
              "#f0f921"
             ]
            ],
            "type": "histogram2dcontour"
           }
          ],
          "mesh3d": [
           {
            "colorbar": {
             "outlinewidth": 0,
             "ticks": ""
            },
            "type": "mesh3d"
           }
          ],
          "parcoords": [
           {
            "line": {
             "colorbar": {
              "outlinewidth": 0,
              "ticks": ""
             }
            },
            "type": "parcoords"
           }
          ],
          "pie": [
           {
            "automargin": true,
            "type": "pie"
           }
          ],
          "scatter": [
           {
            "fillpattern": {
             "fillmode": "overlay",
             "size": 10,
             "solidity": 0.2
            },
            "type": "scatter"
           }
          ],
          "scatter3d": [
           {
            "line": {
             "colorbar": {
              "outlinewidth": 0,
              "ticks": ""
             }
            },
            "marker": {
             "colorbar": {
              "outlinewidth": 0,
              "ticks": ""
             }
            },
            "type": "scatter3d"
           }
          ],
          "scattercarpet": [
           {
            "marker": {
             "colorbar": {
              "outlinewidth": 0,
              "ticks": ""
             }
            },
            "type": "scattercarpet"
           }
          ],
          "scattergeo": [
           {
            "marker": {
             "colorbar": {
              "outlinewidth": 0,
              "ticks": ""
             }
            },
            "type": "scattergeo"
           }
          ],
          "scattergl": [
           {
            "marker": {
             "colorbar": {
              "outlinewidth": 0,
              "ticks": ""
             }
            },
            "type": "scattergl"
           }
          ],
          "scattermap": [
           {
            "marker": {
             "colorbar": {
              "outlinewidth": 0,
              "ticks": ""
             }
            },
            "type": "scattermap"
           }
          ],
          "scattermapbox": [
           {
            "marker": {
             "colorbar": {
              "outlinewidth": 0,
              "ticks": ""
             }
            },
            "type": "scattermapbox"
           }
          ],
          "scatterpolar": [
           {
            "marker": {
             "colorbar": {
              "outlinewidth": 0,
              "ticks": ""
             }
            },
            "type": "scatterpolar"
           }
          ],
          "scatterpolargl": [
           {
            "marker": {
             "colorbar": {
              "outlinewidth": 0,
              "ticks": ""
             }
            },
            "type": "scatterpolargl"
           }
          ],
          "scatterternary": [
           {
            "marker": {
             "colorbar": {
              "outlinewidth": 0,
              "ticks": ""
             }
            },
            "type": "scatterternary"
           }
          ],
          "surface": [
           {
            "colorbar": {
             "outlinewidth": 0,
             "ticks": ""
            },
            "colorscale": [
             [
              0,
              "#0d0887"
             ],
             [
              0.1111111111111111,
              "#46039f"
             ],
             [
              0.2222222222222222,
              "#7201a8"
             ],
             [
              0.3333333333333333,
              "#9c179e"
             ],
             [
              0.4444444444444444,
              "#bd3786"
             ],
             [
              0.5555555555555556,
              "#d8576b"
             ],
             [
              0.6666666666666666,
              "#ed7953"
             ],
             [
              0.7777777777777778,
              "#fb9f3a"
             ],
             [
              0.8888888888888888,
              "#fdca26"
             ],
             [
              1,
              "#f0f921"
             ]
            ],
            "type": "surface"
           }
          ],
          "table": [
           {
            "cells": {
             "fill": {
              "color": "#EBF0F8"
             },
             "line": {
              "color": "white"
             }
            },
            "header": {
             "fill": {
              "color": "#C8D4E3"
             },
             "line": {
              "color": "white"
             }
            },
            "type": "table"
           }
          ]
         },
         "layout": {
          "annotationdefaults": {
           "arrowcolor": "#2a3f5f",
           "arrowhead": 0,
           "arrowwidth": 1
          },
          "autotypenumbers": "strict",
          "coloraxis": {
           "colorbar": {
            "outlinewidth": 0,
            "ticks": ""
           }
          },
          "colorscale": {
           "diverging": [
            [
             0,
             "#8e0152"
            ],
            [
             0.1,
             "#c51b7d"
            ],
            [
             0.2,
             "#de77ae"
            ],
            [
             0.3,
             "#f1b6da"
            ],
            [
             0.4,
             "#fde0ef"
            ],
            [
             0.5,
             "#f7f7f7"
            ],
            [
             0.6,
             "#e6f5d0"
            ],
            [
             0.7,
             "#b8e186"
            ],
            [
             0.8,
             "#7fbc41"
            ],
            [
             0.9,
             "#4d9221"
            ],
            [
             1,
             "#276419"
            ]
           ],
           "sequential": [
            [
             0,
             "#0d0887"
            ],
            [
             0.1111111111111111,
             "#46039f"
            ],
            [
             0.2222222222222222,
             "#7201a8"
            ],
            [
             0.3333333333333333,
             "#9c179e"
            ],
            [
             0.4444444444444444,
             "#bd3786"
            ],
            [
             0.5555555555555556,
             "#d8576b"
            ],
            [
             0.6666666666666666,
             "#ed7953"
            ],
            [
             0.7777777777777778,
             "#fb9f3a"
            ],
            [
             0.8888888888888888,
             "#fdca26"
            ],
            [
             1,
             "#f0f921"
            ]
           ],
           "sequentialminus": [
            [
             0,
             "#0d0887"
            ],
            [
             0.1111111111111111,
             "#46039f"
            ],
            [
             0.2222222222222222,
             "#7201a8"
            ],
            [
             0.3333333333333333,
             "#9c179e"
            ],
            [
             0.4444444444444444,
             "#bd3786"
            ],
            [
             0.5555555555555556,
             "#d8576b"
            ],
            [
             0.6666666666666666,
             "#ed7953"
            ],
            [
             0.7777777777777778,
             "#fb9f3a"
            ],
            [
             0.8888888888888888,
             "#fdca26"
            ],
            [
             1,
             "#f0f921"
            ]
           ]
          },
          "colorway": [
           "#636efa",
           "#EF553B",
           "#00cc96",
           "#ab63fa",
           "#FFA15A",
           "#19d3f3",
           "#FF6692",
           "#B6E880",
           "#FF97FF",
           "#FECB52"
          ],
          "font": {
           "color": "#2a3f5f"
          },
          "geo": {
           "bgcolor": "white",
           "lakecolor": "white",
           "landcolor": "#E5ECF6",
           "showlakes": true,
           "showland": true,
           "subunitcolor": "white"
          },
          "hoverlabel": {
           "align": "left"
          },
          "hovermode": "closest",
          "mapbox": {
           "style": "light"
          },
          "paper_bgcolor": "white",
          "plot_bgcolor": "#E5ECF6",
          "polar": {
           "angularaxis": {
            "gridcolor": "white",
            "linecolor": "white",
            "ticks": ""
           },
           "bgcolor": "#E5ECF6",
           "radialaxis": {
            "gridcolor": "white",
            "linecolor": "white",
            "ticks": ""
           }
          },
          "scene": {
           "xaxis": {
            "backgroundcolor": "#E5ECF6",
            "gridcolor": "white",
            "gridwidth": 2,
            "linecolor": "white",
            "showbackground": true,
            "ticks": "",
            "zerolinecolor": "white"
           },
           "yaxis": {
            "backgroundcolor": "#E5ECF6",
            "gridcolor": "white",
            "gridwidth": 2,
            "linecolor": "white",
            "showbackground": true,
            "ticks": "",
            "zerolinecolor": "white"
           },
           "zaxis": {
            "backgroundcolor": "#E5ECF6",
            "gridcolor": "white",
            "gridwidth": 2,
            "linecolor": "white",
            "showbackground": true,
            "ticks": "",
            "zerolinecolor": "white"
           }
          },
          "shapedefaults": {
           "line": {
            "color": "#2a3f5f"
           }
          },
          "ternary": {
           "aaxis": {
            "gridcolor": "white",
            "linecolor": "white",
            "ticks": ""
           },
           "baxis": {
            "gridcolor": "white",
            "linecolor": "white",
            "ticks": ""
           },
           "bgcolor": "#E5ECF6",
           "caxis": {
            "gridcolor": "white",
            "linecolor": "white",
            "ticks": ""
           }
          },
          "title": {
           "x": 0.05
          },
          "xaxis": {
           "automargin": true,
           "gridcolor": "white",
           "linecolor": "white",
           "ticks": "",
           "title": {
            "standoff": 15
           },
           "zerolinecolor": "white",
           "zerolinewidth": 2
          },
          "yaxis": {
           "automargin": true,
           "gridcolor": "white",
           "linecolor": "white",
           "ticks": "",
           "title": {
            "standoff": 15
           },
           "zerolinecolor": "white",
           "zerolinewidth": 2
          }
         }
        },
        "title": {
         "text": "Category Items Distribution"
        },
        "xaxis": {
         "anchor": "y",
         "categoryarray": [
          "Clothing",
          "Footwear",
          "Outerwear",
          "Accessories"
         ],
         "categoryorder": "array",
         "domain": [
          0,
          1
         ],
         "title": {
          "text": "Category"
         }
        },
        "yaxis": {
         "anchor": "x",
         "domain": [
          0,
          1
         ],
         "title": {
          "text": "count"
         }
        }
       }
      }
     },
     "metadata": {},
     "output_type": "display_data"
    }
   ],
   "source": [
    "fig=px.histogram(df,x='Category',title='Category Items Distribution',color='Category')\n",
    "fig.show()"
   ]
  },
  {
   "cell_type": "code",
   "execution_count": 11,
   "id": "bec24adc-71a5-4068-b852-998a711e7e70",
   "metadata": {},
   "outputs": [
    {
     "data": {
      "text/plain": [
       "<matplotlib.legend.Legend at 0x215231e1160>"
      ]
     },
     "execution_count": 11,
     "metadata": {},
     "output_type": "execute_result"
    },
    {
     "data": {
      "image/png": "[encoded data removed]",
      "text/plain": [
       "<Figure size 2000x500 with 1 Axes>"
      ]
     },
     "metadata": {},
     "output_type": "display_data"
    }
   ],
   "source": [
    "plt.figure(figsize=(20,5))\n",
    "Category_counts=df['Category'].value_counts('Category')\n",
    "Category_counts.plot(kind='pie',colors=colors,autopct='%.1f%%',fontsize=12)\n",
    "plt.xlabel('Best-selling type ',weight='bold',color='#646464',fontsize=13,labelpad=20)\n",
    "plt.axis('equal')\n",
    "plt.legend(labels=Category_counts.index,loc='best')"
   ]
  },
  {
   "cell_type": "code",
   "execution_count": 13,
   "id": "693da77a-29fb-48b3-b0bf-38f7a8dec954",
   "metadata": {},
   "outputs": [
    {
     "data": {
      "text/plain": [
       "<matplotlib.legend.Legend at 0x215240b20f0>"
      ]
     },
     "execution_count": 13,
     "metadata": {},
     "output_type": "execute_result"
    },
    {
     "data": {
      "image/png": "[encoded data removed]",
      "text/plain": [
       "<Figure size 2000x800 with 1 Axes>"
      ]
     },
     "metadata": {},
     "output_type": "display_data"
    }
   ],
   "source": [
    "plt.figure(figsize=(20,8))\n",
    "counts=df['Gender'].value_counts()\n",
    "counts.plot(kind='pie',fontsize=12,colors=colors,explode=(0,0.1),autopct='%1.1f%%')\n",
    "plt.xlabel(\"Gender\",weight='bold',color='#646464',fontsize=13,labelpad=20)\n",
    "plt.axis('equal')\n",
    "plt.legend(labels=counts.index,loc='best')"
   ]
  },
  {
   "cell_type": "code",
   "execution_count": 14,
   "id": "e51bc692-e948-47d5-ad04-c6222ea7047f",
   "metadata": {},
   "outputs": [
    {
     "data": {
      "text/html": [
       "<div>\n",
       "<style scoped>\n",
       "    .dataframe tbody tr th:only-of-type {\n",
       "        vertical-align: middle;\n",
       "    }\n",
       "\n",
       "    .dataframe tbody tr th {\n",
       "        vertical-align: top;\n",
       "    }\n",
       "\n",
       "    .dataframe thead th {\n",
       "        text-align: right;\n",
       "    }\n",
       "</style>\n",
       "<table border=\"1\" class=\"dataframe\">\n",
       "  <thead>\n",
       "    <tr style=\"text-align: right;\">\n",
       "      <th></th>\n",
       "      <th>Customer_ID</th>\n",
       "      <th>Age</th>\n",
       "      <th>Gender</th>\n",
       "      <th>Item_Purchased</th>\n",
       "      <th>Category</th>\n",
       "      <th>Purchase_Amount_USD</th>\n",
       "      <th>Location</th>\n",
       "      <th>Size</th>\n",
       "      <th>Color</th>\n",
       "      <th>Season</th>\n",
       "      <th>Review_Rating</th>\n",
       "      <th>Subscription_Status</th>\n",
       "      <th>Payment_Method</th>\n",
       "      <th>Shipping_Type</th>\n",
       "      <th>Discount_Applied</th>\n",
       "      <th>Promo_Code_Used</th>\n",
       "      <th>Previous_Purchases</th>\n",
       "      <th>Preferred_Payment_Method</th>\n",
       "      <th>Frequency_of_Purchases</th>\n",
       "    </tr>\n",
       "  </thead>\n",
       "  <tbody>\n",
       "    <tr>\n",
       "      <th>0</th>\n",
       "      <td>1</td>\n",
       "      <td>55</td>\n",
       "      <td>Male</td>\n",
       "      <td>Blouse</td>\n",
       "      <td>Clothing</td>\n",
       "      <td>53</td>\n",
       "      <td>Kentucky</td>\n",
       "      <td>L</td>\n",
       "      <td>Gray</td>\n",
       "      <td>Winter</td>\n",
       "      <td>3.1</td>\n",
       "      <td>Yes</td>\n",
       "      <td>Credit Card</td>\n",
       "      <td>Express</td>\n",
       "      <td>Yes</td>\n",
       "      <td>Yes</td>\n",
       "      <td>14</td>\n",
       "      <td>Venmo</td>\n",
       "      <td>Fortnightly</td>\n",
       "    </tr>\n",
       "    <tr>\n",
       "      <th>1</th>\n",
       "      <td>2</td>\n",
       "      <td>19</td>\n",
       "      <td>Male</td>\n",
       "      <td>Sweater</td>\n",
       "      <td>Clothing</td>\n",
       "      <td>64</td>\n",
       "      <td>Maine</td>\n",
       "      <td>L</td>\n",
       "      <td>Maroon</td>\n",
       "      <td>Winter</td>\n",
       "      <td>3.1</td>\n",
       "      <td>Yes</td>\n",
       "      <td>Bank Transfer</td>\n",
       "      <td>Express</td>\n",
       "      <td>Yes</td>\n",
       "      <td>Yes</td>\n",
       "      <td>2</td>\n",
       "      <td>Cash</td>\n",
       "      <td>Fortnightly</td>\n",
       "    </tr>\n",
       "    <tr>\n",
       "      <th>2</th>\n",
       "      <td>3</td>\n",
       "      <td>50</td>\n",
       "      <td>Male</td>\n",
       "      <td>Jeans</td>\n",
       "      <td>Clothing</td>\n",
       "      <td>73</td>\n",
       "      <td>Massachusetts</td>\n",
       "      <td>S</td>\n",
       "      <td>Maroon</td>\n",
       "      <td>Spring</td>\n",
       "      <td>3.1</td>\n",
       "      <td>Yes</td>\n",
       "      <td>Cash</td>\n",
       "      <td>Free Shipping</td>\n",
       "      <td>Yes</td>\n",
       "      <td>Yes</td>\n",
       "      <td>23</td>\n",
       "      <td>Credit Card</td>\n",
       "      <td>Weekly</td>\n",
       "    </tr>\n",
       "    <tr>\n",
       "      <th>3</th>\n",
       "      <td>4</td>\n",
       "      <td>21</td>\n",
       "      <td>Male</td>\n",
       "      <td>Sandals</td>\n",
       "      <td>Footwear</td>\n",
       "      <td>90</td>\n",
       "      <td>Rhode Island</td>\n",
       "      <td>M</td>\n",
       "      <td>Maroon</td>\n",
       "      <td>Spring</td>\n",
       "      <td>3.5</td>\n",
       "      <td>Yes</td>\n",
       "      <td>PayPal</td>\n",
       "      <td>Next Day Air</td>\n",
       "      <td>Yes</td>\n",
       "      <td>Yes</td>\n",
       "      <td>49</td>\n",
       "      <td>PayPal</td>\n",
       "      <td>Weekly</td>\n",
       "    </tr>\n",
       "    <tr>\n",
       "      <th>4</th>\n",
       "      <td>5</td>\n",
       "      <td>45</td>\n",
       "      <td>Male</td>\n",
       "      <td>Blouse</td>\n",
       "      <td>Clothing</td>\n",
       "      <td>49</td>\n",
       "      <td>Oregon</td>\n",
       "      <td>M</td>\n",
       "      <td>Turquoise</td>\n",
       "      <td>Spring</td>\n",
       "      <td>2.7</td>\n",
       "      <td>Yes</td>\n",
       "      <td>Cash</td>\n",
       "      <td>Free Shipping</td>\n",
       "      <td>Yes</td>\n",
       "      <td>Yes</td>\n",
       "      <td>31</td>\n",
       "      <td>PayPal</td>\n",
       "      <td>Annually</td>\n",
       "    </tr>\n",
       "    <tr>\n",
       "      <th>...</th>\n",
       "      <td>...</td>\n",
       "      <td>...</td>\n",
       "      <td>...</td>\n",
       "      <td>...</td>\n",
       "      <td>...</td>\n",
       "      <td>...</td>\n",
       "      <td>...</td>\n",
       "      <td>...</td>\n",
       "      <td>...</td>\n",
       "      <td>...</td>\n",
       "      <td>...</td>\n",
       "      <td>...</td>\n",
       "      <td>...</td>\n",
       "      <td>...</td>\n",
       "      <td>...</td>\n",
       "      <td>...</td>\n",
       "      <td>...</td>\n",
       "      <td>...</td>\n",
       "      <td>...</td>\n",
       "    </tr>\n",
       "    <tr>\n",
       "      <th>3895</th>\n",
       "      <td>3896</td>\n",
       "      <td>40</td>\n",
       "      <td>Female</td>\n",
       "      <td>Hoodie</td>\n",
       "      <td>Clothing</td>\n",
       "      <td>28</td>\n",
       "      <td>Virginia</td>\n",
       "      <td>L</td>\n",
       "      <td>Turquoise</td>\n",
       "      <td>Summer</td>\n",
       "      <td>4.2</td>\n",
       "      <td>No</td>\n",
       "      <td>Cash</td>\n",
       "      <td>2-Day Shipping</td>\n",
       "      <td>No</td>\n",
       "      <td>No</td>\n",
       "      <td>32</td>\n",
       "      <td>Venmo</td>\n",
       "      <td>Weekly</td>\n",
       "    </tr>\n",
       "    <tr>\n",
       "      <th>3896</th>\n",
       "      <td>3897</td>\n",
       "      <td>52</td>\n",
       "      <td>Female</td>\n",
       "      <td>Backpack</td>\n",
       "      <td>Accessories</td>\n",
       "      <td>49</td>\n",
       "      <td>Iowa</td>\n",
       "      <td>L</td>\n",
       "      <td>White</td>\n",
       "      <td>Spring</td>\n",
       "      <td>4.5</td>\n",
       "      <td>No</td>\n",
       "      <td>PayPal</td>\n",
       "      <td>Store Pickup</td>\n",
       "      <td>No</td>\n",
       "      <td>No</td>\n",
       "      <td>41</td>\n",
       "      <td>Bank Transfer</td>\n",
       "      <td>Bi-Weekly</td>\n",
       "    </tr>\n",
       "    <tr>\n",
       "      <th>3897</th>\n",
       "      <td>3898</td>\n",
       "      <td>46</td>\n",
       "      <td>Female</td>\n",
       "      <td>Belt</td>\n",
       "      <td>Accessories</td>\n",
       "      <td>33</td>\n",
       "      <td>New Jersey</td>\n",
       "      <td>L</td>\n",
       "      <td>Green</td>\n",
       "      <td>Spring</td>\n",
       "      <td>2.9</td>\n",
       "      <td>No</td>\n",
       "      <td>Credit Card</td>\n",
       "      <td>Standard</td>\n",
       "      <td>No</td>\n",
       "      <td>No</td>\n",
       "      <td>24</td>\n",
       "      <td>Venmo</td>\n",
       "      <td>Quarterly</td>\n",
       "    </tr>\n",
       "    <tr>\n",
       "      <th>3898</th>\n",
       "      <td>3899</td>\n",
       "      <td>44</td>\n",
       "      <td>Female</td>\n",
       "      <td>Shoes</td>\n",
       "      <td>Footwear</td>\n",
       "      <td>77</td>\n",
       "      <td>Minnesota</td>\n",
       "      <td>S</td>\n",
       "      <td>Brown</td>\n",
       "      <td>Summer</td>\n",
       "      <td>3.8</td>\n",
       "      <td>No</td>\n",
       "      <td>PayPal</td>\n",
       "      <td>Express</td>\n",
       "      <td>No</td>\n",
       "      <td>No</td>\n",
       "      <td>24</td>\n",
       "      <td>Venmo</td>\n",
       "      <td>Weekly</td>\n",
       "    </tr>\n",
       "    <tr>\n",
       "      <th>3899</th>\n",
       "      <td>3900</td>\n",
       "      <td>52</td>\n",
       "      <td>Female</td>\n",
       "      <td>Handbag</td>\n",
       "      <td>Accessories</td>\n",
       "      <td>81</td>\n",
       "      <td>California</td>\n",
       "      <td>M</td>\n",
       "      <td>Beige</td>\n",
       "      <td>Spring</td>\n",
       "      <td>3.1</td>\n",
       "      <td>No</td>\n",
       "      <td>Bank Transfer</td>\n",
       "      <td>Store Pickup</td>\n",
       "      <td>No</td>\n",
       "      <td>No</td>\n",
       "      <td>33</td>\n",
       "      <td>Venmo</td>\n",
       "      <td>Quarterly</td>\n",
       "    </tr>\n",
       "  </tbody>\n",
       "</table>\n",
       "<p>3900 rows × 19 columns</p>\n",
       "</div>"
      ],
      "text/plain": [
       "      Customer_ID  Age  Gender Item_Purchased     Category  \\\n",
       "0               1   55    Male         Blouse     Clothing   \n",
       "1               2   19    Male        Sweater     Clothing   \n",
       "2               3   50    Male          Jeans     Clothing   \n",
       "3               4   21    Male        Sandals     Footwear   \n",
       "4               5   45    Male         Blouse     Clothing   \n",
       "...           ...  ...     ...            ...          ...   \n",
       "3895         3896   40  Female         Hoodie     Clothing   \n",
       "3896         3897   52  Female       Backpack  Accessories   \n",
       "3897         3898   46  Female           Belt  Accessories   \n",
       "3898         3899   44  Female          Shoes     Footwear   \n",
       "3899         3900   52  Female        Handbag  Accessories   \n",
       "\n",
       "      Purchase_Amount_USD       Location Size      Color  Season  \\\n",
       "0                      53       Kentucky    L       Gray  Winter   \n",
       "1                      64          Maine    L     Maroon  Winter   \n",
       "2                      73  Massachusetts    S     Maroon  Spring   \n",
       "3                      90   Rhode Island    M     Maroon  Spring   \n",
       "4                      49         Oregon    M  Turquoise  Spring   \n",
       "...                   ...            ...  ...        ...     ...   \n",
       "3895                   28       Virginia    L  Turquoise  Summer   \n",
       "3896                   49           Iowa    L      White  Spring   \n",
       "3897                   33     New Jersey    L      Green  Spring   \n",
       "3898                   77      Minnesota    S      Brown  Summer   \n",
       "3899                   81     California    M      Beige  Spring   \n",
       "\n",
       "      Review_Rating Subscription_Status Payment_Method   Shipping_Type  \\\n",
       "0               3.1                 Yes    Credit Card         Express   \n",
       "1               3.1                 Yes  Bank Transfer         Express   \n",
       "2               3.1                 Yes           Cash   Free Shipping   \n",
       "3               3.5                 Yes         PayPal    Next Day Air   \n",
       "4               2.7                 Yes           Cash   Free Shipping   \n",
       "...             ...                 ...            ...             ...   \n",
       "3895            4.2                  No           Cash  2-Day Shipping   \n",
       "3896            4.5                  No         PayPal    Store Pickup   \n",
       "3897            2.9                  No    Credit Card        Standard   \n",
       "3898            3.8                  No         PayPal         Express   \n",
       "3899            3.1                  No  Bank Transfer    Store Pickup   \n",
       "\n",
       "     Discount_Applied Promo_Code_Used  Previous_Purchases  \\\n",
       "0                 Yes             Yes                  14   \n",
       "1                 Yes             Yes                   2   \n",
       "2                 Yes             Yes                  23   \n",
       "3                 Yes             Yes                  49   \n",
       "4                 Yes             Yes                  31   \n",
       "...               ...             ...                 ...   \n",
       "3895               No              No                  32   \n",
       "3896               No              No                  41   \n",
       "3897               No              No                  24   \n",
       "3898               No              No                  24   \n",
       "3899               No              No                  33   \n",
       "\n",
       "     Preferred_Payment_Method Frequency_of_Purchases  \n",
       "0                       Venmo            Fortnightly  \n",
       "1                        Cash            Fortnightly  \n",
       "2                 Credit Card                 Weekly  \n",
       "3                      PayPal                 Weekly  \n",
       "4                      PayPal               Annually  \n",
       "...                       ...                    ...  \n",
       "3895                    Venmo                 Weekly  \n",
       "3896            Bank Transfer              Bi-Weekly  \n",
       "3897                    Venmo              Quarterly  \n",
       "3898                    Venmo                 Weekly  \n",
       "3899                    Venmo              Quarterly  \n",
       "\n",
       "[3900 rows x 19 columns]"
      ]
     },
     "execution_count": 14,
     "metadata": {},
     "output_type": "execute_result"
    }
   ],
   "source": [
    "df"
   ]
  },
  {
   "cell_type": "code",
   "execution_count": 15,
   "id": "f176e056-2c6e-4724-bf80-27504300853c",
   "metadata": {},
   "outputs": [
    {
     "data": {
      "image/png": "[encoded data removed]",
      "text/plain": [
       "<Figure size 2000x500 with 1 Axes>"
      ]
     },
     "metadata": {},
     "output_type": "display_data"
    }
   ],
   "source": [
    "fig,ax=plt.subplots(figsize=(20,5))\n",
    "ax.hist(df['Age'],bins=25,edgecolor='black',color='skyblue',alpha=.7,density=True)\n",
    "df['Age'].plot(kind='kde',color='red',ax=ax)\n",
    "ax.set_xlabel('Age')\n",
    "ax.set_ylabel('Density')\n",
    "ax.set_title('Age Density')\n",
    "fig.show()"
   ]
  },
  {
   "cell_type": "code",
   "execution_count": 16,
   "id": "c13ef880-9090-4182-a251-d9c007b849df",
   "metadata": {},
   "outputs": [
    {
     "data": {
      "text/html": [
       "<div>\n",
       "<style scoped>\n",
       "    .dataframe tbody tr th:only-of-type {\n",
       "        vertical-align: middle;\n",
       "    }\n",
       "\n",
       "    .dataframe tbody tr th {\n",
       "        vertical-align: top;\n",
       "    }\n",
       "\n",
       "    .dataframe thead th {\n",
       "        text-align: right;\n",
       "    }\n",
       "</style>\n",
       "<table border=\"1\" class=\"dataframe\">\n",
       "  <thead>\n",
       "    <tr style=\"text-align: right;\">\n",
       "      <th></th>\n",
       "      <th>Customer_ID</th>\n",
       "      <th>Age</th>\n",
       "      <th>Gender</th>\n",
       "      <th>Item_Purchased</th>\n",
       "      <th>Category</th>\n",
       "      <th>Purchase_Amount_USD</th>\n",
       "      <th>Location</th>\n",
       "      <th>Size</th>\n",
       "      <th>Color</th>\n",
       "      <th>Season</th>\n",
       "      <th>Review_Rating</th>\n",
       "      <th>Subscription_Status</th>\n",
       "      <th>Payment_Method</th>\n",
       "      <th>Shipping_Type</th>\n",
       "      <th>Discount_Applied</th>\n",
       "      <th>Promo_Code_Used</th>\n",
       "      <th>Previous_Purchases</th>\n",
       "      <th>Preferred_Payment_Method</th>\n",
       "      <th>Frequency_of_Purchases</th>\n",
       "    </tr>\n",
       "  </thead>\n",
       "  <tbody>\n",
       "    <tr>\n",
       "      <th>0</th>\n",
       "      <td>1</td>\n",
       "      <td>55</td>\n",
       "      <td>Male</td>\n",
       "      <td>Blouse</td>\n",
       "      <td>Clothing</td>\n",
       "      <td>53</td>\n",
       "      <td>Kentucky</td>\n",
       "      <td>L</td>\n",
       "      <td>Gray</td>\n",
       "      <td>Winter</td>\n",
       "      <td>3.1</td>\n",
       "      <td>Yes</td>\n",
       "      <td>Credit Card</td>\n",
       "      <td>Express</td>\n",
       "      <td>Yes</td>\n",
       "      <td>Yes</td>\n",
       "      <td>14</td>\n",
       "      <td>Venmo</td>\n",
       "      <td>Fortnightly</td>\n",
       "    </tr>\n",
       "    <tr>\n",
       "      <th>1</th>\n",
       "      <td>2</td>\n",
       "      <td>19</td>\n",
       "      <td>Male</td>\n",
       "      <td>Sweater</td>\n",
       "      <td>Clothing</td>\n",
       "      <td>64</td>\n",
       "      <td>Maine</td>\n",
       "      <td>L</td>\n",
       "      <td>Maroon</td>\n",
       "      <td>Winter</td>\n",
       "      <td>3.1</td>\n",
       "      <td>Yes</td>\n",
       "      <td>Bank Transfer</td>\n",
       "      <td>Express</td>\n",
       "      <td>Yes</td>\n",
       "      <td>Yes</td>\n",
       "      <td>2</td>\n",
       "      <td>Cash</td>\n",
       "      <td>Fortnightly</td>\n",
       "    </tr>\n",
       "    <tr>\n",
       "      <th>2</th>\n",
       "      <td>3</td>\n",
       "      <td>50</td>\n",
       "      <td>Male</td>\n",
       "      <td>Jeans</td>\n",
       "      <td>Clothing</td>\n",
       "      <td>73</td>\n",
       "      <td>Massachusetts</td>\n",
       "      <td>S</td>\n",
       "      <td>Maroon</td>\n",
       "      <td>Spring</td>\n",
       "      <td>3.1</td>\n",
       "      <td>Yes</td>\n",
       "      <td>Cash</td>\n",
       "      <td>Free Shipping</td>\n",
       "      <td>Yes</td>\n",
       "      <td>Yes</td>\n",
       "      <td>23</td>\n",
       "      <td>Credit Card</td>\n",
       "      <td>Weekly</td>\n",
       "    </tr>\n",
       "    <tr>\n",
       "      <th>3</th>\n",
       "      <td>4</td>\n",
       "      <td>21</td>\n",
       "      <td>Male</td>\n",
       "      <td>Sandals</td>\n",
       "      <td>Footwear</td>\n",
       "      <td>90</td>\n",
       "      <td>Rhode Island</td>\n",
       "      <td>M</td>\n",
       "      <td>Maroon</td>\n",
       "      <td>Spring</td>\n",
       "      <td>3.5</td>\n",
       "      <td>Yes</td>\n",
       "      <td>PayPal</td>\n",
       "      <td>Next Day Air</td>\n",
       "      <td>Yes</td>\n",
       "      <td>Yes</td>\n",
       "      <td>49</td>\n",
       "      <td>PayPal</td>\n",
       "      <td>Weekly</td>\n",
       "    </tr>\n",
       "    <tr>\n",
       "      <th>4</th>\n",
       "      <td>5</td>\n",
       "      <td>45</td>\n",
       "      <td>Male</td>\n",
       "      <td>Blouse</td>\n",
       "      <td>Clothing</td>\n",
       "      <td>49</td>\n",
       "      <td>Oregon</td>\n",
       "      <td>M</td>\n",
       "      <td>Turquoise</td>\n",
       "      <td>Spring</td>\n",
       "      <td>2.7</td>\n",
       "      <td>Yes</td>\n",
       "      <td>Cash</td>\n",
       "      <td>Free Shipping</td>\n",
       "      <td>Yes</td>\n",
       "      <td>Yes</td>\n",
       "      <td>31</td>\n",
       "      <td>PayPal</td>\n",
       "      <td>Annually</td>\n",
       "    </tr>\n",
       "    <tr>\n",
       "      <th>...</th>\n",
       "      <td>...</td>\n",
       "      <td>...</td>\n",
       "      <td>...</td>\n",
       "      <td>...</td>\n",
       "      <td>...</td>\n",
       "      <td>...</td>\n",
       "      <td>...</td>\n",
       "      <td>...</td>\n",
       "      <td>...</td>\n",
       "      <td>...</td>\n",
       "      <td>...</td>\n",
       "      <td>...</td>\n",
       "      <td>...</td>\n",
       "      <td>...</td>\n",
       "      <td>...</td>\n",
       "      <td>...</td>\n",
       "      <td>...</td>\n",
       "      <td>...</td>\n",
       "      <td>...</td>\n",
       "    </tr>\n",
       "    <tr>\n",
       "      <th>3895</th>\n",
       "      <td>3896</td>\n",
       "      <td>40</td>\n",
       "      <td>Female</td>\n",
       "      <td>Hoodie</td>\n",
       "      <td>Clothing</td>\n",
       "      <td>28</td>\n",
       "      <td>Virginia</td>\n",
       "      <td>L</td>\n",
       "      <td>Turquoise</td>\n",
       "      <td>Summer</td>\n",
       "      <td>4.2</td>\n",
       "      <td>No</td>\n",
       "      <td>Cash</td>\n",
       "      <td>2-Day Shipping</td>\n",
       "      <td>No</td>\n",
       "      <td>No</td>\n",
       "      <td>32</td>\n",
       "      <td>Venmo</td>\n",
       "      <td>Weekly</td>\n",
       "    </tr>\n",
       "    <tr>\n",
       "      <th>3896</th>\n",
       "      <td>3897</td>\n",
       "      <td>52</td>\n",
       "      <td>Female</td>\n",
       "      <td>Backpack</td>\n",
       "      <td>Accessories</td>\n",
       "      <td>49</td>\n",
       "      <td>Iowa</td>\n",
       "      <td>L</td>\n",
       "      <td>White</td>\n",
       "      <td>Spring</td>\n",
       "      <td>4.5</td>\n",
       "      <td>No</td>\n",
       "      <td>PayPal</td>\n",
       "      <td>Store Pickup</td>\n",
       "      <td>No</td>\n",
       "      <td>No</td>\n",
       "      <td>41</td>\n",
       "      <td>Bank Transfer</td>\n",
       "      <td>Bi-Weekly</td>\n",
       "    </tr>\n",
       "    <tr>\n",
       "      <th>3897</th>\n",
       "      <td>3898</td>\n",
       "      <td>46</td>\n",
       "      <td>Female</td>\n",
       "      <td>Belt</td>\n",
       "      <td>Accessories</td>\n",
       "      <td>33</td>\n",
       "      <td>New Jersey</td>\n",
       "      <td>L</td>\n",
       "      <td>Green</td>\n",
       "      <td>Spring</td>\n",
       "      <td>2.9</td>\n",
       "      <td>No</td>\n",
       "      <td>Credit Card</td>\n",
       "      <td>Standard</td>\n",
       "      <td>No</td>\n",
       "      <td>No</td>\n",
       "      <td>24</td>\n",
       "      <td>Venmo</td>\n",
       "      <td>Quarterly</td>\n",
       "    </tr>\n",
       "    <tr>\n",
       "      <th>3898</th>\n",
       "      <td>3899</td>\n",
       "      <td>44</td>\n",
       "      <td>Female</td>\n",
       "      <td>Shoes</td>\n",
       "      <td>Footwear</td>\n",
       "      <td>77</td>\n",
       "      <td>Minnesota</td>\n",
       "      <td>S</td>\n",
       "      <td>Brown</td>\n",
       "      <td>Summer</td>\n",
       "      <td>3.8</td>\n",
       "      <td>No</td>\n",
       "      <td>PayPal</td>\n",
       "      <td>Express</td>\n",
       "      <td>No</td>\n",
       "      <td>No</td>\n",
       "      <td>24</td>\n",
       "      <td>Venmo</td>\n",
       "      <td>Weekly</td>\n",
       "    </tr>\n",
       "    <tr>\n",
       "      <th>3899</th>\n",
       "      <td>3900</td>\n",
       "      <td>52</td>\n",
       "      <td>Female</td>\n",
       "      <td>Handbag</td>\n",
       "      <td>Accessories</td>\n",
       "      <td>81</td>\n",
       "      <td>California</td>\n",
       "      <td>M</td>\n",
       "      <td>Beige</td>\n",
       "      <td>Spring</td>\n",
       "      <td>3.1</td>\n",
       "      <td>No</td>\n",
       "      <td>Bank Transfer</td>\n",
       "      <td>Store Pickup</td>\n",
       "      <td>No</td>\n",
       "      <td>No</td>\n",
       "      <td>33</td>\n",
       "      <td>Venmo</td>\n",
       "      <td>Quarterly</td>\n",
       "    </tr>\n",
       "  </tbody>\n",
       "</table>\n",
       "<p>3900 rows × 19 columns</p>\n",
       "</div>"
      ],
      "text/plain": [
       "      Customer_ID  Age  Gender Item_Purchased     Category  \\\n",
       "0               1   55    Male         Blouse     Clothing   \n",
       "1               2   19    Male        Sweater     Clothing   \n",
       "2               3   50    Male          Jeans     Clothing   \n",
       "3               4   21    Male        Sandals     Footwear   \n",
       "4               5   45    Male         Blouse     Clothing   \n",
       "...           ...  ...     ...            ...          ...   \n",
       "3895         3896   40  Female         Hoodie     Clothing   \n",
       "3896         3897   52  Female       Backpack  Accessories   \n",
       "3897         3898   46  Female           Belt  Accessories   \n",
       "3898         3899   44  Female          Shoes     Footwear   \n",
       "3899         3900   52  Female        Handbag  Accessories   \n",
       "\n",
       "      Purchase_Amount_USD       Location Size      Color  Season  \\\n",
       "0                      53       Kentucky    L       Gray  Winter   \n",
       "1                      64          Maine    L     Maroon  Winter   \n",
       "2                      73  Massachusetts    S     Maroon  Spring   \n",
       "3                      90   Rhode Island    M     Maroon  Spring   \n",
       "4                      49         Oregon    M  Turquoise  Spring   \n",
       "...                   ...            ...  ...        ...     ...   \n",
       "3895                   28       Virginia    L  Turquoise  Summer   \n",
       "3896                   49           Iowa    L      White  Spring   \n",
       "3897                   33     New Jersey    L      Green  Spring   \n",
       "3898                   77      Minnesota    S      Brown  Summer   \n",
       "3899                   81     California    M      Beige  Spring   \n",
       "\n",
       "      Review_Rating Subscription_Status Payment_Method   Shipping_Type  \\\n",
       "0               3.1                 Yes    Credit Card         Express   \n",
       "1               3.1                 Yes  Bank Transfer         Express   \n",
       "2               3.1                 Yes           Cash   Free Shipping   \n",
       "3               3.5                 Yes         PayPal    Next Day Air   \n",
       "4               2.7                 Yes           Cash   Free Shipping   \n",
       "...             ...                 ...            ...             ...   \n",
       "3895            4.2                  No           Cash  2-Day Shipping   \n",
       "3896            4.5                  No         PayPal    Store Pickup   \n",
       "3897            2.9                  No    Credit Card        Standard   \n",
       "3898            3.8                  No         PayPal         Express   \n",
       "3899            3.1                  No  Bank Transfer    Store Pickup   \n",
       "\n",
       "     Discount_Applied Promo_Code_Used  Previous_Purchases  \\\n",
       "0                 Yes             Yes                  14   \n",
       "1                 Yes             Yes                   2   \n",
       "2                 Yes             Yes                  23   \n",
       "3                 Yes             Yes                  49   \n",
       "4                 Yes             Yes                  31   \n",
       "...               ...             ...                 ...   \n",
       "3895               No              No                  32   \n",
       "3896               No              No                  41   \n",
       "3897               No              No                  24   \n",
       "3898               No              No                  24   \n",
       "3899               No              No                  33   \n",
       "\n",
       "     Preferred_Payment_Method Frequency_of_Purchases  \n",
       "0                       Venmo            Fortnightly  \n",
       "1                        Cash            Fortnightly  \n",
       "2                 Credit Card                 Weekly  \n",
       "3                      PayPal                 Weekly  \n",
       "4                      PayPal               Annually  \n",
       "...                       ...                    ...  \n",
       "3895                    Venmo                 Weekly  \n",
       "3896            Bank Transfer              Bi-Weekly  \n",
       "3897                    Venmo              Quarterly  \n",
       "3898                    Venmo                 Weekly  \n",
       "3899                    Venmo              Quarterly  \n",
       "\n",
       "[3900 rows x 19 columns]"
      ]
     },
     "execution_count": 16,
     "metadata": {},
     "output_type": "execute_result"
    }
   ],
   "source": [
    "df"
   ]
  },
  {
   "cell_type": "code",
   "execution_count": 17,
   "id": "0079da81-c055-4ad4-8b34-aba14a8b184f",
   "metadata": {},
   "outputs": [
    {
     "data": {
      "text/plain": [
       "Location\n",
       "Alabama           59.112360\n",
       "Alaska            67.597222\n",
       "Arizona           66.553846\n",
       "Arkansas          61.113924\n",
       "California        59.000000\n",
       "Colorado          56.293333\n",
       "Connecticut       54.179487\n",
       "Delaware          55.325581\n",
       "Florida           55.852941\n",
       "Georgia           58.797468\n",
       "Hawaii            57.723077\n",
       "Idaho             60.075269\n",
       "Illinois          61.054348\n",
       "Indiana           58.924051\n",
       "Iowa              60.884058\n",
       "Kansas            54.555556\n",
       "Kentucky          55.721519\n",
       "Louisiana         57.714286\n",
       "Maine             56.987013\n",
       "Maryland          55.755814\n",
       "Massachusetts     60.888889\n",
       "Michigan          62.095890\n",
       "Minnesota         56.556818\n",
       "Mississippi       61.037500\n",
       "Missouri          57.913580\n",
       "Montana           60.250000\n",
       "Nebraska          59.448276\n",
       "Nevada            63.379310\n",
       "New Hampshire     59.422535\n",
       "New Jersey        56.746269\n",
       "New Mexico        61.901235\n",
       "New York          60.425287\n",
       "North Carolina    60.794872\n",
       "North Dakota      62.891566\n",
       "Ohio              60.376623\n",
       "Oklahoma          58.346667\n",
       "Oregon            57.337838\n",
       "Pennsylvania      66.567568\n",
       "Rhode Island      61.444444\n",
       "South Carolina    58.407895\n",
       "South Dakota      60.514286\n",
       "Tennessee         61.974026\n",
       "Texas             61.194805\n",
       "Utah              62.577465\n",
       "Vermont           57.176471\n",
       "Virginia          62.883117\n",
       "Washington        63.328767\n",
       "West Virginia     63.876543\n",
       "Wisconsin         55.946667\n",
       "Wyoming           60.690141\n",
       "Name: Purchase_Amount_USD, dtype: float64"
      ]
     },
     "execution_count": 17,
     "metadata": {},
     "output_type": "execute_result"
    }
   ],
   "source": [
    "df.groupby('Location')['Purchase_Amount_USD'].mean()"
   ]
  },
  {
   "cell_type": "code",
   "execution_count": 18,
   "id": "1b0c47d7-9e9c-44a2-8f7d-f43782ef3ba2",
   "metadata": {},
   "outputs": [
    {
     "data": {
      "text/html": [
       "<div>\n",
       "<style scoped>\n",
       "    .dataframe tbody tr th:only-of-type {\n",
       "        vertical-align: middle;\n",
       "    }\n",
       "\n",
       "    .dataframe tbody tr th {\n",
       "        vertical-align: top;\n",
       "    }\n",
       "\n",
       "    .dataframe thead th {\n",
       "        text-align: right;\n",
       "    }\n",
       "</style>\n",
       "<table border=\"1\" class=\"dataframe\">\n",
       "  <thead>\n",
       "    <tr style=\"text-align: right;\">\n",
       "      <th></th>\n",
       "      <th>Location</th>\n",
       "      <th>avg_sales</th>\n",
       "    </tr>\n",
       "  </thead>\n",
       "  <tbody>\n",
       "    <tr>\n",
       "      <th>0</th>\n",
       "      <td>Kentucky</td>\n",
       "      <td>55.721519</td>\n",
       "    </tr>\n",
       "    <tr>\n",
       "      <th>1</th>\n",
       "      <td>Maine</td>\n",
       "      <td>56.987013</td>\n",
       "    </tr>\n",
       "    <tr>\n",
       "      <th>2</th>\n",
       "      <td>Massachusetts</td>\n",
       "      <td>60.888889</td>\n",
       "    </tr>\n",
       "    <tr>\n",
       "      <th>3</th>\n",
       "      <td>Rhode Island</td>\n",
       "      <td>61.444444</td>\n",
       "    </tr>\n",
       "    <tr>\n",
       "      <th>4</th>\n",
       "      <td>Oregon</td>\n",
       "      <td>57.337838</td>\n",
       "    </tr>\n",
       "    <tr>\n",
       "      <th>...</th>\n",
       "      <td>...</td>\n",
       "      <td>...</td>\n",
       "    </tr>\n",
       "    <tr>\n",
       "      <th>3895</th>\n",
       "      <td>Virginia</td>\n",
       "      <td>62.883117</td>\n",
       "    </tr>\n",
       "    <tr>\n",
       "      <th>3896</th>\n",
       "      <td>Iowa</td>\n",
       "      <td>60.884058</td>\n",
       "    </tr>\n",
       "    <tr>\n",
       "      <th>3897</th>\n",
       "      <td>New Jersey</td>\n",
       "      <td>56.746269</td>\n",
       "    </tr>\n",
       "    <tr>\n",
       "      <th>3898</th>\n",
       "      <td>Minnesota</td>\n",
       "      <td>56.556818</td>\n",
       "    </tr>\n",
       "    <tr>\n",
       "      <th>3899</th>\n",
       "      <td>California</td>\n",
       "      <td>59.000000</td>\n",
       "    </tr>\n",
       "  </tbody>\n",
       "</table>\n",
       "<p>3900 rows × 2 columns</p>\n",
       "</div>"
      ],
      "text/plain": [
       "           Location  avg_sales\n",
       "0          Kentucky  55.721519\n",
       "1             Maine  56.987013\n",
       "2     Massachusetts  60.888889\n",
       "3      Rhode Island  61.444444\n",
       "4            Oregon  57.337838\n",
       "...             ...        ...\n",
       "3895       Virginia  62.883117\n",
       "3896           Iowa  60.884058\n",
       "3897     New Jersey  56.746269\n",
       "3898      Minnesota  56.556818\n",
       "3899     California  59.000000\n",
       "\n",
       "[3900 rows x 2 columns]"
      ]
     },
     "execution_count": 18,
     "metadata": {},
     "output_type": "execute_result"
    }
   ],
   "source": [
    "avg_sales=df.groupby('Location')['Purchase_Amount_USD'].mean()\n",
    "df['avg_sales']=df['Location'].map(avg_sales)\n",
    "df[[\"Location\",'avg_sales']]"
   ]
  },
  {
   "cell_type": "code",
   "execution_count": 19,
   "id": "1877633c-6780-40cb-95ee-0559e7ee28d5",
   "metadata": {},
   "outputs": [
    {
     "data": {
      "application/vnd.plotly.v1+json": {
       "config": {
        "plotlyServerURL": "https://plot.ly"
       },
       "data": [
        {
         "bingroup": "x",
         "histfunc": "sum",
         "hovertemplate": "Location=%{x}<br>sum of Count=%{y}<extra></extra>",
         "legendgroup": "Montana",
         "marker": {
          "color": "#636efa",
          "pattern": {
           "shape": ""
          }
         },
         "name": "Montana",
         "orientation": "v",
         "showlegend": true,
         "type": "histogram",
         "x": [
          "Montana"
         ],
         "xaxis": "x",
         "y": {
          "bdata": "YA==",
          "dtype": "i1"
         },
         "yaxis": "y"
        },
        {
         "bingroup": "x",
         "histfunc": "sum",
         "hovertemplate": "Location=%{x}<br>sum of Count=%{y}<extra></extra>",
         "legendgroup": "California",
         "marker": {
          "color": "#EF553B",
          "pattern": {
           "shape": ""
          }
         },
         "name": "California",
         "orientation": "v",
         "showlegend": true,
         "type": "histogram",
         "x": [
          "California"
         ],
         "xaxis": "x",
         "y": {
          "bdata": "Xw==",
          "dtype": "i1"
         },
         "yaxis": "y"
        },
        {
         "bingroup": "x",
         "histfunc": "sum",
         "hovertemplate": "Location=%{x}<br>sum of Count=%{y}<extra></extra>",
         "legendgroup": "Idaho",
         "marker": {
          "color": "#00cc96",
          "pattern": {
           "shape": ""
          }
         },
         "name": "Idaho",
         "orientation": "v",
         "showlegend": true,
         "type": "histogram",
         "x": [
          "Idaho"
         ],
         "xaxis": "x",
         "y": {
          "bdata": "XQ==",
          "dtype": "i1"
         },
         "yaxis": "y"
        },
        {
         "bingroup": "x",
         "histfunc": "sum",
         "hovertemplate": "Location=%{x}<br>sum of Count=%{y}<extra></extra>",
         "legendgroup": "Illinois",
         "marker": {
          "color": "#ab63fa",
          "pattern": {
           "shape": ""
          }
         },
         "name": "Illinois",
         "orientation": "v",
         "showlegend": true,
         "type": "histogram",
         "x": [
          "Illinois"
         ],
         "xaxis": "x",
         "y": {
          "bdata": "XA==",
          "dtype": "i1"
         },
         "yaxis": "y"
        },
        {
         "bingroup": "x",
         "histfunc": "sum",
         "hovertemplate": "Location=%{x}<br>sum of Count=%{y}<extra></extra>",
         "legendgroup": "Alabama",
         "marker": {
          "color": "#FFA15A",
          "pattern": {
           "shape": ""
          }
         },
         "name": "Alabama",
         "orientation": "v",
         "showlegend": true,
         "type": "histogram",
         "x": [
          "Alabama"
         ],
         "xaxis": "x",
         "y": {
          "bdata": "WQ==",
          "dtype": "i1"
         },
         "yaxis": "y"
        },
        {
         "bingroup": "x",
         "histfunc": "sum",
         "hovertemplate": "Location=%{x}<br>sum of Count=%{y}<extra></extra>",
         "legendgroup": "Minnesota",
         "marker": {
          "color": "#19d3f3",
          "pattern": {
           "shape": ""
          }
         },
         "name": "Minnesota",
         "orientation": "v",
         "showlegend": true,
         "type": "histogram",
         "x": [
          "Minnesota"
         ],
         "xaxis": "x",
         "y": {
          "bdata": "WA==",
          "dtype": "i1"
         },
         "yaxis": "y"
        },
        {
         "bingroup": "x",
         "histfunc": "sum",
         "hovertemplate": "Location=%{x}<br>sum of Count=%{y}<extra></extra>",
         "legendgroup": "Nebraska",
         "marker": {
          "color": "#FF6692",
          "pattern": {
           "shape": ""
          }
         },
         "name": "Nebraska",
         "orientation": "v",
         "showlegend": true,
         "type": "histogram",
         "x": [
          "Nebraska"
         ],
         "xaxis": "x",
         "y": {
          "bdata": "Vw==",
          "dtype": "i1"
         },
         "yaxis": "y"
        },
        {
         "bingroup": "x",
         "histfunc": "sum",
         "hovertemplate": "Location=%{x}<br>sum of Count=%{y}<extra></extra>",
         "legendgroup": "New York",
         "marker": {
          "color": "#B6E880",
          "pattern": {
           "shape": ""
          }
         },
         "name": "New York",
         "orientation": "v",
         "showlegend": true,
         "type": "histogram",
         "x": [
          "New York"
         ],
         "xaxis": "x",
         "y": {
          "bdata": "Vw==",
          "dtype": "i1"
         },
         "yaxis": "y"
        },
        {
         "bingroup": "x",
         "histfunc": "sum",
         "hovertemplate": "Location=%{x}<br>sum of Count=%{y}<extra></extra>",
         "legendgroup": "Nevada",
         "marker": {
          "color": "#FF97FF",
          "pattern": {
           "shape": ""
          }
         },
         "name": "Nevada",
         "orientation": "v",
         "showlegend": true,
         "type": "histogram",
         "x": [
          "Nevada"
         ],
         "xaxis": "x",
         "y": {
          "bdata": "Vw==",
          "dtype": "i1"
         },
         "yaxis": "y"
        },
        {
         "bingroup": "x",
         "histfunc": "sum",
         "hovertemplate": "Location=%{x}<br>sum of Count=%{y}<extra></extra>",
         "legendgroup": "Maryland",
         "marker": {
          "color": "#FECB52",
          "pattern": {
           "shape": ""
          }
         },
         "name": "Maryland",
         "orientation": "v",
         "showlegend": true,
         "type": "histogram",
         "x": [
          "Maryland"
         ],
         "xaxis": "x",
         "y": {
          "bdata": "Vg==",
          "dtype": "i1"
         },
         "yaxis": "y"
        },
        {
         "bingroup": "x",
         "histfunc": "sum",
         "hovertemplate": "Location=%{x}<br>sum of Count=%{y}<extra></extra>",
         "legendgroup": "Delaware",
         "marker": {
          "color": "#636efa",
          "pattern": {
           "shape": ""
          }
         },
         "name": "Delaware",
         "orientation": "v",
         "showlegend": true,
         "type": "histogram",
         "x": [
          "Delaware"
         ],
         "xaxis": "x",
         "y": {
          "bdata": "Vg==",
          "dtype": "i1"
         },
         "yaxis": "y"
        },
        {
         "bingroup": "x",
         "histfunc": "sum",
         "hovertemplate": "Location=%{x}<br>sum of Count=%{y}<extra></extra>",
         "legendgroup": "Vermont",
         "marker": {
          "color": "#EF553B",
          "pattern": {
           "shape": ""
          }
         },
         "name": "Vermont",
         "orientation": "v",
         "showlegend": true,
         "type": "histogram",
         "x": [
          "Vermont"
         ],
         "xaxis": "x",
         "y": {
          "bdata": "VQ==",
          "dtype": "i1"
         },
         "yaxis": "y"
        },
        {
         "bingroup": "x",
         "histfunc": "sum",
         "hovertemplate": "Location=%{x}<br>sum of Count=%{y}<extra></extra>",
         "legendgroup": "Louisiana",
         "marker": {
          "color": "#00cc96",
          "pattern": {
           "shape": ""
          }
         },
         "name": "Louisiana",
         "orientation": "v",
         "showlegend": true,
         "type": "histogram",
         "x": [
          "Louisiana"
         ],
         "xaxis": "x",
         "y": {
          "bdata": "VA==",
          "dtype": "i1"
         },
         "yaxis": "y"
        },
        {
         "bingroup": "x",
         "histfunc": "sum",
         "hovertemplate": "Location=%{x}<br>sum of Count=%{y}<extra></extra>",
         "legendgroup": "North Dakota",
         "marker": {
          "color": "#ab63fa",
          "pattern": {
           "shape": ""
          }
         },
         "name": "North Dakota",
         "orientation": "v",
         "showlegend": true,
         "type": "histogram",
         "x": [
          "North Dakota"
         ],
         "xaxis": "x",
         "y": {
          "bdata": "Uw==",
          "dtype": "i1"
         },
         "yaxis": "y"
        },
        {
         "bingroup": "x",
         "histfunc": "sum",
         "hovertemplate": "Location=%{x}<br>sum of Count=%{y}<extra></extra>",
         "legendgroup": "Missouri",
         "marker": {
          "color": "#FFA15A",
          "pattern": {
           "shape": ""
          }
         },
         "name": "Missouri",
         "orientation": "v",
         "showlegend": true,
         "type": "histogram",
         "x": [
          "Missouri"
         ],
         "xaxis": "x",
         "y": {
          "bdata": "UQ==",
          "dtype": "i1"
         },
         "yaxis": "y"
        },
        {
         "bingroup": "x",
         "histfunc": "sum",
         "hovertemplate": "Location=%{x}<br>sum of Count=%{y}<extra></extra>",
         "legendgroup": "West Virginia",
         "marker": {
          "color": "#19d3f3",
          "pattern": {
           "shape": ""
          }
         },
         "name": "West Virginia",
         "orientation": "v",
         "showlegend": true,
         "type": "histogram",
         "x": [
          "West Virginia"
         ],
         "xaxis": "x",
         "y": {
          "bdata": "UQ==",
          "dtype": "i1"
         },
         "yaxis": "y"
        },
        {
         "bingroup": "x",
         "histfunc": "sum",
         "hovertemplate": "Location=%{x}<br>sum of Count=%{y}<extra></extra>",
         "legendgroup": "New Mexico",
         "marker": {
          "color": "#FF6692",
          "pattern": {
           "shape": ""
          }
         },
         "name": "New Mexico",
         "orientation": "v",
         "showlegend": true,
         "type": "histogram",
         "x": [
          "New Mexico"
         ],
         "xaxis": "x",
         "y": {
          "bdata": "UQ==",
          "dtype": "i1"
         },
         "yaxis": "y"
        },
        {
         "bingroup": "x",
         "histfunc": "sum",
         "hovertemplate": "Location=%{x}<br>sum of Count=%{y}<extra></extra>",
         "legendgroup": "Mississippi",
         "marker": {
          "color": "#B6E880",
          "pattern": {
           "shape": ""
          }
         },
         "name": "Mississippi",
         "orientation": "v",
         "showlegend": true,
         "type": "histogram",
         "x": [
          "Mississippi"
         ],
         "xaxis": "x",
         "y": {
          "bdata": "UA==",
          "dtype": "i1"
         },
         "yaxis": "y"
        },
        {
         "bingroup": "x",
         "histfunc": "sum",
         "hovertemplate": "Location=%{x}<br>sum of Count=%{y}<extra></extra>",
         "legendgroup": "Indiana",
         "marker": {
          "color": "#FF97FF",
          "pattern": {
           "shape": ""
          }
         },
         "name": "Indiana",
         "orientation": "v",
         "showlegend": true,
         "type": "histogram",
         "x": [
          "Indiana"
         ],
         "xaxis": "x",
         "y": {
          "bdata": "Tw==",
          "dtype": "i1"
         },
         "yaxis": "y"
        },
        {
         "bingroup": "x",
         "histfunc": "sum",
         "hovertemplate": "Location=%{x}<br>sum of Count=%{y}<extra></extra>",
         "legendgroup": "Georgia",
         "marker": {
          "color": "#FECB52",
          "pattern": {
           "shape": ""
          }
         },
         "name": "Georgia",
         "orientation": "v",
         "showlegend": true,
         "type": "histogram",
         "x": [
          "Georgia"
         ],
         "xaxis": "x",
         "y": {
          "bdata": "Tw==",
          "dtype": "i1"
         },
         "yaxis": "y"
        },
        {
         "bingroup": "x",
         "histfunc": "sum",
         "hovertemplate": "Location=%{x}<br>sum of Count=%{y}<extra></extra>",
         "legendgroup": "Kentucky",
         "marker": {
          "color": "#636efa",
          "pattern": {
           "shape": ""
          }
         },
         "name": "Kentucky",
         "orientation": "v",
         "showlegend": true,
         "type": "histogram",
         "x": [
          "Kentucky"
         ],
         "xaxis": "x",
         "y": {
          "bdata": "Tw==",
          "dtype": "i1"
         },
         "yaxis": "y"
        },
        {
         "bingroup": "x",
         "histfunc": "sum",
         "hovertemplate": "Location=%{x}<br>sum of Count=%{y}<extra></extra>",
         "legendgroup": "Arkansas",
         "marker": {
          "color": "#EF553B",
          "pattern": {
           "shape": ""
          }
         },
         "name": "Arkansas",
         "orientation": "v",
         "showlegend": true,
         "type": "histogram",
         "x": [
          "Arkansas"
         ],
         "xaxis": "x",
         "y": {
          "bdata": "Tw==",
          "dtype": "i1"
         },
         "yaxis": "y"
        },
        {
         "bingroup": "x",
         "histfunc": "sum",
         "hovertemplate": "Location=%{x}<br>sum of Count=%{y}<extra></extra>",
         "legendgroup": "North Carolina",
         "marker": {
          "color": "#00cc96",
          "pattern": {
           "shape": ""
          }
         },
         "name": "North Carolina",
         "orientation": "v",
         "showlegend": true,
         "type": "histogram",
         "x": [
          "North Carolina"
         ],
         "xaxis": "x",
         "y": {
          "bdata": "Tg==",
          "dtype": "i1"
         },
         "yaxis": "y"
        },
        {
         "bingroup": "x",
         "histfunc": "sum",
         "hovertemplate": "Location=%{x}<br>sum of Count=%{y}<extra></extra>",
         "legendgroup": "Connecticut",
         "marker": {
          "color": "#ab63fa",
          "pattern": {
           "shape": ""
          }
         },
         "name": "Connecticut",
         "orientation": "v",
         "showlegend": true,
         "type": "histogram",
         "x": [
          "Connecticut"
         ],
         "xaxis": "x",
         "y": {
          "bdata": "Tg==",
          "dtype": "i1"
         },
         "yaxis": "y"
        },
        {
         "bingroup": "x",
         "histfunc": "sum",
         "hovertemplate": "Location=%{x}<br>sum of Count=%{y}<extra></extra>",
         "legendgroup": "Virginia",
         "marker": {
          "color": "#FFA15A",
          "pattern": {
           "shape": ""
          }
         },
         "name": "Virginia",
         "orientation": "v",
         "showlegend": true,
         "type": "histogram",
         "x": [
          "Virginia"
         ],
         "xaxis": "x",
         "y": {
          "bdata": "TQ==",
          "dtype": "i1"
         },
         "yaxis": "y"
        },
        {
         "bingroup": "x",
         "histfunc": "sum",
         "hovertemplate": "Location=%{x}<br>sum of Count=%{y}<extra></extra>",
         "legendgroup": "Ohio",
         "marker": {
          "color": "#19d3f3",
          "pattern": {
           "shape": ""
          }
         },
         "name": "Ohio",
         "orientation": "v",
         "showlegend": true,
         "type": "histogram",
         "x": [
          "Ohio"
         ],
         "xaxis": "x",
         "y": {
          "bdata": "TQ==",
          "dtype": "i1"
         },
         "yaxis": "y"
        },
        {
         "bingroup": "x",
         "histfunc": "sum",
         "hovertemplate": "Location=%{x}<br>sum of Count=%{y}<extra></extra>",
         "legendgroup": "Tennessee",
         "marker": {
          "color": "#FF6692",
          "pattern": {
           "shape": ""
          }
         },
         "name": "Tennessee",
         "orientation": "v",
         "showlegend": true,
         "type": "histogram",
         "x": [
          "Tennessee"
         ],
         "xaxis": "x",
         "y": {
          "bdata": "TQ==",
          "dtype": "i1"
         },
         "yaxis": "y"
        },
        {
         "bingroup": "x",
         "histfunc": "sum",
         "hovertemplate": "Location=%{x}<br>sum of Count=%{y}<extra></extra>",
         "legendgroup": "Texas",
         "marker": {
          "color": "#B6E880",
          "pattern": {
           "shape": ""
          }
         },
         "name": "Texas",
         "orientation": "v",
         "showlegend": true,
         "type": "histogram",
         "x": [
          "Texas"
         ],
         "xaxis": "x",
         "y": {
          "bdata": "TQ==",
          "dtype": "i1"
         },
         "yaxis": "y"
        },
        {
         "bingroup": "x",
         "histfunc": "sum",
         "hovertemplate": "Location=%{x}<br>sum of Count=%{y}<extra></extra>",
         "legendgroup": "Maine",
         "marker": {
          "color": "#FF97FF",
          "pattern": {
           "shape": ""
          }
         },
         "name": "Maine",
         "orientation": "v",
         "showlegend": true,
         "type": "histogram",
         "x": [
          "Maine"
         ],
         "xaxis": "x",
         "y": {
          "bdata": "TQ==",
          "dtype": "i1"
         },
         "yaxis": "y"
        },
        {
         "bingroup": "x",
         "histfunc": "sum",
         "hovertemplate": "Location=%{x}<br>sum of Count=%{y}<extra></extra>",
         "legendgroup": "South Carolina",
         "marker": {
          "color": "#FECB52",
          "pattern": {
           "shape": ""
          }
         },
         "name": "South Carolina",
         "orientation": "v",
         "showlegend": true,
         "type": "histogram",
         "x": [
          "South Carolina"
         ],
         "xaxis": "x",
         "y": {
          "bdata": "TA==",
          "dtype": "i1"
         },
         "yaxis": "y"
        },
        {
         "bingroup": "x",
         "histfunc": "sum",
         "hovertemplate": "Location=%{x}<br>sum of Count=%{y}<extra></extra>",
         "legendgroup": "Colorado",
         "marker": {
          "color": "#636efa",
          "pattern": {
           "shape": ""
          }
         },
         "name": "Colorado",
         "orientation": "v",
         "showlegend": true,
         "type": "histogram",
         "x": [
          "Colorado"
         ],
         "xaxis": "x",
         "y": {
          "bdata": "Sw==",
          "dtype": "i1"
         },
         "yaxis": "y"
        },
        {
         "bingroup": "x",
         "histfunc": "sum",
         "hovertemplate": "Location=%{x}<br>sum of Count=%{y}<extra></extra>",
         "legendgroup": "Oklahoma",
         "marker": {
          "color": "#EF553B",
          "pattern": {
           "shape": ""
          }
         },
         "name": "Oklahoma",
         "orientation": "v",
         "showlegend": true,
         "type": "histogram",
         "x": [
          "Oklahoma"
         ],
         "xaxis": "x",
         "y": {
          "bdata": "Sw==",
          "dtype": "i1"
         },
         "yaxis": "y"
        },
        {
         "bingroup": "x",
         "histfunc": "sum",
         "hovertemplate": "Location=%{x}<br>sum of Count=%{y}<extra></extra>",
         "legendgroup": "Wisconsin",
         "marker": {
          "color": "#00cc96",
          "pattern": {
           "shape": ""
          }
         },
         "name": "Wisconsin",
         "orientation": "v",
         "showlegend": true,
         "type": "histogram",
         "x": [
          "Wisconsin"
         ],
         "xaxis": "x",
         "y": {
          "bdata": "Sw==",
          "dtype": "i1"
         },
         "yaxis": "y"
        },
        {
         "bingroup": "x",
         "histfunc": "sum",
         "hovertemplate": "Location=%{x}<br>sum of Count=%{y}<extra></extra>",
         "legendgroup": "Oregon",
         "marker": {
          "color": "#ab63fa",
          "pattern": {
           "shape": ""
          }
         },
         "name": "Oregon",
         "orientation": "v",
         "showlegend": true,
         "type": "histogram",
         "x": [
          "Oregon"
         ],
         "xaxis": "x",
         "y": {
          "bdata": "Sg==",
          "dtype": "i1"
         },
         "yaxis": "y"
        },
        {
         "bingroup": "x",
         "histfunc": "sum",
         "hovertemplate": "Location=%{x}<br>sum of Count=%{y}<extra></extra>",
         "legendgroup": "Pennsylvania",
         "marker": {
          "color": "#FFA15A",
          "pattern": {
           "shape": ""
          }
         },
         "name": "Pennsylvania",
         "orientation": "v",
         "showlegend": true,
         "type": "histogram",
         "x": [
          "Pennsylvania"
         ],
         "xaxis": "x",
         "y": {
          "bdata": "Sg==",
          "dtype": "i1"
         },
         "yaxis": "y"
        },
        {
         "bingroup": "x",
         "histfunc": "sum",
         "hovertemplate": "Location=%{x}<br>sum of Count=%{y}<extra></extra>",
         "legendgroup": "Washington",
         "marker": {
          "color": "#19d3f3",
          "pattern": {
           "shape": ""
          }
         },
         "name": "Washington",
         "orientation": "v",
         "showlegend": true,
         "type": "histogram",
         "x": [
          "Washington"
         ],
         "xaxis": "x",
         "y": {
          "bdata": "SQ==",
          "dtype": "i1"
         },
         "yaxis": "y"
        },
        {
         "bingroup": "x",
         "histfunc": "sum",
         "hovertemplate": "Location=%{x}<br>sum of Count=%{y}<extra></extra>",
         "legendgroup": "Michigan",
         "marker": {
          "color": "#FF6692",
          "pattern": {
           "shape": ""
          }
         },
         "name": "Michigan",
         "orientation": "v",
         "showlegend": true,
         "type": "histogram",
         "x": [
          "Michigan"
         ],
         "xaxis": "x",
         "y": {
          "bdata": "SQ==",
          "dtype": "i1"
         },
         "yaxis": "y"
        },
        {
         "bingroup": "x",
         "histfunc": "sum",
         "hovertemplate": "Location=%{x}<br>sum of Count=%{y}<extra></extra>",
         "legendgroup": "Alaska",
         "marker": {
          "color": "#B6E880",
          "pattern": {
           "shape": ""
          }
         },
         "name": "Alaska",
         "orientation": "v",
         "showlegend": true,
         "type": "histogram",
         "x": [
          "Alaska"
         ],
         "xaxis": "x",
         "y": {
          "bdata": "SA==",
          "dtype": "i1"
         },
         "yaxis": "y"
        },
        {
         "bingroup": "x",
         "histfunc": "sum",
         "hovertemplate": "Location=%{x}<br>sum of Count=%{y}<extra></extra>",
         "legendgroup": "Massachusetts",
         "marker": {
          "color": "#FF97FF",
          "pattern": {
           "shape": ""
          }
         },
         "name": "Massachusetts",
         "orientation": "v",
         "showlegend": true,
         "type": "histogram",
         "x": [
          "Massachusetts"
         ],
         "xaxis": "x",
         "y": {
          "bdata": "SA==",
          "dtype": "i1"
         },
         "yaxis": "y"
        },
        {
         "bingroup": "x",
         "histfunc": "sum",
         "hovertemplate": "Location=%{x}<br>sum of Count=%{y}<extra></extra>",
         "legendgroup": "Wyoming",
         "marker": {
          "color": "#FECB52",
          "pattern": {
           "shape": ""
          }
         },
         "name": "Wyoming",
         "orientation": "v",
         "showlegend": true,
         "type": "histogram",
         "x": [
          "Wyoming"
         ],
         "xaxis": "x",
         "y": {
          "bdata": "Rw==",
          "dtype": "i1"
         },
         "yaxis": "y"
        },
        {
         "bingroup": "x",
         "histfunc": "sum",
         "hovertemplate": "Location=%{x}<br>sum of Count=%{y}<extra></extra>",
         "legendgroup": "Utah",
         "marker": {
          "color": "#636efa",
          "pattern": {
           "shape": ""
          }
         },
         "name": "Utah",
         "orientation": "v",
         "showlegend": true,
         "type": "histogram",
         "x": [
          "Utah"
         ],
         "xaxis": "x",
         "y": {
          "bdata": "Rw==",
          "dtype": "i1"
         },
         "yaxis": "y"
        },
        {
         "bingroup": "x",
         "histfunc": "sum",
         "hovertemplate": "Location=%{x}<br>sum of Count=%{y}<extra></extra>",
         "legendgroup": "New Hampshire",
         "marker": {
          "color": "#EF553B",
          "pattern": {
           "shape": ""
          }
         },
         "name": "New Hampshire",
         "orientation": "v",
         "showlegend": true,
         "type": "histogram",
         "x": [
          "New Hampshire"
         ],
         "xaxis": "x",
         "y": {
          "bdata": "Rw==",
          "dtype": "i1"
         },
         "yaxis": "y"
        },
        {
         "bingroup": "x",
         "histfunc": "sum",
         "hovertemplate": "Location=%{x}<br>sum of Count=%{y}<extra></extra>",
         "legendgroup": "South Dakota",
         "marker": {
          "color": "#00cc96",
          "pattern": {
           "shape": ""
          }
         },
         "name": "South Dakota",
         "orientation": "v",
         "showlegend": true,
         "type": "histogram",
         "x": [
          "South Dakota"
         ],
         "xaxis": "x",
         "y": {
          "bdata": "Rg==",
          "dtype": "i1"
         },
         "yaxis": "y"
        },
        {
         "bingroup": "x",
         "histfunc": "sum",
         "hovertemplate": "Location=%{x}<br>sum of Count=%{y}<extra></extra>",
         "legendgroup": "Iowa",
         "marker": {
          "color": "#ab63fa",
          "pattern": {
           "shape": ""
          }
         },
         "name": "Iowa",
         "orientation": "v",
         "showlegend": true,
         "type": "histogram",
         "x": [
          "Iowa"
         ],
         "xaxis": "x",
         "y": {
          "bdata": "RQ==",
          "dtype": "i1"
         },
         "yaxis": "y"
        },
        {
         "bingroup": "x",
         "histfunc": "sum",
         "hovertemplate": "Location=%{x}<br>sum of Count=%{y}<extra></extra>",
         "legendgroup": "Florida",
         "marker": {
          "color": "#FFA15A",
          "pattern": {
           "shape": ""
          }
         },
         "name": "Florida",
         "orientation": "v",
         "showlegend": true,
         "type": "histogram",
         "x": [
          "Florida"
         ],
         "xaxis": "x",
         "y": {
          "bdata": "RA==",
          "dtype": "i1"
         },
         "yaxis": "y"
        },
        {
         "bingroup": "x",
         "histfunc": "sum",
         "hovertemplate": "Location=%{x}<br>sum of Count=%{y}<extra></extra>",
         "legendgroup": "New Jersey",
         "marker": {
          "color": "#19d3f3",
          "pattern": {
           "shape": ""
          }
         },
         "name": "New Jersey",
         "orientation": "v",
         "showlegend": true,
         "type": "histogram",
         "x": [
          "New Jersey"
         ],
         "xaxis": "x",
         "y": {
          "bdata": "Qw==",
          "dtype": "i1"
         },
         "yaxis": "y"
        },
        {
         "bingroup": "x",
         "histfunc": "sum",
         "hovertemplate": "Location=%{x}<br>sum of Count=%{y}<extra></extra>",
         "legendgroup": "Hawaii",
         "marker": {
          "color": "#FF6692",
          "pattern": {
           "shape": ""
          }
         },
         "name": "Hawaii",
         "orientation": "v",
         "showlegend": true,
         "type": "histogram",
         "x": [
          "Hawaii"
         ],
         "xaxis": "x",
         "y": {
          "bdata": "QQ==",
          "dtype": "i1"
         },
         "yaxis": "y"
        },
        {
         "bingroup": "x",
         "histfunc": "sum",
         "hovertemplate": "Location=%{x}<br>sum of Count=%{y}<extra></extra>",
         "legendgroup": "Arizona",
         "marker": {
          "color": "#B6E880",
          "pattern": {
           "shape": ""
          }
         },
         "name": "Arizona",
         "orientation": "v",
         "showlegend": true,
         "type": "histogram",
         "x": [
          "Arizona"
         ],
         "xaxis": "x",
         "y": {
          "bdata": "QQ==",
          "dtype": "i1"
         },
         "yaxis": "y"
        },
        {
         "bingroup": "x",
         "histfunc": "sum",
         "hovertemplate": "Location=%{x}<br>sum of Count=%{y}<extra></extra>",
         "legendgroup": "Kansas",
         "marker": {
          "color": "#FF97FF",
          "pattern": {
           "shape": ""
          }
         },
         "name": "Kansas",
         "orientation": "v",
         "showlegend": true,
         "type": "histogram",
         "x": [
          "Kansas"
         ],
         "xaxis": "x",
         "y": {
          "bdata": "Pw==",
          "dtype": "i1"
         },
         "yaxis": "y"
        },
        {
         "bingroup": "x",
         "histfunc": "sum",
         "hovertemplate": "Location=%{x}<br>sum of Count=%{y}<extra></extra>",
         "legendgroup": "Rhode Island",
         "marker": {
          "color": "#FECB52",
          "pattern": {
           "shape": ""
          }
         },
         "name": "Rhode Island",
         "orientation": "v",
         "showlegend": true,
         "type": "histogram",
         "x": [
          "Rhode Island"
         ],
         "xaxis": "x",
         "y": {
          "bdata": "Pw==",
          "dtype": "i1"
         },
         "yaxis": "y"
        }
       ],
       "layout": {
        "barmode": "relative",
        "legend": {
         "title": {
          "text": "Location"
         },
         "tracegroupgap": 0
        },
        "template": {
         "data": {
          "bar": [
           {
            "error_x": {
             "color": "#2a3f5f"
            },
            "error_y": {
             "color": "#2a3f5f"
            },
            "marker": {
             "line": {
              "color": "#E5ECF6",
              "width": 0.5
             },
             "pattern": {
              "fillmode": "overlay",
              "size": 10,
              "solidity": 0.2
             }
            },
            "type": "bar"
           }
          ],
          "barpolar": [
           {
            "marker": {
             "line": {
              "color": "#E5ECF6",
              "width": 0.5
             },
             "pattern": {
              "fillmode": "overlay",
              "size": 10,
              "solidity": 0.2
             }
            },
            "type": "barpolar"
           }
          ],
          "carpet": [
           {
            "aaxis": {
             "endlinecolor": "#2a3f5f",
             "gridcolor": "white",
             "linecolor": "white",
             "minorgridcolor": "white",
             "startlinecolor": "#2a3f5f"
            },
            "baxis": {
             "endlinecolor": "#2a3f5f",
             "gridcolor": "white",
             "linecolor": "white",
             "minorgridcolor": "white",
             "startlinecolor": "#2a3f5f"
            },
            "type": "carpet"
           }
          ],
          "choropleth": [
           {
            "colorbar": {
             "outlinewidth": 0,
             "ticks": ""
            },
            "type": "choropleth"
           }
          ],
          "contour": [
           {
            "colorbar": {
             "outlinewidth": 0,
             "ticks": ""
            },
            "colorscale": [
             [
              0,
              "#0d0887"
             ],
             [
              0.1111111111111111,
              "#46039f"
             ],
             [
              0.2222222222222222,
              "#7201a8"
             ],
             [
              0.3333333333333333,
              "#9c179e"
             ],
             [
              0.4444444444444444,
              "#bd3786"
             ],
             [
              0.5555555555555556,
              "#d8576b"
             ],
             [
              0.6666666666666666,
              "#ed7953"
             ],
             [
              0.7777777777777778,
              "#fb9f3a"
             ],
             [
              0.8888888888888888,
              "#fdca26"
             ],
             [
              1,
              "#f0f921"
             ]
            ],
            "type": "contour"
           }
          ],
          "contourcarpet": [
           {
            "colorbar": {
             "outlinewidth": 0,
             "ticks": ""
            },
            "type": "contourcarpet"
           }
          ],
          "heatmap": [
           {
            "colorbar": {
             "outlinewidth": 0,
             "ticks": ""
            },
            "colorscale": [
             [
              0,
              "#0d0887"
             ],
             [
              0.1111111111111111,
              "#46039f"
             ],
             [
              0.2222222222222222,
              "#7201a8"
             ],
             [
              0.3333333333333333,
              "#9c179e"
             ],
             [
              0.4444444444444444,
              "#bd3786"
             ],
             [
              0.5555555555555556,
              "#d8576b"
             ],
             [
              0.6666666666666666,
              "#ed7953"
             ],
             [
              0.7777777777777778,
              "#fb9f3a"
             ],
             [
              0.8888888888888888,
              "#fdca26"
             ],
             [
              1,
              "#f0f921"
             ]
            ],
            "type": "heatmap"
           }
          ],
          "histogram": [
           {
            "marker": {
             "pattern": {
              "fillmode": "overlay",
              "size": 10,
              "solidity": 0.2
             }
            },
            "type": "histogram"
           }
          ],
          "histogram2d": [
           {
            "colorbar": {
             "outlinewidth": 0,
             "ticks": ""
            },
            "colorscale": [
             [
              0,
              "#0d0887"
             ],
             [
              0.1111111111111111,
              "#46039f"
             ],
             [
              0.2222222222222222,
              "#7201a8"
             ],
             [
              0.3333333333333333,
              "#9c179e"
             ],
             [
              0.4444444444444444,
              "#bd3786"
             ],
             [
              0.5555555555555556,
              "#d8576b"
             ],
             [
              0.6666666666666666,
              "#ed7953"
             ],
             [
              0.7777777777777778,
              "#fb9f3a"
             ],
             [
              0.8888888888888888,
              "#fdca26"
             ],
             [
              1,
              "#f0f921"
             ]
            ],
            "type": "histogram2d"
           }
          ],
          "histogram2dcontour": [
           {
            "colorbar": {
             "outlinewidth": 0,
             "ticks": ""
            },
            "colorscale": [
             [
              0,
              "#0d0887"
             ],
             [
              0.1111111111111111,
              "#46039f"
             ],
             [
              0.2222222222222222,
              "#7201a8"
             ],
             [
              0.3333333333333333,
              "#9c179e"
             ],
             [
              0.4444444444444444,
              "#bd3786"
             ],
             [
              0.5555555555555556,
              "#d8576b"
             ],
             [
              0.6666666666666666,
              "#ed7953"
             ],
             [
              0.7777777777777778,
              "#fb9f3a"
             ],
             [
              0.8888888888888888,
              "#fdca26"
             ],
             [
              1,
              "#f0f921"
             ]
            ],
            "type": "histogram2dcontour"
           }
          ],
          "mesh3d": [
           {
            "colorbar": {
             "outlinewidth": 0,
             "ticks": ""
            },
            "type": "mesh3d"
           }
          ],
          "parcoords": [
           {
            "line": {
             "colorbar": {
              "outlinewidth": 0,
              "ticks": ""
             }
            },
            "type": "parcoords"
           }
          ],
          "pie": [
           {
            "automargin": true,
            "type": "pie"
           }
          ],
          "scatter": [
           {
            "fillpattern": {
             "fillmode": "overlay",
             "size": 10,
             "solidity": 0.2
            },
            "type": "scatter"
           }
          ],
          "scatter3d": [
           {
            "line": {
             "colorbar": {
              "outlinewidth": 0,
              "ticks": ""
             }
            },
            "marker": {
             "colorbar": {
              "outlinewidth": 0,
              "ticks": ""
             }
            },
            "type": "scatter3d"
           }
          ],
          "scattercarpet": [
           {
            "marker": {
             "colorbar": {
              "outlinewidth": 0,
              "ticks": ""
             }
            },
            "type": "scattercarpet"
           }
          ],
          "scattergeo": [
           {
            "marker": {
             "colorbar": {
              "outlinewidth": 0,
              "ticks": ""
             }
            },
            "type": "scattergeo"
           }
          ],
          "scattergl": [
           {
            "marker": {
             "colorbar": {
              "outlinewidth": 0,
              "ticks": ""
             }
            },
            "type": "scattergl"
           }
          ],
          "scattermap": [
           {
            "marker": {
             "colorbar": {
              "outlinewidth": 0,
              "ticks": ""
             }
            },
            "type": "scattermap"
           }
          ],
          "scattermapbox": [
           {
            "marker": {
             "colorbar": {
              "outlinewidth": 0,
              "ticks": ""
             }
            },
            "type": "scattermapbox"
           }
          ],
          "scatterpolar": [
           {
            "marker": {
             "colorbar": {
              "outlinewidth": 0,
              "ticks": ""
             }
            },
            "type": "scatterpolar"
           }
          ],
          "scatterpolargl": [
           {
            "marker": {
             "colorbar": {
              "outlinewidth": 0,
              "ticks": ""
             }
            },
            "type": "scatterpolargl"
           }
          ],
          "scatterternary": [
           {
            "marker": {
             "colorbar": {
              "outlinewidth": 0,
              "ticks": ""
             }
            },
            "type": "scatterternary"
           }
          ],
          "surface": [
           {
            "colorbar": {
             "outlinewidth": 0,
             "ticks": ""
            },
            "colorscale": [
             [
              0,
              "#0d0887"
             ],
             [
              0.1111111111111111,
              "#46039f"
             ],
             [
              0.2222222222222222,
              "#7201a8"
             ],
             [
              0.3333333333333333,
              "#9c179e"
             ],
             [
              0.4444444444444444,
              "#bd3786"
             ],
             [
              0.5555555555555556,
              "#d8576b"
             ],
             [
              0.6666666666666666,
              "#ed7953"
             ],
             [
              0.7777777777777778,
              "#fb9f3a"
             ],
             [
              0.8888888888888888,
              "#fdca26"
             ],
             [
              1,
              "#f0f921"
             ]
            ],
            "type": "surface"
           }
          ],
          "table": [
           {
            "cells": {
             "fill": {
              "color": "#EBF0F8"
             },
             "line": {
              "color": "white"
             }
            },
            "header": {
             "fill": {
              "color": "#C8D4E3"
             },
             "line": {
              "color": "white"
             }
            },
            "type": "table"
           }
          ]
         },
         "layout": {
          "annotationdefaults": {
           "arrowcolor": "#2a3f5f",
           "arrowhead": 0,
           "arrowwidth": 1
          },
          "autotypenumbers": "strict",
          "coloraxis": {
           "colorbar": {
            "outlinewidth": 0,
            "ticks": ""
           }
          },
          "colorscale": {
           "diverging": [
            [
             0,
             "#8e0152"
            ],
            [
             0.1,
             "#c51b7d"
            ],
            [
             0.2,
             "#de77ae"
            ],
            [
             0.3,
             "#f1b6da"
            ],
            [
             0.4,
             "#fde0ef"
            ],
            [
             0.5,
             "#f7f7f7"
            ],
            [
             0.6,
             "#e6f5d0"
            ],
            [
             0.7,
             "#b8e186"
            ],
            [
             0.8,
             "#7fbc41"
            ],
            [
             0.9,
             "#4d9221"
            ],
            [
             1,
             "#276419"
            ]
           ],
           "sequential": [
            [
             0,
             "#0d0887"
            ],
            [
             0.1111111111111111,
             "#46039f"
            ],
            [
             0.2222222222222222,
             "#7201a8"
            ],
            [
             0.3333333333333333,
             "#9c179e"
            ],
            [
             0.4444444444444444,
             "#bd3786"
            ],
            [
             0.5555555555555556,
             "#d8576b"
            ],
            [
             0.6666666666666666,
             "#ed7953"
            ],
            [
             0.7777777777777778,
             "#fb9f3a"
            ],
            [
             0.8888888888888888,
             "#fdca26"
            ],
            [
             1,
             "#f0f921"
            ]
           ],
           "sequentialminus": [
            [
             0,
             "#0d0887"
            ],
            [
             0.1111111111111111,
             "#46039f"
            ],
            [
             0.2222222222222222,
             "#7201a8"
            ],
            [
             0.3333333333333333,
             "#9c179e"
            ],
            [
             0.4444444444444444,
             "#bd3786"
            ],
            [
             0.5555555555555556,
             "#d8576b"
            ],
            [
             0.6666666666666666,
             "#ed7953"
            ],
            [
             0.7777777777777778,
             "#fb9f3a"
            ],
            [
             0.8888888888888888,
             "#fdca26"
            ],
            [
             1,
             "#f0f921"
            ]
           ]
          },
          "colorway": [
           "#636efa",
           "#EF553B",
           "#00cc96",
           "#ab63fa",
           "#FFA15A",
           "#19d3f3",
           "#FF6692",
           "#B6E880",
           "#FF97FF",
           "#FECB52"
          ],
          "font": {
           "color": "#2a3f5f"
          },
          "geo": {
           "bgcolor": "white",
           "lakecolor": "white",
           "landcolor": "#E5ECF6",
           "showlakes": true,
           "showland": true,
           "subunitcolor": "white"
          },
          "hoverlabel": {
           "align": "left"
          },
          "hovermode": "closest",
          "mapbox": {
           "style": "light"
          },
          "paper_bgcolor": "white",
          "plot_bgcolor": "#E5ECF6",
          "polar": {
           "angularaxis": {
            "gridcolor": "white",
            "linecolor": "white",
            "ticks": ""
           },
           "bgcolor": "#E5ECF6",
           "radialaxis": {
            "gridcolor": "white",
            "linecolor": "white",
            "ticks": ""
           }
          },
          "scene": {
           "xaxis": {
            "backgroundcolor": "#E5ECF6",
            "gridcolor": "white",
            "gridwidth": 2,
            "linecolor": "white",
            "showbackground": true,
            "ticks": "",
            "zerolinecolor": "white"
           },
           "yaxis": {
            "backgroundcolor": "#E5ECF6",
            "gridcolor": "white",
            "gridwidth": 2,
            "linecolor": "white",
            "showbackground": true,
            "ticks": "",
            "zerolinecolor": "white"
           },
           "zaxis": {
            "backgroundcolor": "#E5ECF6",
            "gridcolor": "white",
            "gridwidth": 2,
            "linecolor": "white",
            "showbackground": true,
            "ticks": "",
            "zerolinecolor": "white"
           }
          },
          "shapedefaults": {
           "line": {
            "color": "#2a3f5f"
           }
          },
          "ternary": {
           "aaxis": {
            "gridcolor": "white",
            "linecolor": "white",
            "ticks": ""
           },
           "baxis": {
            "gridcolor": "white",
            "linecolor": "white",
            "ticks": ""
           },
           "bgcolor": "#E5ECF6",
           "caxis": {
            "gridcolor": "white",
            "linecolor": "white",
            "ticks": ""
           }
          },
          "title": {
           "x": 0.05
          },
          "xaxis": {
           "automargin": true,
           "gridcolor": "white",
           "linecolor": "white",
           "ticks": "",
           "title": {
            "standoff": 15
           },
           "zerolinecolor": "white",
           "zerolinewidth": 2
          },
          "yaxis": {
           "automargin": true,
           "gridcolor": "white",
           "linecolor": "white",
           "ticks": "",
           "title": {
            "standoff": 15
           },
           "zerolinecolor": "white",
           "zerolinewidth": 2
          }
         }
        },
        "title": {
         "text": "Number of purchases per country "
        },
        "xaxis": {
         "anchor": "y",
         "categoryarray": [
          "Montana",
          "California",
          "Idaho",
          "Illinois",
          "Alabama",
          "Minnesota",
          "Nebraska",
          "New York",
          "Nevada",
          "Maryland",
          "Delaware",
          "Vermont",
          "Louisiana",
          "North Dakota",
          "Missouri",
          "West Virginia",
          "New Mexico",
          "Mississippi",
          "Indiana",
          "Georgia",
          "Kentucky",
          "Arkansas",
          "North Carolina",
          "Connecticut",
          "Virginia",
          "Ohio",
          "Tennessee",
          "Texas",
          "Maine",
          "South Carolina",
          "Colorado",
          "Oklahoma",
          "Wisconsin",
          "Oregon",
          "Pennsylvania",
          "Washington",
          "Michigan",
          "Alaska",
          "Massachusetts",
          "Wyoming",
          "Utah",
          "New Hampshire",
          "South Dakota",
          "Iowa",
          "Florida",
          "New Jersey",
          "Hawaii",
          "Arizona",
          "Kansas",
          "Rhode Island"
         ],
         "categoryorder": "array",
         "domain": [
          0,
          1
         ],
         "title": {
          "text": "Location"
         }
        },
        "yaxis": {
         "anchor": "x",
         "domain": [
          0,
          1
         ],
         "title": {
          "text": "sum of Count"
         }
        }
       }
      }
     },
     "metadata": {},
     "output_type": "display_data"
    }
   ],
   "source": [
    "country_Frequency= df['Location'].value_counts().reset_index()\n",
    "country_Frequency.columns=['Location','Count']\n",
    "\n",
    "\n",
    "fig=px.histogram(country_Frequency,x='Location',y='Count',title=\"Number of purchases per country \",color='Location')\n",
    "fig.show()"
   ]
  },
  {
   "cell_type": "code",
   "execution_count": 20,
   "id": "4a6ed026-cef4-461f-847f-cffbbe4fca97",
   "metadata": {},
   "outputs": [
    {
     "data": {
      "text/html": [
       "<div>\n",
       "<style scoped>\n",
       "    .dataframe tbody tr th:only-of-type {\n",
       "        vertical-align: middle;\n",
       "    }\n",
       "\n",
       "    .dataframe tbody tr th {\n",
       "        vertical-align: top;\n",
       "    }\n",
       "\n",
       "    .dataframe thead th {\n",
       "        text-align: right;\n",
       "    }\n",
       "</style>\n",
       "<table border=\"1\" class=\"dataframe\">\n",
       "  <thead>\n",
       "    <tr style=\"text-align: right;\">\n",
       "      <th></th>\n",
       "      <th>Customer_ID</th>\n",
       "      <th>Age</th>\n",
       "      <th>Gender</th>\n",
       "      <th>Item_Purchased</th>\n",
       "      <th>Category</th>\n",
       "      <th>Purchase_Amount_USD</th>\n",
       "      <th>Location</th>\n",
       "      <th>Size</th>\n",
       "      <th>Color</th>\n",
       "      <th>Season</th>\n",
       "      <th>Review_Rating</th>\n",
       "      <th>Subscription_Status</th>\n",
       "      <th>Payment_Method</th>\n",
       "      <th>Shipping_Type</th>\n",
       "      <th>Discount_Applied</th>\n",
       "      <th>Promo_Code_Used</th>\n",
       "      <th>Previous_Purchases</th>\n",
       "      <th>Preferred_Payment_Method</th>\n",
       "      <th>Frequency_of_Purchases</th>\n",
       "      <th>avg_sales</th>\n",
       "    </tr>\n",
       "  </thead>\n",
       "  <tbody>\n",
       "    <tr>\n",
       "      <th>0</th>\n",
       "      <td>1</td>\n",
       "      <td>55</td>\n",
       "      <td>Male</td>\n",
       "      <td>Blouse</td>\n",
       "      <td>Clothing</td>\n",
       "      <td>53</td>\n",
       "      <td>Kentucky</td>\n",
       "      <td>L</td>\n",
       "      <td>Gray</td>\n",
       "      <td>Winter</td>\n",
       "      <td>3.1</td>\n",
       "      <td>Yes</td>\n",
       "      <td>Credit Card</td>\n",
       "      <td>Express</td>\n",
       "      <td>Yes</td>\n",
       "      <td>Yes</td>\n",
       "      <td>14</td>\n",
       "      <td>Venmo</td>\n",
       "      <td>Fortnightly</td>\n",
       "      <td>55.721519</td>\n",
       "    </tr>\n",
       "    <tr>\n",
       "      <th>1</th>\n",
       "      <td>2</td>\n",
       "      <td>19</td>\n",
       "      <td>Male</td>\n",
       "      <td>Sweater</td>\n",
       "      <td>Clothing</td>\n",
       "      <td>64</td>\n",
       "      <td>Maine</td>\n",
       "      <td>L</td>\n",
       "      <td>Maroon</td>\n",
       "      <td>Winter</td>\n",
       "      <td>3.1</td>\n",
       "      <td>Yes</td>\n",
       "      <td>Bank Transfer</td>\n",
       "      <td>Express</td>\n",
       "      <td>Yes</td>\n",
       "      <td>Yes</td>\n",
       "      <td>2</td>\n",
       "      <td>Cash</td>\n",
       "      <td>Fortnightly</td>\n",
       "      <td>56.987013</td>\n",
       "    </tr>\n",
       "    <tr>\n",
       "      <th>2</th>\n",
       "      <td>3</td>\n",
       "      <td>50</td>\n",
       "      <td>Male</td>\n",
       "      <td>Jeans</td>\n",
       "      <td>Clothing</td>\n",
       "      <td>73</td>\n",
       "      <td>Massachusetts</td>\n",
       "      <td>S</td>\n",
       "      <td>Maroon</td>\n",
       "      <td>Spring</td>\n",
       "      <td>3.1</td>\n",
       "      <td>Yes</td>\n",
       "      <td>Cash</td>\n",
       "      <td>Free Shipping</td>\n",
       "      <td>Yes</td>\n",
       "      <td>Yes</td>\n",
       "      <td>23</td>\n",
       "      <td>Credit Card</td>\n",
       "      <td>Weekly</td>\n",
       "      <td>60.888889</td>\n",
       "    </tr>\n",
       "    <tr>\n",
       "      <th>3</th>\n",
       "      <td>4</td>\n",
       "      <td>21</td>\n",
       "      <td>Male</td>\n",
       "      <td>Sandals</td>\n",
       "      <td>Footwear</td>\n",
       "      <td>90</td>\n",
       "      <td>Rhode Island</td>\n",
       "      <td>M</td>\n",
       "      <td>Maroon</td>\n",
       "      <td>Spring</td>\n",
       "      <td>3.5</td>\n",
       "      <td>Yes</td>\n",
       "      <td>PayPal</td>\n",
       "      <td>Next Day Air</td>\n",
       "      <td>Yes</td>\n",
       "      <td>Yes</td>\n",
       "      <td>49</td>\n",
       "      <td>PayPal</td>\n",
       "      <td>Weekly</td>\n",
       "      <td>61.444444</td>\n",
       "    </tr>\n",
       "    <tr>\n",
       "      <th>4</th>\n",
       "      <td>5</td>\n",
       "      <td>45</td>\n",
       "      <td>Male</td>\n",
       "      <td>Blouse</td>\n",
       "      <td>Clothing</td>\n",
       "      <td>49</td>\n",
       "      <td>Oregon</td>\n",
       "      <td>M</td>\n",
       "      <td>Turquoise</td>\n",
       "      <td>Spring</td>\n",
       "      <td>2.7</td>\n",
       "      <td>Yes</td>\n",
       "      <td>Cash</td>\n",
       "      <td>Free Shipping</td>\n",
       "      <td>Yes</td>\n",
       "      <td>Yes</td>\n",
       "      <td>31</td>\n",
       "      <td>PayPal</td>\n",
       "      <td>Annually</td>\n",
       "      <td>57.337838</td>\n",
       "    </tr>\n",
       "    <tr>\n",
       "      <th>...</th>\n",
       "      <td>...</td>\n",
       "      <td>...</td>\n",
       "      <td>...</td>\n",
       "      <td>...</td>\n",
       "      <td>...</td>\n",
       "      <td>...</td>\n",
       "      <td>...</td>\n",
       "      <td>...</td>\n",
       "      <td>...</td>\n",
       "      <td>...</td>\n",
       "      <td>...</td>\n",
       "      <td>...</td>\n",
       "      <td>...</td>\n",
       "      <td>...</td>\n",
       "      <td>...</td>\n",
       "      <td>...</td>\n",
       "      <td>...</td>\n",
       "      <td>...</td>\n",
       "      <td>...</td>\n",
       "      <td>...</td>\n",
       "    </tr>\n",
       "    <tr>\n",
       "      <th>3895</th>\n",
       "      <td>3896</td>\n",
       "      <td>40</td>\n",
       "      <td>Female</td>\n",
       "      <td>Hoodie</td>\n",
       "      <td>Clothing</td>\n",
       "      <td>28</td>\n",
       "      <td>Virginia</td>\n",
       "      <td>L</td>\n",
       "      <td>Turquoise</td>\n",
       "      <td>Summer</td>\n",
       "      <td>4.2</td>\n",
       "      <td>No</td>\n",
       "      <td>Cash</td>\n",
       "      <td>2-Day Shipping</td>\n",
       "      <td>No</td>\n",
       "      <td>No</td>\n",
       "      <td>32</td>\n",
       "      <td>Venmo</td>\n",
       "      <td>Weekly</td>\n",
       "      <td>62.883117</td>\n",
       "    </tr>\n",
       "    <tr>\n",
       "      <th>3896</th>\n",
       "      <td>3897</td>\n",
       "      <td>52</td>\n",
       "      <td>Female</td>\n",
       "      <td>Backpack</td>\n",
       "      <td>Accessories</td>\n",
       "      <td>49</td>\n",
       "      <td>Iowa</td>\n",
       "      <td>L</td>\n",
       "      <td>White</td>\n",
       "      <td>Spring</td>\n",
       "      <td>4.5</td>\n",
       "      <td>No</td>\n",
       "      <td>PayPal</td>\n",
       "      <td>Store Pickup</td>\n",
       "      <td>No</td>\n",
       "      <td>No</td>\n",
       "      <td>41</td>\n",
       "      <td>Bank Transfer</td>\n",
       "      <td>Bi-Weekly</td>\n",
       "      <td>60.884058</td>\n",
       "    </tr>\n",
       "    <tr>\n",
       "      <th>3897</th>\n",
       "      <td>3898</td>\n",
       "      <td>46</td>\n",
       "      <td>Female</td>\n",
       "      <td>Belt</td>\n",
       "      <td>Accessories</td>\n",
       "      <td>33</td>\n",
       "      <td>New Jersey</td>\n",
       "      <td>L</td>\n",
       "      <td>Green</td>\n",
       "      <td>Spring</td>\n",
       "      <td>2.9</td>\n",
       "      <td>No</td>\n",
       "      <td>Credit Card</td>\n",
       "      <td>Standard</td>\n",
       "      <td>No</td>\n",
       "      <td>No</td>\n",
       "      <td>24</td>\n",
       "      <td>Venmo</td>\n",
       "      <td>Quarterly</td>\n",
       "      <td>56.746269</td>\n",
       "    </tr>\n",
       "    <tr>\n",
       "      <th>3898</th>\n",
       "      <td>3899</td>\n",
       "      <td>44</td>\n",
       "      <td>Female</td>\n",
       "      <td>Shoes</td>\n",
       "      <td>Footwear</td>\n",
       "      <td>77</td>\n",
       "      <td>Minnesota</td>\n",
       "      <td>S</td>\n",
       "      <td>Brown</td>\n",
       "      <td>Summer</td>\n",
       "      <td>3.8</td>\n",
       "      <td>No</td>\n",
       "      <td>PayPal</td>\n",
       "      <td>Express</td>\n",
       "      <td>No</td>\n",
       "      <td>No</td>\n",
       "      <td>24</td>\n",
       "      <td>Venmo</td>\n",
       "      <td>Weekly</td>\n",
       "      <td>56.556818</td>\n",
       "    </tr>\n",
       "    <tr>\n",
       "      <th>3899</th>\n",
       "      <td>3900</td>\n",
       "      <td>52</td>\n",
       "      <td>Female</td>\n",
       "      <td>Handbag</td>\n",
       "      <td>Accessories</td>\n",
       "      <td>81</td>\n",
       "      <td>California</td>\n",
       "      <td>M</td>\n",
       "      <td>Beige</td>\n",
       "      <td>Spring</td>\n",
       "      <td>3.1</td>\n",
       "      <td>No</td>\n",
       "      <td>Bank Transfer</td>\n",
       "      <td>Store Pickup</td>\n",
       "      <td>No</td>\n",
       "      <td>No</td>\n",
       "      <td>33</td>\n",
       "      <td>Venmo</td>\n",
       "      <td>Quarterly</td>\n",
       "      <td>59.000000</td>\n",
       "    </tr>\n",
       "  </tbody>\n",
       "</table>\n",
       "<p>3900 rows × 20 columns</p>\n",
       "</div>"
      ],
      "text/plain": [
       "      Customer_ID  Age  Gender Item_Purchased     Category  \\\n",
       "0               1   55    Male         Blouse     Clothing   \n",
       "1               2   19    Male        Sweater     Clothing   \n",
       "2               3   50    Male          Jeans     Clothing   \n",
       "3               4   21    Male        Sandals     Footwear   \n",
       "4               5   45    Male         Blouse     Clothing   \n",
       "...           ...  ...     ...            ...          ...   \n",
       "3895         3896   40  Female         Hoodie     Clothing   \n",
       "3896         3897   52  Female       Backpack  Accessories   \n",
       "3897         3898   46  Female           Belt  Accessories   \n",
       "3898         3899   44  Female          Shoes     Footwear   \n",
       "3899         3900   52  Female        Handbag  Accessories   \n",
       "\n",
       "      Purchase_Amount_USD       Location Size      Color  Season  \\\n",
       "0                      53       Kentucky    L       Gray  Winter   \n",
       "1                      64          Maine    L     Maroon  Winter   \n",
       "2                      73  Massachusetts    S     Maroon  Spring   \n",
       "3                      90   Rhode Island    M     Maroon  Spring   \n",
       "4                      49         Oregon    M  Turquoise  Spring   \n",
       "...                   ...            ...  ...        ...     ...   \n",
       "3895                   28       Virginia    L  Turquoise  Summer   \n",
       "3896                   49           Iowa    L      White  Spring   \n",
       "3897                   33     New Jersey    L      Green  Spring   \n",
       "3898                   77      Minnesota    S      Brown  Summer   \n",
       "3899                   81     California    M      Beige  Spring   \n",
       "\n",
       "      Review_Rating Subscription_Status Payment_Method   Shipping_Type  \\\n",
       "0               3.1                 Yes    Credit Card         Express   \n",
       "1               3.1                 Yes  Bank Transfer         Express   \n",
       "2               3.1                 Yes           Cash   Free Shipping   \n",
       "3               3.5                 Yes         PayPal    Next Day Air   \n",
       "4               2.7                 Yes           Cash   Free Shipping   \n",
       "...             ...                 ...            ...             ...   \n",
       "3895            4.2                  No           Cash  2-Day Shipping   \n",
       "3896            4.5                  No         PayPal    Store Pickup   \n",
       "3897            2.9                  No    Credit Card        Standard   \n",
       "3898            3.8                  No         PayPal         Express   \n",
       "3899            3.1                  No  Bank Transfer    Store Pickup   \n",
       "\n",
       "     Discount_Applied Promo_Code_Used  Previous_Purchases  \\\n",
       "0                 Yes             Yes                  14   \n",
       "1                 Yes             Yes                   2   \n",
       "2                 Yes             Yes                  23   \n",
       "3                 Yes             Yes                  49   \n",
       "4                 Yes             Yes                  31   \n",
       "...               ...             ...                 ...   \n",
       "3895               No              No                  32   \n",
       "3896               No              No                  41   \n",
       "3897               No              No                  24   \n",
       "3898               No              No                  24   \n",
       "3899               No              No                  33   \n",
       "\n",
       "     Preferred_Payment_Method Frequency_of_Purchases  avg_sales  \n",
       "0                       Venmo            Fortnightly  55.721519  \n",
       "1                        Cash            Fortnightly  56.987013  \n",
       "2                 Credit Card                 Weekly  60.888889  \n",
       "3                      PayPal                 Weekly  61.444444  \n",
       "4                      PayPal               Annually  57.337838  \n",
       "...                       ...                    ...        ...  \n",
       "3895                    Venmo                 Weekly  62.883117  \n",
       "3896            Bank Transfer              Bi-Weekly  60.884058  \n",
       "3897                    Venmo              Quarterly  56.746269  \n",
       "3898                    Venmo                 Weekly  56.556818  \n",
       "3899                    Venmo              Quarterly  59.000000  \n",
       "\n",
       "[3900 rows x 20 columns]"
      ]
     },
     "execution_count": 20,
     "metadata": {},
     "output_type": "execute_result"
    }
   ],
   "source": [
    "df"
   ]
  },
  {
   "cell_type": "code",
   "execution_count": 21,
   "id": "5cab5081-b8eb-4eea-9311-2eba064a8564",
   "metadata": {},
   "outputs": [
    {
     "data": {
      "text/plain": [
       "Item_Purchased\n",
       "Blouse        171\n",
       "Jewelry       171\n",
       "Pants         171\n",
       "Shirt         169\n",
       "Dress         166\n",
       "Sweater       164\n",
       "Jacket        163\n",
       "Belt          161\n",
       "Sunglasses    161\n",
       "Coat          161\n",
       "Sandals       160\n",
       "Socks         159\n",
       "Skirt         158\n",
       "Shorts        157\n",
       "Scarf         157\n",
       "Hat           154\n",
       "Handbag       153\n",
       "Hoodie        151\n",
       "Shoes         150\n",
       "T-shirt       147\n",
       "Sneakers      145\n",
       "Boots         144\n",
       "Backpack      143\n",
       "Gloves        140\n",
       "Jeans         124\n",
       "Name: count, dtype: int64"
      ]
     },
     "execution_count": 21,
     "metadata": {},
     "output_type": "execute_result"
    }
   ],
   "source": [
    "df['Item_Purchased'].value_counts()"
   ]
  },
  {
   "cell_type": "code",
   "execution_count": 22,
   "id": "c60fb286-1f97-47a9-82c1-8f1c9fe5c76f",
   "metadata": {},
   "outputs": [
    {
     "data": {
      "application/vnd.plotly.v1+json": {
       "config": {
        "plotlyServerURL": "https://plot.ly"
       },
       "data": [
        {
         "bingroup": "x",
         "histfunc": "sum",
         "hovertemplate": "Item_Purchased=%{x}<br>sum of Count=%{y}<extra></extra>",
         "legendgroup": "Blouse",
         "marker": {
          "color": "#636efa",
          "pattern": {
           "shape": ""
          }
         },
         "name": "Blouse",
         "orientation": "v",
         "showlegend": true,
         "type": "histogram",
         "x": [
          "Blouse"
         ],
         "xaxis": "x",
         "y": {
          "bdata": "qwA=",
          "dtype": "i2"
         },
         "yaxis": "y"
        },
        {
         "bingroup": "x",
         "histfunc": "sum",
         "hovertemplate": "Item_Purchased=%{x}<br>sum of Count=%{y}<extra></extra>",
         "legendgroup": "Jewelry",
         "marker": {
          "color": "#EF553B",
          "pattern": {
           "shape": ""
          }
         },
         "name": "Jewelry",
         "orientation": "v",
         "showlegend": true,
         "type": "histogram",
         "x": [
          "Jewelry"
         ],
         "xaxis": "x",
         "y": {
          "bdata": "qwA=",
          "dtype": "i2"
         },
         "yaxis": "y"
        },
        {
         "bingroup": "x",
         "histfunc": "sum",
         "hovertemplate": "Item_Purchased=%{x}<br>sum of Count=%{y}<extra></extra>",
         "legendgroup": "Pants",
         "marker": {
          "color": "#00cc96",
          "pattern": {
           "shape": ""
          }
         },
         "name": "Pants",
         "orientation": "v",
         "showlegend": true,
         "type": "histogram",
         "x": [
          "Pants"
         ],
         "xaxis": "x",
         "y": {
          "bdata": "qwA=",
          "dtype": "i2"
         },
         "yaxis": "y"
        },
        {
         "bingroup": "x",
         "histfunc": "sum",
         "hovertemplate": "Item_Purchased=%{x}<br>sum of Count=%{y}<extra></extra>",
         "legendgroup": "Shirt",
         "marker": {
          "color": "#ab63fa",
          "pattern": {
           "shape": ""
          }
         },
         "name": "Shirt",
         "orientation": "v",
         "showlegend": true,
         "type": "histogram",
         "x": [
          "Shirt"
         ],
         "xaxis": "x",
         "y": {
          "bdata": "qQA=",
          "dtype": "i2"
         },
         "yaxis": "y"
        },
        {
         "bingroup": "x",
         "histfunc": "sum",
         "hovertemplate": "Item_Purchased=%{x}<br>sum of Count=%{y}<extra></extra>",
         "legendgroup": "Dress",
         "marker": {
          "color": "#FFA15A",
          "pattern": {
           "shape": ""
          }
         },
         "name": "Dress",
         "orientation": "v",
         "showlegend": true,
         "type": "histogram",
         "x": [
          "Dress"
         ],
         "xaxis": "x",
         "y": {
          "bdata": "pgA=",
          "dtype": "i2"
         },
         "yaxis": "y"
        },
        {
         "bingroup": "x",
         "histfunc": "sum",
         "hovertemplate": "Item_Purchased=%{x}<br>sum of Count=%{y}<extra></extra>",
         "legendgroup": "Sweater",
         "marker": {
          "color": "#19d3f3",
          "pattern": {
           "shape": ""
          }
         },
         "name": "Sweater",
         "orientation": "v",
         "showlegend": true,
         "type": "histogram",
         "x": [
          "Sweater"
         ],
         "xaxis": "x",
         "y": {
          "bdata": "pAA=",
          "dtype": "i2"
         },
         "yaxis": "y"
        },
        {
         "bingroup": "x",
         "histfunc": "sum",
         "hovertemplate": "Item_Purchased=%{x}<br>sum of Count=%{y}<extra></extra>",
         "legendgroup": "Jacket",
         "marker": {
          "color": "#FF6692",
          "pattern": {
           "shape": ""
          }
         },
         "name": "Jacket",
         "orientation": "v",
         "showlegend": true,
         "type": "histogram",
         "x": [
          "Jacket"
         ],
         "xaxis": "x",
         "y": {
          "bdata": "owA=",
          "dtype": "i2"
         },
         "yaxis": "y"
        },
        {
         "bingroup": "x",
         "histfunc": "sum",
         "hovertemplate": "Item_Purchased=%{x}<br>sum of Count=%{y}<extra></extra>",
         "legendgroup": "Belt",
         "marker": {
          "color": "#B6E880",
          "pattern": {
           "shape": ""
          }
         },
         "name": "Belt",
         "orientation": "v",
         "showlegend": true,
         "type": "histogram",
         "x": [
          "Belt"
         ],
         "xaxis": "x",
         "y": {
          "bdata": "oQA=",
          "dtype": "i2"
         },
         "yaxis": "y"
        },
        {
         "bingroup": "x",
         "histfunc": "sum",
         "hovertemplate": "Item_Purchased=%{x}<br>sum of Count=%{y}<extra></extra>",
         "legendgroup": "Sunglasses",
         "marker": {
          "color": "#FF97FF",
          "pattern": {
           "shape": ""
          }
         },
         "name": "Sunglasses",
         "orientation": "v",
         "showlegend": true,
         "type": "histogram",
         "x": [
          "Sunglasses"
         ],
         "xaxis": "x",
         "y": {
          "bdata": "oQA=",
          "dtype": "i2"
         },
         "yaxis": "y"
        },
        {
         "bingroup": "x",
         "histfunc": "sum",
         "hovertemplate": "Item_Purchased=%{x}<br>sum of Count=%{y}<extra></extra>",
         "legendgroup": "Coat",
         "marker": {
          "color": "#FECB52",
          "pattern": {
           "shape": ""
          }
         },
         "name": "Coat",
         "orientation": "v",
         "showlegend": true,
         "type": "histogram",
         "x": [
          "Coat"
         ],
         "xaxis": "x",
         "y": {
          "bdata": "oQA=",
          "dtype": "i2"
         },
         "yaxis": "y"
        },
        {
         "bingroup": "x",
         "histfunc": "sum",
         "hovertemplate": "Item_Purchased=%{x}<br>sum of Count=%{y}<extra></extra>",
         "legendgroup": "Sandals",
         "marker": {
          "color": "#636efa",
          "pattern": {
           "shape": ""
          }
         },
         "name": "Sandals",
         "orientation": "v",
         "showlegend": true,
         "type": "histogram",
         "x": [
          "Sandals"
         ],
         "xaxis": "x",
         "y": {
          "bdata": "oAA=",
          "dtype": "i2"
         },
         "yaxis": "y"
        },
        {
         "bingroup": "x",
         "histfunc": "sum",
         "hovertemplate": "Item_Purchased=%{x}<br>sum of Count=%{y}<extra></extra>",
         "legendgroup": "Socks",
         "marker": {
          "color": "#EF553B",
          "pattern": {
           "shape": ""
          }
         },
         "name": "Socks",
         "orientation": "v",
         "showlegend": true,
         "type": "histogram",
         "x": [
          "Socks"
         ],
         "xaxis": "x",
         "y": {
          "bdata": "nwA=",
          "dtype": "i2"
         },
         "yaxis": "y"
        },
        {
         "bingroup": "x",
         "histfunc": "sum",
         "hovertemplate": "Item_Purchased=%{x}<br>sum of Count=%{y}<extra></extra>",
         "legendgroup": "Skirt",
         "marker": {
          "color": "#00cc96",
          "pattern": {
           "shape": ""
          }
         },
         "name": "Skirt",
         "orientation": "v",
         "showlegend": true,
         "type": "histogram",
         "x": [
          "Skirt"
         ],
         "xaxis": "x",
         "y": {
          "bdata": "ngA=",
          "dtype": "i2"
         },
         "yaxis": "y"
        },
        {
         "bingroup": "x",
         "histfunc": "sum",
         "hovertemplate": "Item_Purchased=%{x}<br>sum of Count=%{y}<extra></extra>",
         "legendgroup": "Shorts",
         "marker": {
          "color": "#ab63fa",
          "pattern": {
           "shape": ""
          }
         },
         "name": "Shorts",
         "orientation": "v",
         "showlegend": true,
         "type": "histogram",
         "x": [
          "Shorts"
         ],
         "xaxis": "x",
         "y": {
          "bdata": "nQA=",
          "dtype": "i2"
         },
         "yaxis": "y"
        },
        {
         "bingroup": "x",
         "histfunc": "sum",
         "hovertemplate": "Item_Purchased=%{x}<br>sum of Count=%{y}<extra></extra>",
         "legendgroup": "Scarf",
         "marker": {
          "color": "#FFA15A",
          "pattern": {
           "shape": ""
          }
         },
         "name": "Scarf",
         "orientation": "v",
         "showlegend": true,
         "type": "histogram",
         "x": [
          "Scarf"
         ],
         "xaxis": "x",
         "y": {
          "bdata": "nQA=",
          "dtype": "i2"
         },
         "yaxis": "y"
        },
        {
         "bingroup": "x",
         "histfunc": "sum",
         "hovertemplate": "Item_Purchased=%{x}<br>sum of Count=%{y}<extra></extra>",
         "legendgroup": "Hat",
         "marker": {
          "color": "#19d3f3",
          "pattern": {
           "shape": ""
          }
         },
         "name": "Hat",
         "orientation": "v",
         "showlegend": true,
         "type": "histogram",
         "x": [
          "Hat"
         ],
         "xaxis": "x",
         "y": {
          "bdata": "mgA=",
          "dtype": "i2"
         },
         "yaxis": "y"
        },
        {
         "bingroup": "x",
         "histfunc": "sum",
         "hovertemplate": "Item_Purchased=%{x}<br>sum of Count=%{y}<extra></extra>",
         "legendgroup": "Handbag",
         "marker": {
          "color": "#FF6692",
          "pattern": {
           "shape": ""
          }
         },
         "name": "Handbag",
         "orientation": "v",
         "showlegend": true,
         "type": "histogram",
         "x": [
          "Handbag"
         ],
         "xaxis": "x",
         "y": {
          "bdata": "mQA=",
          "dtype": "i2"
         },
         "yaxis": "y"
        },
        {
         "bingroup": "x",
         "histfunc": "sum",
         "hovertemplate": "Item_Purchased=%{x}<br>sum of Count=%{y}<extra></extra>",
         "legendgroup": "Hoodie",
         "marker": {
          "color": "#B6E880",
          "pattern": {
           "shape": ""
          }
         },
         "name": "Hoodie",
         "orientation": "v",
         "showlegend": true,
         "type": "histogram",
         "x": [
          "Hoodie"
         ],
         "xaxis": "x",
         "y": {
          "bdata": "lwA=",
          "dtype": "i2"
         },
         "yaxis": "y"
        },
        {
         "bingroup": "x",
         "histfunc": "sum",
         "hovertemplate": "Item_Purchased=%{x}<br>sum of Count=%{y}<extra></extra>",
         "legendgroup": "Shoes",
         "marker": {
          "color": "#FF97FF",
          "pattern": {
           "shape": ""
          }
         },
         "name": "Shoes",
         "orientation": "v",
         "showlegend": true,
         "type": "histogram",
         "x": [
          "Shoes"
         ],
         "xaxis": "x",
         "y": {
          "bdata": "lgA=",
          "dtype": "i2"
         },
         "yaxis": "y"
        },
        {
         "bingroup": "x",
         "histfunc": "sum",
         "hovertemplate": "Item_Purchased=%{x}<br>sum of Count=%{y}<extra></extra>",
         "legendgroup": "T-shirt",
         "marker": {
          "color": "#FECB52",
          "pattern": {
           "shape": ""
          }
         },
         "name": "T-shirt",
         "orientation": "v",
         "showlegend": true,
         "type": "histogram",
         "x": [
          "T-shirt"
         ],
         "xaxis": "x",
         "y": {
          "bdata": "kwA=",
          "dtype": "i2"
         },
         "yaxis": "y"
        },
        {
         "bingroup": "x",
         "histfunc": "sum",
         "hovertemplate": "Item_Purchased=%{x}<br>sum of Count=%{y}<extra></extra>",
         "legendgroup": "Sneakers",
         "marker": {
          "color": "#636efa",
          "pattern": {
           "shape": ""
          }
         },
         "name": "Sneakers",
         "orientation": "v",
         "showlegend": true,
         "type": "histogram",
         "x": [
          "Sneakers"
         ],
         "xaxis": "x",
         "y": {
          "bdata": "kQA=",
          "dtype": "i2"
         },
         "yaxis": "y"
        },
        {
         "bingroup": "x",
         "histfunc": "sum",
         "hovertemplate": "Item_Purchased=%{x}<br>sum of Count=%{y}<extra></extra>",
         "legendgroup": "Boots",
         "marker": {
          "color": "#EF553B",
          "pattern": {
           "shape": ""
          }
         },
         "name": "Boots",
         "orientation": "v",
         "showlegend": true,
         "type": "histogram",
         "x": [
          "Boots"
         ],
         "xaxis": "x",
         "y": {
          "bdata": "kAA=",
          "dtype": "i2"
         },
         "yaxis": "y"
        },
        {
         "bingroup": "x",
         "histfunc": "sum",
         "hovertemplate": "Item_Purchased=%{x}<br>sum of Count=%{y}<extra></extra>",
         "legendgroup": "Backpack",
         "marker": {
          "color": "#00cc96",
          "pattern": {
           "shape": ""
          }
         },
         "name": "Backpack",
         "orientation": "v",
         "showlegend": true,
         "type": "histogram",
         "x": [
          "Backpack"
         ],
         "xaxis": "x",
         "y": {
          "bdata": "jwA=",
          "dtype": "i2"
         },
         "yaxis": "y"
        },
        {
         "bingroup": "x",
         "histfunc": "sum",
         "hovertemplate": "Item_Purchased=%{x}<br>sum of Count=%{y}<extra></extra>",
         "legendgroup": "Gloves",
         "marker": {
          "color": "#ab63fa",
          "pattern": {
           "shape": ""
          }
         },
         "name": "Gloves",
         "orientation": "v",
         "showlegend": true,
         "type": "histogram",
         "x": [
          "Gloves"
         ],
         "xaxis": "x",
         "y": {
          "bdata": "jAA=",
          "dtype": "i2"
         },
         "yaxis": "y"
        },
        {
         "bingroup": "x",
         "histfunc": "sum",
         "hovertemplate": "Item_Purchased=%{x}<br>sum of Count=%{y}<extra></extra>",
         "legendgroup": "Jeans",
         "marker": {
          "color": "#FFA15A",
          "pattern": {
           "shape": ""
          }
         },
         "name": "Jeans",
         "orientation": "v",
         "showlegend": true,
         "type": "histogram",
         "x": [
          "Jeans"
         ],
         "xaxis": "x",
         "y": {
          "bdata": "fA==",
          "dtype": "i1"
         },
         "yaxis": "y"
        }
       ],
       "layout": {
        "barmode": "relative",
        "legend": {
         "title": {
          "text": "Item_Purchased"
         },
         "tracegroupgap": 0
        },
        "template": {
         "data": {
          "bar": [
           {
            "error_x": {
             "color": "#2a3f5f"
            },
            "error_y": {
             "color": "#2a3f5f"
            },
            "marker": {
             "line": {
              "color": "#E5ECF6",
              "width": 0.5
             },
             "pattern": {
              "fillmode": "overlay",
              "size": 10,
              "solidity": 0.2
             }
            },
            "type": "bar"
           }
          ],
          "barpolar": [
           {
            "marker": {
             "line": {
              "color": "#E5ECF6",
              "width": 0.5
             },
             "pattern": {
              "fillmode": "overlay",
              "size": 10,
              "solidity": 0.2
             }
            },
            "type": "barpolar"
           }
          ],
          "carpet": [
           {
            "aaxis": {
             "endlinecolor": "#2a3f5f",
             "gridcolor": "white",
             "linecolor": "white",
             "minorgridcolor": "white",
             "startlinecolor": "#2a3f5f"
            },
            "baxis": {
             "endlinecolor": "#2a3f5f",
             "gridcolor": "white",
             "linecolor": "white",
             "minorgridcolor": "white",
             "startlinecolor": "#2a3f5f"
            },
            "type": "carpet"
           }
          ],
          "choropleth": [
           {
            "colorbar": {
             "outlinewidth": 0,
             "ticks": ""
            },
            "type": "choropleth"
           }
          ],
          "contour": [
           {
            "colorbar": {
             "outlinewidth": 0,
             "ticks": ""
            },
            "colorscale": [
             [
              0,
              "#0d0887"
             ],
             [
              0.1111111111111111,
              "#46039f"
             ],
             [
              0.2222222222222222,
              "#7201a8"
             ],
             [
              0.3333333333333333,
              "#9c179e"
             ],
             [
              0.4444444444444444,
              "#bd3786"
             ],
             [
              0.5555555555555556,
              "#d8576b"
             ],
             [
              0.6666666666666666,
              "#ed7953"
             ],
             [
              0.7777777777777778,
              "#fb9f3a"
             ],
             [
              0.8888888888888888,
              "#fdca26"
             ],
             [
              1,
              "#f0f921"
             ]
            ],
            "type": "contour"
           }
          ],
          "contourcarpet": [
           {
            "colorbar": {
             "outlinewidth": 0,
             "ticks": ""
            },
            "type": "contourcarpet"
           }
          ],
          "heatmap": [
           {
            "colorbar": {
             "outlinewidth": 0,
             "ticks": ""
            },
            "colorscale": [
             [
              0,
              "#0d0887"
             ],
             [
              0.1111111111111111,
              "#46039f"
             ],
             [
              0.2222222222222222,
              "#7201a8"
             ],
             [
              0.3333333333333333,
              "#9c179e"
             ],
             [
              0.4444444444444444,
              "#bd3786"
             ],
             [
              0.5555555555555556,
              "#d8576b"
             ],
             [
              0.6666666666666666,
              "#ed7953"
             ],
             [
              0.7777777777777778,
              "#fb9f3a"
             ],
             [
              0.8888888888888888,
              "#fdca26"
             ],
             [
              1,
              "#f0f921"
             ]
            ],
            "type": "heatmap"
           }
          ],
          "histogram": [
           {
            "marker": {
             "pattern": {
              "fillmode": "overlay",
              "size": 10,
              "solidity": 0.2
             }
            },
            "type": "histogram"
           }
          ],
          "histogram2d": [
           {
            "colorbar": {
             "outlinewidth": 0,
             "ticks": ""
            },
            "colorscale": [
             [
              0,
              "#0d0887"
             ],
             [
              0.1111111111111111,
              "#46039f"
             ],
             [
              0.2222222222222222,
              "#7201a8"
             ],
             [
              0.3333333333333333,
              "#9c179e"
             ],
             [
              0.4444444444444444,
              "#bd3786"
             ],
             [
              0.5555555555555556,
              "#d8576b"
             ],
             [
              0.6666666666666666,
              "#ed7953"
             ],
             [
              0.7777777777777778,
              "#fb9f3a"
             ],
             [
              0.8888888888888888,
              "#fdca26"
             ],
             [
              1,
              "#f0f921"
             ]
            ],
            "type": "histogram2d"
           }
          ],
          "histogram2dcontour": [
           {
            "colorbar": {
             "outlinewidth": 0,
             "ticks": ""
            },
            "colorscale": [
             [
              0,
              "#0d0887"
             ],
             [
              0.1111111111111111,
              "#46039f"
             ],
             [
              0.2222222222222222,
              "#7201a8"
             ],
             [
              0.3333333333333333,
              "#9c179e"
             ],
             [
              0.4444444444444444,
              "#bd3786"
             ],
             [
              0.5555555555555556,
              "#d8576b"
             ],
             [
              0.6666666666666666,
              "#ed7953"
             ],
             [
              0.7777777777777778,
              "#fb9f3a"
             ],
             [
              0.8888888888888888,
              "#fdca26"
             ],
             [
              1,
              "#f0f921"
             ]
            ],
            "type": "histogram2dcontour"
           }
          ],
          "mesh3d": [
           {
            "colorbar": {
             "outlinewidth": 0,
             "ticks": ""
            },
            "type": "mesh3d"
           }
          ],
          "parcoords": [
           {
            "line": {
             "colorbar": {
              "outlinewidth": 0,
              "ticks": ""
             }
            },
            "type": "parcoords"
           }
          ],
          "pie": [
           {
            "automargin": true,
            "type": "pie"
           }
          ],
          "scatter": [
           {
            "fillpattern": {
             "fillmode": "overlay",
             "size": 10,
             "solidity": 0.2
            },
            "type": "scatter"
           }
          ],
          "scatter3d": [
           {
            "line": {
             "colorbar": {
              "outlinewidth": 0,
              "ticks": ""
             }
            },
            "marker": {
             "colorbar": {
              "outlinewidth": 0,
              "ticks": ""
             }
            },
            "type": "scatter3d"
           }
          ],
          "scattercarpet": [
           {
            "marker": {
             "colorbar": {
              "outlinewidth": 0,
              "ticks": ""
             }
            },
            "type": "scattercarpet"
           }
          ],
          "scattergeo": [
           {
            "marker": {
             "colorbar": {
              "outlinewidth": 0,
              "ticks": ""
             }
            },
            "type": "scattergeo"
           }
          ],
          "scattergl": [
           {
            "marker": {
             "colorbar": {
              "outlinewidth": 0,
              "ticks": ""
             }
            },
            "type": "scattergl"
           }
          ],
          "scattermap": [
           {
            "marker": {
             "colorbar": {
              "outlinewidth": 0,
              "ticks": ""
             }
            },
            "type": "scattermap"
           }
          ],
          "scattermapbox": [
           {
            "marker": {
             "colorbar": {
              "outlinewidth": 0,
              "ticks": ""
             }
            },
            "type": "scattermapbox"
           }
          ],
          "scatterpolar": [
           {
            "marker": {
             "colorbar": {
              "outlinewidth": 0,
              "ticks": ""
             }
            },
            "type": "scatterpolar"
           }
          ],
          "scatterpolargl": [
           {
            "marker": {
             "colorbar": {
              "outlinewidth": 0,
              "ticks": ""
             }
            },
            "type": "scatterpolargl"
           }
          ],
          "scatterternary": [
           {
            "marker": {
             "colorbar": {
              "outlinewidth": 0,
              "ticks": ""
             }
            },
            "type": "scatterternary"
           }
          ],
          "surface": [
           {
            "colorbar": {
             "outlinewidth": 0,
             "ticks": ""
            },
            "colorscale": [
             [
              0,
              "#0d0887"
             ],
             [
              0.1111111111111111,
              "#46039f"
             ],
             [
              0.2222222222222222,
              "#7201a8"
             ],
             [
              0.3333333333333333,
              "#9c179e"
             ],
             [
              0.4444444444444444,
              "#bd3786"
             ],
             [
              0.5555555555555556,
              "#d8576b"
             ],
             [
              0.6666666666666666,
              "#ed7953"
             ],
             [
              0.7777777777777778,
              "#fb9f3a"
             ],
             [
              0.8888888888888888,
              "#fdca26"
             ],
             [
              1,
              "#f0f921"
             ]
            ],
            "type": "surface"
           }
          ],
          "table": [
           {
            "cells": {
             "fill": {
              "color": "#EBF0F8"
             },
             "line": {
              "color": "white"
             }
            },
            "header": {
             "fill": {
              "color": "#C8D4E3"
             },
             "line": {
              "color": "white"
             }
            },
            "type": "table"
           }
          ]
         },
         "layout": {
          "annotationdefaults": {
           "arrowcolor": "#2a3f5f",
           "arrowhead": 0,
           "arrowwidth": 1
          },
          "autotypenumbers": "strict",
          "coloraxis": {
           "colorbar": {
            "outlinewidth": 0,
            "ticks": ""
           }
          },
          "colorscale": {
           "diverging": [
            [
             0,
             "#8e0152"
            ],
            [
             0.1,
             "#c51b7d"
            ],
            [
             0.2,
             "#de77ae"
            ],
            [
             0.3,
             "#f1b6da"
            ],
            [
             0.4,
             "#fde0ef"
            ],
            [
             0.5,
             "#f7f7f7"
            ],
            [
             0.6,
             "#e6f5d0"
            ],
            [
             0.7,
             "#b8e186"
            ],
            [
             0.8,
             "#7fbc41"
            ],
            [
             0.9,
             "#4d9221"
            ],
            [
             1,
             "#276419"
            ]
           ],
           "sequential": [
            [
             0,
             "#0d0887"
            ],
            [
             0.1111111111111111,
             "#46039f"
            ],
            [
             0.2222222222222222,
             "#7201a8"
            ],
            [
             0.3333333333333333,
             "#9c179e"
            ],
            [
             0.4444444444444444,
             "#bd3786"
            ],
            [
             0.5555555555555556,
             "#d8576b"
            ],
            [
             0.6666666666666666,
             "#ed7953"
            ],
            [
             0.7777777777777778,
             "#fb9f3a"
            ],
            [
             0.8888888888888888,
             "#fdca26"
            ],
            [
             1,
             "#f0f921"
            ]
           ],
           "sequentialminus": [
            [
             0,
             "#0d0887"
            ],
            [
             0.1111111111111111,
             "#46039f"
            ],
            [
             0.2222222222222222,
             "#7201a8"
            ],
            [
             0.3333333333333333,
             "#9c179e"
            ],
            [
             0.4444444444444444,
             "#bd3786"
            ],
            [
             0.5555555555555556,
             "#d8576b"
            ],
            [
             0.6666666666666666,
             "#ed7953"
            ],
            [
             0.7777777777777778,
             "#fb9f3a"
            ],
            [
             0.8888888888888888,
             "#fdca26"
            ],
            [
             1,
             "#f0f921"
            ]
           ]
          },
          "colorway": [
           "#636efa",
           "#EF553B",
           "#00cc96",
           "#ab63fa",
           "#FFA15A",
           "#19d3f3",
           "#FF6692",
           "#B6E880",
           "#FF97FF",
           "#FECB52"
          ],
          "font": {
           "color": "#2a3f5f"
          },
          "geo": {
           "bgcolor": "white",
           "lakecolor": "white",
           "landcolor": "#E5ECF6",
           "showlakes": true,
           "showland": true,
           "subunitcolor": "white"
          },
          "hoverlabel": {
           "align": "left"
          },
          "hovermode": "closest",
          "mapbox": {
           "style": "light"
          },
          "paper_bgcolor": "white",
          "plot_bgcolor": "#E5ECF6",
          "polar": {
           "angularaxis": {
            "gridcolor": "white",
            "linecolor": "white",
            "ticks": ""
           },
           "bgcolor": "#E5ECF6",
           "radialaxis": {
            "gridcolor": "white",
            "linecolor": "white",
            "ticks": ""
           }
          },
          "scene": {
           "xaxis": {
            "backgroundcolor": "#E5ECF6",
            "gridcolor": "white",
            "gridwidth": 2,
            "linecolor": "white",
            "showbackground": true,
            "ticks": "",
            "zerolinecolor": "white"
           },
           "yaxis": {
            "backgroundcolor": "#E5ECF6",
            "gridcolor": "white",
            "gridwidth": 2,
            "linecolor": "white",
            "showbackground": true,
            "ticks": "",
            "zerolinecolor": "white"
           },
           "zaxis": {
            "backgroundcolor": "#E5ECF6",
            "gridcolor": "white",
            "gridwidth": 2,
            "linecolor": "white",
            "showbackground": true,
            "ticks": "",
            "zerolinecolor": "white"
           }
          },
          "shapedefaults": {
           "line": {
            "color": "#2a3f5f"
           }
          },
          "ternary": {
           "aaxis": {
            "gridcolor": "white",
            "linecolor": "white",
            "ticks": ""
           },
           "baxis": {
            "gridcolor": "white",
            "linecolor": "white",
            "ticks": ""
           },
           "bgcolor": "#E5ECF6",
           "caxis": {
            "gridcolor": "white",
            "linecolor": "white",
            "ticks": ""
           }
          },
          "title": {
           "x": 0.05
          },
          "xaxis": {
           "automargin": true,
           "gridcolor": "white",
           "linecolor": "white",
           "ticks": "",
           "title": {
            "standoff": 15
           },
           "zerolinecolor": "white",
           "zerolinewidth": 2
          },
          "yaxis": {
           "automargin": true,
           "gridcolor": "white",
           "linecolor": "white",
           "ticks": "",
           "title": {
            "standoff": 15
           },
           "zerolinecolor": "white",
           "zerolinewidth": 2
          }
         }
        },
        "title": {
         "text": "Number of purchases per Item "
        },
        "xaxis": {
         "anchor": "y",
         "categoryarray": [
          "Blouse",
          "Jewelry",
          "Pants",
          "Shirt",
          "Dress",
          "Sweater",
          "Jacket",
          "Belt",
          "Sunglasses",
          "Coat",
          "Sandals",
          "Socks",
          "Skirt",
          "Shorts",
          "Scarf",
          "Hat",
          "Handbag",
          "Hoodie",
          "Shoes",
          "T-shirt",
          "Sneakers",
          "Boots",
          "Backpack",
          "Gloves",
          "Jeans"
         ],
         "categoryorder": "array",
         "domain": [
          0,
          1
         ],
         "title": {
          "text": "Item_Purchased"
         }
        },
        "yaxis": {
         "anchor": "x",
         "domain": [
          0,
          1
         ],
         "title": {
          "text": "sum of Count"
         }
        }
       }
      }
     },
     "metadata": {},
     "output_type": "display_data"
    }
   ],
   "source": [
    "Item_Purchased= df['Item_Purchased'].value_counts().reset_index()\n",
    "Item_Purchased.columns=['Item_Purchased','Count']\n",
    "\n",
    "\n",
    "fig=px.histogram(Item_Purchased,x='Item_Purchased',y='Count',title=\"Number of purchases per Item \",color='Item_Purchased')\n",
    "fig.show()"
   ]
  },
  {
   "cell_type": "code",
   "execution_count": 23,
   "id": "ad0476d5-ddab-43df-b260-95b0cf86af95",
   "metadata": {},
   "outputs": [
    {
     "data": {
      "text/html": [
       "<div>\n",
       "<style scoped>\n",
       "    .dataframe tbody tr th:only-of-type {\n",
       "        vertical-align: middle;\n",
       "    }\n",
       "\n",
       "    .dataframe tbody tr th {\n",
       "        vertical-align: top;\n",
       "    }\n",
       "\n",
       "    .dataframe thead th {\n",
       "        text-align: right;\n",
       "    }\n",
       "</style>\n",
       "<table border=\"1\" class=\"dataframe\">\n",
       "  <thead>\n",
       "    <tr style=\"text-align: right;\">\n",
       "      <th></th>\n",
       "      <th>Customer_ID</th>\n",
       "      <th>Age</th>\n",
       "      <th>Gender</th>\n",
       "      <th>Item_Purchased</th>\n",
       "      <th>Category</th>\n",
       "      <th>Purchase_Amount_USD</th>\n",
       "      <th>Location</th>\n",
       "      <th>Size</th>\n",
       "      <th>Color</th>\n",
       "      <th>Season</th>\n",
       "      <th>Review_Rating</th>\n",
       "      <th>Subscription_Status</th>\n",
       "      <th>Payment_Method</th>\n",
       "      <th>Shipping_Type</th>\n",
       "      <th>Discount_Applied</th>\n",
       "      <th>Promo_Code_Used</th>\n",
       "      <th>Previous_Purchases</th>\n",
       "      <th>Preferred_Payment_Method</th>\n",
       "      <th>Frequency_of_Purchases</th>\n",
       "      <th>avg_sales</th>\n",
       "    </tr>\n",
       "  </thead>\n",
       "  <tbody>\n",
       "    <tr>\n",
       "      <th>0</th>\n",
       "      <td>1</td>\n",
       "      <td>55</td>\n",
       "      <td>Male</td>\n",
       "      <td>Blouse</td>\n",
       "      <td>Clothing</td>\n",
       "      <td>53</td>\n",
       "      <td>Kentucky</td>\n",
       "      <td>L</td>\n",
       "      <td>Gray</td>\n",
       "      <td>Winter</td>\n",
       "      <td>3.1</td>\n",
       "      <td>Yes</td>\n",
       "      <td>Credit Card</td>\n",
       "      <td>Express</td>\n",
       "      <td>Yes</td>\n",
       "      <td>Yes</td>\n",
       "      <td>14</td>\n",
       "      <td>Venmo</td>\n",
       "      <td>Fortnightly</td>\n",
       "      <td>55.721519</td>\n",
       "    </tr>\n",
       "    <tr>\n",
       "      <th>1</th>\n",
       "      <td>2</td>\n",
       "      <td>19</td>\n",
       "      <td>Male</td>\n",
       "      <td>Sweater</td>\n",
       "      <td>Clothing</td>\n",
       "      <td>64</td>\n",
       "      <td>Maine</td>\n",
       "      <td>L</td>\n",
       "      <td>Maroon</td>\n",
       "      <td>Winter</td>\n",
       "      <td>3.1</td>\n",
       "      <td>Yes</td>\n",
       "      <td>Bank Transfer</td>\n",
       "      <td>Express</td>\n",
       "      <td>Yes</td>\n",
       "      <td>Yes</td>\n",
       "      <td>2</td>\n",
       "      <td>Cash</td>\n",
       "      <td>Fortnightly</td>\n",
       "      <td>56.987013</td>\n",
       "    </tr>\n",
       "    <tr>\n",
       "      <th>2</th>\n",
       "      <td>3</td>\n",
       "      <td>50</td>\n",
       "      <td>Male</td>\n",
       "      <td>Jeans</td>\n",
       "      <td>Clothing</td>\n",
       "      <td>73</td>\n",
       "      <td>Massachusetts</td>\n",
       "      <td>S</td>\n",
       "      <td>Maroon</td>\n",
       "      <td>Spring</td>\n",
       "      <td>3.1</td>\n",
       "      <td>Yes</td>\n",
       "      <td>Cash</td>\n",
       "      <td>Free Shipping</td>\n",
       "      <td>Yes</td>\n",
       "      <td>Yes</td>\n",
       "      <td>23</td>\n",
       "      <td>Credit Card</td>\n",
       "      <td>Weekly</td>\n",
       "      <td>60.888889</td>\n",
       "    </tr>\n",
       "    <tr>\n",
       "      <th>3</th>\n",
       "      <td>4</td>\n",
       "      <td>21</td>\n",
       "      <td>Male</td>\n",
       "      <td>Sandals</td>\n",
       "      <td>Footwear</td>\n",
       "      <td>90</td>\n",
       "      <td>Rhode Island</td>\n",
       "      <td>M</td>\n",
       "      <td>Maroon</td>\n",
       "      <td>Spring</td>\n",
       "      <td>3.5</td>\n",
       "      <td>Yes</td>\n",
       "      <td>PayPal</td>\n",
       "      <td>Next Day Air</td>\n",
       "      <td>Yes</td>\n",
       "      <td>Yes</td>\n",
       "      <td>49</td>\n",
       "      <td>PayPal</td>\n",
       "      <td>Weekly</td>\n",
       "      <td>61.444444</td>\n",
       "    </tr>\n",
       "    <tr>\n",
       "      <th>4</th>\n",
       "      <td>5</td>\n",
       "      <td>45</td>\n",
       "      <td>Male</td>\n",
       "      <td>Blouse</td>\n",
       "      <td>Clothing</td>\n",
       "      <td>49</td>\n",
       "      <td>Oregon</td>\n",
       "      <td>M</td>\n",
       "      <td>Turquoise</td>\n",
       "      <td>Spring</td>\n",
       "      <td>2.7</td>\n",
       "      <td>Yes</td>\n",
       "      <td>Cash</td>\n",
       "      <td>Free Shipping</td>\n",
       "      <td>Yes</td>\n",
       "      <td>Yes</td>\n",
       "      <td>31</td>\n",
       "      <td>PayPal</td>\n",
       "      <td>Annually</td>\n",
       "      <td>57.337838</td>\n",
       "    </tr>\n",
       "    <tr>\n",
       "      <th>...</th>\n",
       "      <td>...</td>\n",
       "      <td>...</td>\n",
       "      <td>...</td>\n",
       "      <td>...</td>\n",
       "      <td>...</td>\n",
       "      <td>...</td>\n",
       "      <td>...</td>\n",
       "      <td>...</td>\n",
       "      <td>...</td>\n",
       "      <td>...</td>\n",
       "      <td>...</td>\n",
       "      <td>...</td>\n",
       "      <td>...</td>\n",
       "      <td>...</td>\n",
       "      <td>...</td>\n",
       "      <td>...</td>\n",
       "      <td>...</td>\n",
       "      <td>...</td>\n",
       "      <td>...</td>\n",
       "      <td>...</td>\n",
       "    </tr>\n",
       "    <tr>\n",
       "      <th>3895</th>\n",
       "      <td>3896</td>\n",
       "      <td>40</td>\n",
       "      <td>Female</td>\n",
       "      <td>Hoodie</td>\n",
       "      <td>Clothing</td>\n",
       "      <td>28</td>\n",
       "      <td>Virginia</td>\n",
       "      <td>L</td>\n",
       "      <td>Turquoise</td>\n",
       "      <td>Summer</td>\n",
       "      <td>4.2</td>\n",
       "      <td>No</td>\n",
       "      <td>Cash</td>\n",
       "      <td>2-Day Shipping</td>\n",
       "      <td>No</td>\n",
       "      <td>No</td>\n",
       "      <td>32</td>\n",
       "      <td>Venmo</td>\n",
       "      <td>Weekly</td>\n",
       "      <td>62.883117</td>\n",
       "    </tr>\n",
       "    <tr>\n",
       "      <th>3896</th>\n",
       "      <td>3897</td>\n",
       "      <td>52</td>\n",
       "      <td>Female</td>\n",
       "      <td>Backpack</td>\n",
       "      <td>Accessories</td>\n",
       "      <td>49</td>\n",
       "      <td>Iowa</td>\n",
       "      <td>L</td>\n",
       "      <td>White</td>\n",
       "      <td>Spring</td>\n",
       "      <td>4.5</td>\n",
       "      <td>No</td>\n",
       "      <td>PayPal</td>\n",
       "      <td>Store Pickup</td>\n",
       "      <td>No</td>\n",
       "      <td>No</td>\n",
       "      <td>41</td>\n",
       "      <td>Bank Transfer</td>\n",
       "      <td>Bi-Weekly</td>\n",
       "      <td>60.884058</td>\n",
       "    </tr>\n",
       "    <tr>\n",
       "      <th>3897</th>\n",
       "      <td>3898</td>\n",
       "      <td>46</td>\n",
       "      <td>Female</td>\n",
       "      <td>Belt</td>\n",
       "      <td>Accessories</td>\n",
       "      <td>33</td>\n",
       "      <td>New Jersey</td>\n",
       "      <td>L</td>\n",
       "      <td>Green</td>\n",
       "      <td>Spring</td>\n",
       "      <td>2.9</td>\n",
       "      <td>No</td>\n",
       "      <td>Credit Card</td>\n",
       "      <td>Standard</td>\n",
       "      <td>No</td>\n",
       "      <td>No</td>\n",
       "      <td>24</td>\n",
       "      <td>Venmo</td>\n",
       "      <td>Quarterly</td>\n",
       "      <td>56.746269</td>\n",
       "    </tr>\n",
       "    <tr>\n",
       "      <th>3898</th>\n",
       "      <td>3899</td>\n",
       "      <td>44</td>\n",
       "      <td>Female</td>\n",
       "      <td>Shoes</td>\n",
       "      <td>Footwear</td>\n",
       "      <td>77</td>\n",
       "      <td>Minnesota</td>\n",
       "      <td>S</td>\n",
       "      <td>Brown</td>\n",
       "      <td>Summer</td>\n",
       "      <td>3.8</td>\n",
       "      <td>No</td>\n",
       "      <td>PayPal</td>\n",
       "      <td>Express</td>\n",
       "      <td>No</td>\n",
       "      <td>No</td>\n",
       "      <td>24</td>\n",
       "      <td>Venmo</td>\n",
       "      <td>Weekly</td>\n",
       "      <td>56.556818</td>\n",
       "    </tr>\n",
       "    <tr>\n",
       "      <th>3899</th>\n",
       "      <td>3900</td>\n",
       "      <td>52</td>\n",
       "      <td>Female</td>\n",
       "      <td>Handbag</td>\n",
       "      <td>Accessories</td>\n",
       "      <td>81</td>\n",
       "      <td>California</td>\n",
       "      <td>M</td>\n",
       "      <td>Beige</td>\n",
       "      <td>Spring</td>\n",
       "      <td>3.1</td>\n",
       "      <td>No</td>\n",
       "      <td>Bank Transfer</td>\n",
       "      <td>Store Pickup</td>\n",
       "      <td>No</td>\n",
       "      <td>No</td>\n",
       "      <td>33</td>\n",
       "      <td>Venmo</td>\n",
       "      <td>Quarterly</td>\n",
       "      <td>59.000000</td>\n",
       "    </tr>\n",
       "  </tbody>\n",
       "</table>\n",
       "<p>3900 rows × 20 columns</p>\n",
       "</div>"
      ],
      "text/plain": [
       "      Customer_ID  Age  Gender Item_Purchased     Category  \\\n",
       "0               1   55    Male         Blouse     Clothing   \n",
       "1               2   19    Male        Sweater     Clothing   \n",
       "2               3   50    Male          Jeans     Clothing   \n",
       "3               4   21    Male        Sandals     Footwear   \n",
       "4               5   45    Male         Blouse     Clothing   \n",
       "...           ...  ...     ...            ...          ...   \n",
       "3895         3896   40  Female         Hoodie     Clothing   \n",
       "3896         3897   52  Female       Backpack  Accessories   \n",
       "3897         3898   46  Female           Belt  Accessories   \n",
       "3898         3899   44  Female          Shoes     Footwear   \n",
       "3899         3900   52  Female        Handbag  Accessories   \n",
       "\n",
       "      Purchase_Amount_USD       Location Size      Color  Season  \\\n",
       "0                      53       Kentucky    L       Gray  Winter   \n",
       "1                      64          Maine    L     Maroon  Winter   \n",
       "2                      73  Massachusetts    S     Maroon  Spring   \n",
       "3                      90   Rhode Island    M     Maroon  Spring   \n",
       "4                      49         Oregon    M  Turquoise  Spring   \n",
       "...                   ...            ...  ...        ...     ...   \n",
       "3895                   28       Virginia    L  Turquoise  Summer   \n",
       "3896                   49           Iowa    L      White  Spring   \n",
       "3897                   33     New Jersey    L      Green  Spring   \n",
       "3898                   77      Minnesota    S      Brown  Summer   \n",
       "3899                   81     California    M      Beige  Spring   \n",
       "\n",
       "      Review_Rating Subscription_Status Payment_Method   Shipping_Type  \\\n",
       "0               3.1                 Yes    Credit Card         Express   \n",
       "1               3.1                 Yes  Bank Transfer         Express   \n",
       "2               3.1                 Yes           Cash   Free Shipping   \n",
       "3               3.5                 Yes         PayPal    Next Day Air   \n",
       "4               2.7                 Yes           Cash   Free Shipping   \n",
       "...             ...                 ...            ...             ...   \n",
       "3895            4.2                  No           Cash  2-Day Shipping   \n",
       "3896            4.5                  No         PayPal    Store Pickup   \n",
       "3897            2.9                  No    Credit Card        Standard   \n",
       "3898            3.8                  No         PayPal         Express   \n",
       "3899            3.1                  No  Bank Transfer    Store Pickup   \n",
       "\n",
       "     Discount_Applied Promo_Code_Used  Previous_Purchases  \\\n",
       "0                 Yes             Yes                  14   \n",
       "1                 Yes             Yes                   2   \n",
       "2                 Yes             Yes                  23   \n",
       "3                 Yes             Yes                  49   \n",
       "4                 Yes             Yes                  31   \n",
       "...               ...             ...                 ...   \n",
       "3895               No              No                  32   \n",
       "3896               No              No                  41   \n",
       "3897               No              No                  24   \n",
       "3898               No              No                  24   \n",
       "3899               No              No                  33   \n",
       "\n",
       "     Preferred_Payment_Method Frequency_of_Purchases  avg_sales  \n",
       "0                       Venmo            Fortnightly  55.721519  \n",
       "1                        Cash            Fortnightly  56.987013  \n",
       "2                 Credit Card                 Weekly  60.888889  \n",
       "3                      PayPal                 Weekly  61.444444  \n",
       "4                      PayPal               Annually  57.337838  \n",
       "...                       ...                    ...        ...  \n",
       "3895                    Venmo                 Weekly  62.883117  \n",
       "3896            Bank Transfer              Bi-Weekly  60.884058  \n",
       "3897                    Venmo              Quarterly  56.746269  \n",
       "3898                    Venmo                 Weekly  56.556818  \n",
       "3899                    Venmo              Quarterly  59.000000  \n",
       "\n",
       "[3900 rows x 20 columns]"
      ]
     },
     "execution_count": 23,
     "metadata": {},
     "output_type": "execute_result"
    }
   ],
   "source": [
    "df"
   ]
  },
  {
   "cell_type": "code",
   "execution_count": 24,
   "id": "f77c90e8-fa3a-4016-850a-995d4a4213f7",
   "metadata": {},
   "outputs": [
    {
     "data": {
      "application/vnd.plotly.v1+json": {
       "config": {
        "plotlyServerURL": "https://plot.ly"
       },
       "data": [
        {
         "bingroup": "x",
         "histfunc": "sum",
         "hovertemplate": "Preferred_Payment_Method=%{x}<br>sum of count=%{y}<extra></extra>",
         "legendgroup": "PayPal",
         "marker": {
          "color": "#636efa",
          "pattern": {
           "shape": ""
          }
         },
         "name": "PayPal",
         "orientation": "v",
         "showlegend": true,
         "type": "histogram",
         "x": [
          "PayPal"
         ],
         "xaxis": "x",
         "y": {
          "bdata": "pQI=",
          "dtype": "i2"
         },
         "yaxis": "y"
        },
        {
         "bingroup": "x",
         "histfunc": "sum",
         "hovertemplate": "Preferred_Payment_Method=%{x}<br>sum of count=%{y}<extra></extra>",
         "legendgroup": "Credit Card",
         "marker": {
          "color": "#EF553B",
          "pattern": {
           "shape": ""
          }
         },
         "name": "Credit Card",
         "orientation": "v",
         "showlegend": true,
         "type": "histogram",
         "x": [
          "Credit Card"
         ],
         "xaxis": "x",
         "y": {
          "bdata": "nwI=",
          "dtype": "i2"
         },
         "yaxis": "y"
        },
        {
         "bingroup": "x",
         "histfunc": "sum",
         "hovertemplate": "Preferred_Payment_Method=%{x}<br>sum of count=%{y}<extra></extra>",
         "legendgroup": "Cash",
         "marker": {
          "color": "#00cc96",
          "pattern": {
           "shape": ""
          }
         },
         "name": "Cash",
         "orientation": "v",
         "showlegend": true,
         "type": "histogram",
         "x": [
          "Cash"
         ],
         "xaxis": "x",
         "y": {
          "bdata": "ngI=",
          "dtype": "i2"
         },
         "yaxis": "y"
        },
        {
         "bingroup": "x",
         "histfunc": "sum",
         "hovertemplate": "Preferred_Payment_Method=%{x}<br>sum of count=%{y}<extra></extra>",
         "legendgroup": "Debit Card",
         "marker": {
          "color": "#ab63fa",
          "pattern": {
           "shape": ""
          }
         },
         "name": "Debit Card",
         "orientation": "v",
         "showlegend": true,
         "type": "histogram",
         "x": [
          "Debit Card"
         ],
         "xaxis": "x",
         "y": {
          "bdata": "fAI=",
          "dtype": "i2"
         },
         "yaxis": "y"
        },
        {
         "bingroup": "x",
         "histfunc": "sum",
         "hovertemplate": "Preferred_Payment_Method=%{x}<br>sum of count=%{y}<extra></extra>",
         "legendgroup": "Venmo",
         "marker": {
          "color": "#FFA15A",
          "pattern": {
           "shape": ""
          }
         },
         "name": "Venmo",
         "orientation": "v",
         "showlegend": true,
         "type": "histogram",
         "x": [
          "Venmo"
         ],
         "xaxis": "x",
         "y": {
          "bdata": "egI=",
          "dtype": "i2"
         },
         "yaxis": "y"
        },
        {
         "bingroup": "x",
         "histfunc": "sum",
         "hovertemplate": "Preferred_Payment_Method=%{x}<br>sum of count=%{y}<extra></extra>",
         "legendgroup": "Bank Transfer",
         "marker": {
          "color": "#19d3f3",
          "pattern": {
           "shape": ""
          }
         },
         "name": "Bank Transfer",
         "orientation": "v",
         "showlegend": true,
         "type": "histogram",
         "x": [
          "Bank Transfer"
         ],
         "xaxis": "x",
         "y": {
          "bdata": "ZAI=",
          "dtype": "i2"
         },
         "yaxis": "y"
        }
       ],
       "layout": {
        "barmode": "relative",
        "legend": {
         "title": {
          "text": "Preferred_Payment_Method"
         },
         "tracegroupgap": 0
        },
        "template": {
         "data": {
          "bar": [
           {
            "error_x": {
             "color": "#2a3f5f"
            },
            "error_y": {
             "color": "#2a3f5f"
            },
            "marker": {
             "line": {
              "color": "#E5ECF6",
              "width": 0.5
             },
             "pattern": {
              "fillmode": "overlay",
              "size": 10,
              "solidity": 0.2
             }
            },
            "type": "bar"
           }
          ],
          "barpolar": [
           {
            "marker": {
             "line": {
              "color": "#E5ECF6",
              "width": 0.5
             },
             "pattern": {
              "fillmode": "overlay",
              "size": 10,
              "solidity": 0.2
             }
            },
            "type": "barpolar"
           }
          ],
          "carpet": [
           {
            "aaxis": {
             "endlinecolor": "#2a3f5f",
             "gridcolor": "white",
             "linecolor": "white",
             "minorgridcolor": "white",
             "startlinecolor": "#2a3f5f"
            },
            "baxis": {
             "endlinecolor": "#2a3f5f",
             "gridcolor": "white",
             "linecolor": "white",
             "minorgridcolor": "white",
             "startlinecolor": "#2a3f5f"
            },
            "type": "carpet"
           }
          ],
          "choropleth": [
           {
            "colorbar": {
             "outlinewidth": 0,
             "ticks": ""
            },
            "type": "choropleth"
           }
          ],
          "contour": [
           {
            "colorbar": {
             "outlinewidth": 0,
             "ticks": ""
            },
            "colorscale": [
             [
              0,
              "#0d0887"
             ],
             [
              0.1111111111111111,
              "#46039f"
             ],
             [
              0.2222222222222222,
              "#7201a8"
             ],
             [
              0.3333333333333333,
              "#9c179e"
             ],
             [
              0.4444444444444444,
              "#bd3786"
             ],
             [
              0.5555555555555556,
              "#d8576b"
             ],
             [
              0.6666666666666666,
              "#ed7953"
             ],
             [
              0.7777777777777778,
              "#fb9f3a"
             ],
             [
              0.8888888888888888,
              "#fdca26"
             ],
             [
              1,
              "#f0f921"
             ]
            ],
            "type": "contour"
           }
          ],
          "contourcarpet": [
           {
            "colorbar": {
             "outlinewidth": 0,
             "ticks": ""
            },
            "type": "contourcarpet"
           }
          ],
          "heatmap": [
           {
            "colorbar": {
             "outlinewidth": 0,
             "ticks": ""
            },
            "colorscale": [
             [
              0,
              "#0d0887"
             ],
             [
              0.1111111111111111,
              "#46039f"
             ],
             [
              0.2222222222222222,
              "#7201a8"
             ],
             [
              0.3333333333333333,
              "#9c179e"
             ],
             [
              0.4444444444444444,
              "#bd3786"
             ],
             [
              0.5555555555555556,
              "#d8576b"
             ],
             [
              0.6666666666666666,
              "#ed7953"
             ],
             [
              0.7777777777777778,
              "#fb9f3a"
             ],
             [
              0.8888888888888888,
              "#fdca26"
             ],
             [
              1,
              "#f0f921"
             ]
            ],
            "type": "heatmap"
           }
          ],
          "histogram": [
           {
            "marker": {
             "pattern": {
              "fillmode": "overlay",
              "size": 10,
              "solidity": 0.2
             }
            },
            "type": "histogram"
           }
          ],
          "histogram2d": [
           {
            "colorbar": {
             "outlinewidth": 0,
             "ticks": ""
            },
            "colorscale": [
             [
              0,
              "#0d0887"
             ],
             [
              0.1111111111111111,
              "#46039f"
             ],
             [
              0.2222222222222222,
              "#7201a8"
             ],
             [
              0.3333333333333333,
              "#9c179e"
             ],
             [
              0.4444444444444444,
              "#bd3786"
             ],
             [
              0.5555555555555556,
              "#d8576b"
             ],
             [
              0.6666666666666666,
              "#ed7953"
             ],
             [
              0.7777777777777778,
              "#fb9f3a"
             ],
             [
              0.8888888888888888,
              "#fdca26"
             ],
             [
              1,
              "#f0f921"
             ]
            ],
            "type": "histogram2d"
           }
          ],
          "histogram2dcontour": [
           {
            "colorbar": {
             "outlinewidth": 0,
             "ticks": ""
            },
            "colorscale": [
             [
              0,
              "#0d0887"
             ],
             [
              0.1111111111111111,
              "#46039f"
             ],
             [
              0.2222222222222222,
              "#7201a8"
             ],
             [
              0.3333333333333333,
              "#9c179e"
             ],
             [
              0.4444444444444444,
              "#bd3786"
             ],
             [
              0.5555555555555556,
              "#d8576b"
             ],
             [
              0.6666666666666666,
              "#ed7953"
             ],
             [
              0.7777777777777778,
              "#fb9f3a"
             ],
             [
              0.8888888888888888,
              "#fdca26"
             ],
             [
              1,
              "#f0f921"
             ]
            ],
            "type": "histogram2dcontour"
           }
          ],
          "mesh3d": [
           {
            "colorbar": {
             "outlinewidth": 0,
             "ticks": ""
            },
            "type": "mesh3d"
           }
          ],
          "parcoords": [
           {
            "line": {
             "colorbar": {
              "outlinewidth": 0,
              "ticks": ""
             }
            },
            "type": "parcoords"
           }
          ],
          "pie": [
           {
            "automargin": true,
            "type": "pie"
           }
          ],
          "scatter": [
           {
            "fillpattern": {
             "fillmode": "overlay",
             "size": 10,
             "solidity": 0.2
            },
            "type": "scatter"
           }
          ],
          "scatter3d": [
           {
            "line": {
             "colorbar": {
              "outlinewidth": 0,
              "ticks": ""
             }
            },
            "marker": {
             "colorbar": {
              "outlinewidth": 0,
              "ticks": ""
             }
            },
            "type": "scatter3d"
           }
          ],
          "scattercarpet": [
           {
            "marker": {
             "colorbar": {
              "outlinewidth": 0,
              "ticks": ""
             }
            },
            "type": "scattercarpet"
           }
          ],
          "scattergeo": [
           {
            "marker": {
             "colorbar": {
              "outlinewidth": 0,
              "ticks": ""
             }
            },
            "type": "scattergeo"
           }
          ],
          "scattergl": [
           {
            "marker": {
             "colorbar": {
              "outlinewidth": 0,
              "ticks": ""
             }
            },
            "type": "scattergl"
           }
          ],
          "scattermap": [
           {
            "marker": {
             "colorbar": {
              "outlinewidth": 0,
              "ticks": ""
             }
            },
            "type": "scattermap"
           }
          ],
          "scattermapbox": [
           {
            "marker": {
             "colorbar": {
              "outlinewidth": 0,
              "ticks": ""
             }
            },
            "type": "scattermapbox"
           }
          ],
          "scatterpolar": [
           {
            "marker": {
             "colorbar": {
              "outlinewidth": 0,
              "ticks": ""
             }
            },
            "type": "scatterpolar"
           }
          ],
          "scatterpolargl": [
           {
            "marker": {
             "colorbar": {
              "outlinewidth": 0,
              "ticks": ""
             }
            },
            "type": "scatterpolargl"
           }
          ],
          "scatterternary": [
           {
            "marker": {
             "colorbar": {
              "outlinewidth": 0,
              "ticks": ""
             }
            },
            "type": "scatterternary"
           }
          ],
          "surface": [
           {
            "colorbar": {
             "outlinewidth": 0,
             "ticks": ""
            },
            "colorscale": [
             [
              0,
              "#0d0887"
             ],
             [
              0.1111111111111111,
              "#46039f"
             ],
             [
              0.2222222222222222,
              "#7201a8"
             ],
             [
              0.3333333333333333,
              "#9c179e"
             ],
             [
              0.4444444444444444,
              "#bd3786"
             ],
             [
              0.5555555555555556,
              "#d8576b"
             ],
             [
              0.6666666666666666,
              "#ed7953"
             ],
             [
              0.7777777777777778,
              "#fb9f3a"
             ],
             [
              0.8888888888888888,
              "#fdca26"
             ],
             [
              1,
              "#f0f921"
             ]
            ],
            "type": "surface"
           }
          ],
          "table": [
           {
            "cells": {
             "fill": {
              "color": "#EBF0F8"
             },
             "line": {
              "color": "white"
             }
            },
            "header": {
             "fill": {
              "color": "#C8D4E3"
             },
             "line": {
              "color": "white"
             }
            },
            "type": "table"
           }
          ]
         },
         "layout": {
          "annotationdefaults": {
           "arrowcolor": "#2a3f5f",
           "arrowhead": 0,
           "arrowwidth": 1
          },
          "autotypenumbers": "strict",
          "coloraxis": {
           "colorbar": {
            "outlinewidth": 0,
            "ticks": ""
           }
          },
          "colorscale": {
           "diverging": [
            [
             0,
             "#8e0152"
            ],
            [
             0.1,
             "#c51b7d"
            ],
            [
             0.2,
             "#de77ae"
            ],
            [
             0.3,
             "#f1b6da"
            ],
            [
             0.4,
             "#fde0ef"
            ],
            [
             0.5,
             "#f7f7f7"
            ],
            [
             0.6,
             "#e6f5d0"
            ],
            [
             0.7,
             "#b8e186"
            ],
            [
             0.8,
             "#7fbc41"
            ],
            [
             0.9,
             "#4d9221"
            ],
            [
             1,
             "#276419"
            ]
           ],
           "sequential": [
            [
             0,
             "#0d0887"
            ],
            [
             0.1111111111111111,
             "#46039f"
            ],
            [
             0.2222222222222222,
             "#7201a8"
            ],
            [
             0.3333333333333333,
             "#9c179e"
            ],
            [
             0.4444444444444444,
             "#bd3786"
            ],
            [
             0.5555555555555556,
             "#d8576b"
            ],
            [
             0.6666666666666666,
             "#ed7953"
            ],
            [
             0.7777777777777778,
             "#fb9f3a"
            ],
            [
             0.8888888888888888,
             "#fdca26"
            ],
            [
             1,
             "#f0f921"
            ]
           ],
           "sequentialminus": [
            [
             0,
             "#0d0887"
            ],
            [
             0.1111111111111111,
             "#46039f"
            ],
            [
             0.2222222222222222,
             "#7201a8"
            ],
            [
             0.3333333333333333,
             "#9c179e"
            ],
            [
             0.4444444444444444,
             "#bd3786"
            ],
            [
             0.5555555555555556,
             "#d8576b"
            ],
            [
             0.6666666666666666,
             "#ed7953"
            ],
            [
             0.7777777777777778,
             "#fb9f3a"
            ],
            [
             0.8888888888888888,
             "#fdca26"
            ],
            [
             1,
             "#f0f921"
            ]
           ]
          },
          "colorway": [
           "#636efa",
           "#EF553B",
           "#00cc96",
           "#ab63fa",
           "#FFA15A",
           "#19d3f3",
           "#FF6692",
           "#B6E880",
           "#FF97FF",
           "#FECB52"
          ],
          "font": {
           "color": "#2a3f5f"
          },
          "geo": {
           "bgcolor": "white",
           "lakecolor": "white",
           "landcolor": "#E5ECF6",
           "showlakes": true,
           "showland": true,
           "subunitcolor": "white"
          },
          "hoverlabel": {
           "align": "left"
          },
          "hovermode": "closest",
          "mapbox": {
           "style": "light"
          },
          "paper_bgcolor": "white",
          "plot_bgcolor": "#E5ECF6",
          "polar": {
           "angularaxis": {
            "gridcolor": "white",
            "linecolor": "white",
            "ticks": ""
           },
           "bgcolor": "#E5ECF6",
           "radialaxis": {
            "gridcolor": "white",
            "linecolor": "white",
            "ticks": ""
           }
          },
          "scene": {
           "xaxis": {
            "backgroundcolor": "#E5ECF6",
            "gridcolor": "white",
            "gridwidth": 2,
            "linecolor": "white",
            "showbackground": true,
            "ticks": "",
            "zerolinecolor": "white"
           },
           "yaxis": {
            "backgroundcolor": "#E5ECF6",
            "gridcolor": "white",
            "gridwidth": 2,
            "linecolor": "white",
            "showbackground": true,
            "ticks": "",
            "zerolinecolor": "white"
           },
           "zaxis": {
            "backgroundcolor": "#E5ECF6",
            "gridcolor": "white",
            "gridwidth": 2,
            "linecolor": "white",
            "showbackground": true,
            "ticks": "",
            "zerolinecolor": "white"
           }
          },
          "shapedefaults": {
           "line": {
            "color": "#2a3f5f"
           }
          },
          "ternary": {
           "aaxis": {
            "gridcolor": "white",
            "linecolor": "white",
            "ticks": ""
           },
           "baxis": {
            "gridcolor": "white",
            "linecolor": "white",
            "ticks": ""
           },
           "bgcolor": "#E5ECF6",
           "caxis": {
            "gridcolor": "white",
            "linecolor": "white",
            "ticks": ""
           }
          },
          "title": {
           "x": 0.05
          },
          "xaxis": {
           "automargin": true,
           "gridcolor": "white",
           "linecolor": "white",
           "ticks": "",
           "title": {
            "standoff": 15
           },
           "zerolinecolor": "white",
           "zerolinewidth": 2
          },
          "yaxis": {
           "automargin": true,
           "gridcolor": "white",
           "linecolor": "white",
           "ticks": "",
           "title": {
            "standoff": 15
           },
           "zerolinecolor": "white",
           "zerolinewidth": 2
          }
         }
        },
        "title": {
         "text": "Prefrerred Payment Method"
        },
        "xaxis": {
         "anchor": "y",
         "categoryarray": [
          "PayPal",
          "Credit Card",
          "Cash",
          "Debit Card",
          "Venmo",
          "Bank Transfer"
         ],
         "categoryorder": "array",
         "domain": [
          0,
          1
         ],
         "title": {
          "text": "Preferred_Payment_Method"
         }
        },
        "yaxis": {
         "anchor": "x",
         "domain": [
          0,
          1
         ],
         "title": {
          "text": "sum of count"
         }
        }
       }
      }
     },
     "metadata": {},
     "output_type": "display_data"
    }
   ],
   "source": [
    "Preferred_Payment_Method=df['Preferred_Payment_Method'].value_counts().reset_index()\n",
    "Preferred_Payment_Method.columns=['Preferred_Payment_Method','count']\n",
    "fig=px.histogram(Preferred_Payment_Method,x='Preferred_Payment_Method',y='count',title='Prefrerred Payment Method',color='Preferred_Payment_Method')\n",
    "fig.show()"
   ]
  },
  {
   "cell_type": "code",
   "execution_count": 25,
   "id": "83c9dc78-8d91-433e-b063-2f7f63d5c1e0",
   "metadata": {},
   "outputs": [
    {
     "data": {
      "text/plain": [
       "<matplotlib.legend.Legend at 0x21524235ee0>"
      ]
     },
     "execution_count": 25,
     "metadata": {},
     "output_type": "execute_result"
    },
    {
     "data": {
      "image/png": "[encoded data removed]",
      "text/plain": [
       "<Figure size 2000x500 with 1 Axes>"
      ]
     },
     "metadata": {},
     "output_type": "display_data"
    }
   ],
   "source": [
    "plt.figure(figsize=(20,5))\n",
    "Preferred_Payment_Method=df['Preferred_Payment_Method'].value_counts('Preferred_Payment_Method')\n",
    "Preferred_Payment_Method.plot(kind='pie',colors=colors,autopct='%.1f%%',fontsize=12)\n",
    "plt.xlabel('Prefrerred Payment Method',weight='bold',color='#646464',fontsize=13,labelpad=20)\n",
    "plt.axis('equal')\n",
    "plt.legend(labels=counts.index,loc='best')"
   ]
  },
  {
   "cell_type": "code",
   "execution_count": 26,
   "id": "90085675-82b5-4923-b050-d8fe66ecc521",
   "metadata": {},
   "outputs": [
    {
     "data": {
      "text/plain": [
       "Index(['Customer_ID', 'Age', 'Gender', 'Item_Purchased', 'Category',\n",
       "       'Purchase_Amount_USD', 'Location', 'Size', 'Color', 'Season',\n",
       "       'Review_Rating', 'Subscription_Status', 'Payment_Method',\n",
       "       'Shipping_Type', 'Discount_Applied', 'Promo_Code_Used',\n",
       "       'Previous_Purchases', 'Preferred_Payment_Method',\n",
       "       'Frequency_of_Purchases', 'avg_sales'],\n",
       "      dtype='object')"
      ]
     },
     "execution_count": 26,
     "metadata": {},
     "output_type": "execute_result"
    }
   ],
   "source": [
    "df.columns"
   ]
  },
  {
   "cell_type": "markdown",
   "id": "ef831e18-25c5-468f-9a16-13dae22aaaee",
   "metadata": {},
   "source": [
    " ## What is Average Age of Customers?"
   ]
  },
  {
   "cell_type": "code",
   "execution_count": 27,
   "id": "9d4d6973-6bc4-4371-a992-91fc426398d5",
   "metadata": {},
   "outputs": [
    {
     "name": "stdout",
     "output_type": "stream",
     "text": [
      "The Average Age of Customers is : 44.06846153846154\n"
     ]
    }
   ],
   "source": [
    "Average_Age=df['Age'].mean()\n",
    "print(f'The Average Age of Customers is : {Average_Age}')\n"
   ]
  },
  {
   "cell_type": "markdown",
   "id": "a7ac5898-cbef-45ca-b801-9f812f0ffeca",
   "metadata": {},
   "source": [
    "## What is common item purchased ?"
   ]
  },
  {
   "cell_type": "code",
   "execution_count": 28,
   "id": "7199ce50-fd1d-444c-802d-b280d231ade3",
   "metadata": {},
   "outputs": [
    {
     "name": "stdout",
     "output_type": "stream",
     "text": [
      "The most common Item Purched is : Blouse\n"
     ]
    }
   ],
   "source": [
    "common_item=df['Item_Purchased'].mode()[0]\n",
    "print(f'The most common Item Purched is : {common_item}')"
   ]
  },
  {
   "cell_type": "markdown",
   "id": "5d68e1b1-e450-4f6e-aa8d-f7c0b6546691",
   "metadata": {},
   "source": [
    "## What is Common Categories purchased?"
   ]
  },
  {
   "cell_type": "code",
   "execution_count": 29,
   "id": "06586258-b93c-4a15-a7e1-872eaddd8f0c",
   "metadata": {},
   "outputs": [
    {
     "name": "stdout",
     "output_type": "stream",
     "text": [
      "Common Categories purchased is :\n",
      "Category\n",
      "Accessories    1240\n",
      "Clothing       1737\n",
      "Footwear        599\n",
      "Outerwear       324\n",
      "Name: Item_Purchased, dtype: int64\n",
      "--------------------------------------------------\n",
      "Most Category is : \n",
      "Clothing\n"
     ]
    }
   ],
   "source": [
    "common_category=df.groupby('Category')['Item_Purchased'].count()\n",
    "print('Common Categories purchased is :')\n",
    "print(common_category)\n",
    "print('-'*50)\n",
    "most_category=common_category.idxmax()\n",
    "print('Most Category is : ')\n",
    "print(most_category)"
   ]
  },
  {
   "cell_type": "markdown",
   "id": "a94b11f8-6923-42e2-adfb-001dca555d2a",
   "metadata": {},
   "source": []
  },
  {
   "cell_type": "code",
   "execution_count": 45,
   "id": "f43e6a11",
   "metadata": {},
   "outputs": [
    {
     "data": {
      "text/html": [
       "<div>\n",
       "<style scoped>\n",
       "    .dataframe tbody tr th:only-of-type {\n",
       "        vertical-align: middle;\n",
       "    }\n",
       "\n",
       "    .dataframe tbody tr th {\n",
       "        vertical-align: top;\n",
       "    }\n",
       "\n",
       "    .dataframe thead th {\n",
       "        text-align: right;\n",
       "    }\n",
       "</style>\n",
       "<table border=\"1\" class=\"dataframe\">\n",
       "  <thead>\n",
       "    <tr style=\"text-align: right;\">\n",
       "      <th></th>\n",
       "      <th>Customer_ID</th>\n",
       "      <th>Age</th>\n",
       "      <th>Gender</th>\n",
       "      <th>Item_Purchased</th>\n",
       "      <th>Category</th>\n",
       "      <th>Purchase_Amount_USD</th>\n",
       "      <th>Location</th>\n",
       "      <th>Size</th>\n",
       "      <th>Color</th>\n",
       "      <th>Season</th>\n",
       "      <th>Review_Rating</th>\n",
       "      <th>Subscription_Status</th>\n",
       "      <th>Payment_Method</th>\n",
       "      <th>Shipping_Type</th>\n",
       "      <th>Discount_Applied</th>\n",
       "      <th>Promo_Code_Used</th>\n",
       "      <th>Previous_Purchases</th>\n",
       "      <th>Preferred_Payment_Method</th>\n",
       "      <th>Frequency_of_Purchases</th>\n",
       "      <th>avg_sales</th>\n",
       "    </tr>\n",
       "  </thead>\n",
       "  <tbody>\n",
       "    <tr>\n",
       "      <th>0</th>\n",
       "      <td>1</td>\n",
       "      <td>55</td>\n",
       "      <td>Male</td>\n",
       "      <td>Blouse</td>\n",
       "      <td>Clothing</td>\n",
       "      <td>53</td>\n",
       "      <td>Kentucky</td>\n",
       "      <td>L</td>\n",
       "      <td>Gray</td>\n",
       "      <td>Winter</td>\n",
       "      <td>3.1</td>\n",
       "      <td>Yes</td>\n",
       "      <td>Credit Card</td>\n",
       "      <td>Express</td>\n",
       "      <td>Yes</td>\n",
       "      <td>Yes</td>\n",
       "      <td>14</td>\n",
       "      <td>Venmo</td>\n",
       "      <td>Fortnightly</td>\n",
       "      <td>55.721519</td>\n",
       "    </tr>\n",
       "    <tr>\n",
       "      <th>1</th>\n",
       "      <td>2</td>\n",
       "      <td>19</td>\n",
       "      <td>Male</td>\n",
       "      <td>Sweater</td>\n",
       "      <td>Clothing</td>\n",
       "      <td>64</td>\n",
       "      <td>Maine</td>\n",
       "      <td>L</td>\n",
       "      <td>Maroon</td>\n",
       "      <td>Winter</td>\n",
       "      <td>3.1</td>\n",
       "      <td>Yes</td>\n",
       "      <td>Bank Transfer</td>\n",
       "      <td>Express</td>\n",
       "      <td>Yes</td>\n",
       "      <td>Yes</td>\n",
       "      <td>2</td>\n",
       "      <td>Cash</td>\n",
       "      <td>Fortnightly</td>\n",
       "      <td>56.987013</td>\n",
       "    </tr>\n",
       "    <tr>\n",
       "      <th>2</th>\n",
       "      <td>3</td>\n",
       "      <td>50</td>\n",
       "      <td>Male</td>\n",
       "      <td>Jeans</td>\n",
       "      <td>Clothing</td>\n",
       "      <td>73</td>\n",
       "      <td>Massachusetts</td>\n",
       "      <td>S</td>\n",
       "      <td>Maroon</td>\n",
       "      <td>Spring</td>\n",
       "      <td>3.1</td>\n",
       "      <td>Yes</td>\n",
       "      <td>Cash</td>\n",
       "      <td>Free Shipping</td>\n",
       "      <td>Yes</td>\n",
       "      <td>Yes</td>\n",
       "      <td>23</td>\n",
       "      <td>Credit Card</td>\n",
       "      <td>Weekly</td>\n",
       "      <td>60.888889</td>\n",
       "    </tr>\n",
       "    <tr>\n",
       "      <th>3</th>\n",
       "      <td>4</td>\n",
       "      <td>21</td>\n",
       "      <td>Male</td>\n",
       "      <td>Sandals</td>\n",
       "      <td>Footwear</td>\n",
       "      <td>90</td>\n",
       "      <td>Rhode Island</td>\n",
       "      <td>M</td>\n",
       "      <td>Maroon</td>\n",
       "      <td>Spring</td>\n",
       "      <td>3.5</td>\n",
       "      <td>Yes</td>\n",
       "      <td>PayPal</td>\n",
       "      <td>Next Day Air</td>\n",
       "      <td>Yes</td>\n",
       "      <td>Yes</td>\n",
       "      <td>49</td>\n",
       "      <td>PayPal</td>\n",
       "      <td>Weekly</td>\n",
       "      <td>61.444444</td>\n",
       "    </tr>\n",
       "    <tr>\n",
       "      <th>4</th>\n",
       "      <td>5</td>\n",
       "      <td>45</td>\n",
       "      <td>Male</td>\n",
       "      <td>Blouse</td>\n",
       "      <td>Clothing</td>\n",
       "      <td>49</td>\n",
       "      <td>Oregon</td>\n",
       "      <td>M</td>\n",
       "      <td>Turquoise</td>\n",
       "      <td>Spring</td>\n",
       "      <td>2.7</td>\n",
       "      <td>Yes</td>\n",
       "      <td>Cash</td>\n",
       "      <td>Free Shipping</td>\n",
       "      <td>Yes</td>\n",
       "      <td>Yes</td>\n",
       "      <td>31</td>\n",
       "      <td>PayPal</td>\n",
       "      <td>Annually</td>\n",
       "      <td>57.337838</td>\n",
       "    </tr>\n",
       "    <tr>\n",
       "      <th>...</th>\n",
       "      <td>...</td>\n",
       "      <td>...</td>\n",
       "      <td>...</td>\n",
       "      <td>...</td>\n",
       "      <td>...</td>\n",
       "      <td>...</td>\n",
       "      <td>...</td>\n",
       "      <td>...</td>\n",
       "      <td>...</td>\n",
       "      <td>...</td>\n",
       "      <td>...</td>\n",
       "      <td>...</td>\n",
       "      <td>...</td>\n",
       "      <td>...</td>\n",
       "      <td>...</td>\n",
       "      <td>...</td>\n",
       "      <td>...</td>\n",
       "      <td>...</td>\n",
       "      <td>...</td>\n",
       "      <td>...</td>\n",
       "    </tr>\n",
       "    <tr>\n",
       "      <th>3895</th>\n",
       "      <td>3896</td>\n",
       "      <td>40</td>\n",
       "      <td>Female</td>\n",
       "      <td>Hoodie</td>\n",
       "      <td>Clothing</td>\n",
       "      <td>28</td>\n",
       "      <td>Virginia</td>\n",
       "      <td>L</td>\n",
       "      <td>Turquoise</td>\n",
       "      <td>Summer</td>\n",
       "      <td>4.2</td>\n",
       "      <td>No</td>\n",
       "      <td>Cash</td>\n",
       "      <td>2-Day Shipping</td>\n",
       "      <td>No</td>\n",
       "      <td>No</td>\n",
       "      <td>32</td>\n",
       "      <td>Venmo</td>\n",
       "      <td>Weekly</td>\n",
       "      <td>62.883117</td>\n",
       "    </tr>\n",
       "    <tr>\n",
       "      <th>3896</th>\n",
       "      <td>3897</td>\n",
       "      <td>52</td>\n",
       "      <td>Female</td>\n",
       "      <td>Backpack</td>\n",
       "      <td>Accessories</td>\n",
       "      <td>49</td>\n",
       "      <td>Iowa</td>\n",
       "      <td>L</td>\n",
       "      <td>White</td>\n",
       "      <td>Spring</td>\n",
       "      <td>4.5</td>\n",
       "      <td>No</td>\n",
       "      <td>PayPal</td>\n",
       "      <td>Store Pickup</td>\n",
       "      <td>No</td>\n",
       "      <td>No</td>\n",
       "      <td>41</td>\n",
       "      <td>Bank Transfer</td>\n",
       "      <td>Bi-Weekly</td>\n",
       "      <td>60.884058</td>\n",
       "    </tr>\n",
       "    <tr>\n",
       "      <th>3897</th>\n",
       "      <td>3898</td>\n",
       "      <td>46</td>\n",
       "      <td>Female</td>\n",
       "      <td>Belt</td>\n",
       "      <td>Accessories</td>\n",
       "      <td>33</td>\n",
       "      <td>New Jersey</td>\n",
       "      <td>L</td>\n",
       "      <td>Green</td>\n",
       "      <td>Spring</td>\n",
       "      <td>2.9</td>\n",
       "      <td>No</td>\n",
       "      <td>Credit Card</td>\n",
       "      <td>Standard</td>\n",
       "      <td>No</td>\n",
       "      <td>No</td>\n",
       "      <td>24</td>\n",
       "      <td>Venmo</td>\n",
       "      <td>Quarterly</td>\n",
       "      <td>56.746269</td>\n",
       "    </tr>\n",
       "    <tr>\n",
       "      <th>3898</th>\n",
       "      <td>3899</td>\n",
       "      <td>44</td>\n",
       "      <td>Female</td>\n",
       "      <td>Shoes</td>\n",
       "      <td>Footwear</td>\n",
       "      <td>77</td>\n",
       "      <td>Minnesota</td>\n",
       "      <td>S</td>\n",
       "      <td>Brown</td>\n",
       "      <td>Summer</td>\n",
       "      <td>3.8</td>\n",
       "      <td>No</td>\n",
       "      <td>PayPal</td>\n",
       "      <td>Express</td>\n",
       "      <td>No</td>\n",
       "      <td>No</td>\n",
       "      <td>24</td>\n",
       "      <td>Venmo</td>\n",
       "      <td>Weekly</td>\n",
       "      <td>56.556818</td>\n",
       "    </tr>\n",
       "    <tr>\n",
       "      <th>3899</th>\n",
       "      <td>3900</td>\n",
       "      <td>52</td>\n",
       "      <td>Female</td>\n",
       "      <td>Handbag</td>\n",
       "      <td>Accessories</td>\n",
       "      <td>81</td>\n",
       "      <td>California</td>\n",
       "      <td>M</td>\n",
       "      <td>Beige</td>\n",
       "      <td>Spring</td>\n",
       "      <td>3.1</td>\n",
       "      <td>No</td>\n",
       "      <td>Bank Transfer</td>\n",
       "      <td>Store Pickup</td>\n",
       "      <td>No</td>\n",
       "      <td>No</td>\n",
       "      <td>33</td>\n",
       "      <td>Venmo</td>\n",
       "      <td>Quarterly</td>\n",
       "      <td>59.000000</td>\n",
       "    </tr>\n",
       "  </tbody>\n",
       "</table>\n",
       "<p>3900 rows × 20 columns</p>\n",
       "</div>"
      ],
      "text/plain": [
       "      Customer_ID  Age  Gender Item_Purchased     Category  \\\n",
       "0               1   55    Male         Blouse     Clothing   \n",
       "1               2   19    Male        Sweater     Clothing   \n",
       "2               3   50    Male          Jeans     Clothing   \n",
       "3               4   21    Male        Sandals     Footwear   \n",
       "4               5   45    Male         Blouse     Clothing   \n",
       "...           ...  ...     ...            ...          ...   \n",
       "3895         3896   40  Female         Hoodie     Clothing   \n",
       "3896         3897   52  Female       Backpack  Accessories   \n",
       "3897         3898   46  Female           Belt  Accessories   \n",
       "3898         3899   44  Female          Shoes     Footwear   \n",
       "3899         3900   52  Female        Handbag  Accessories   \n",
       "\n",
       "      Purchase_Amount_USD       Location Size      Color  Season  \\\n",
       "0                      53       Kentucky    L       Gray  Winter   \n",
       "1                      64          Maine    L     Maroon  Winter   \n",
       "2                      73  Massachusetts    S     Maroon  Spring   \n",
       "3                      90   Rhode Island    M     Maroon  Spring   \n",
       "4                      49         Oregon    M  Turquoise  Spring   \n",
       "...                   ...            ...  ...        ...     ...   \n",
       "3895                   28       Virginia    L  Turquoise  Summer   \n",
       "3896                   49           Iowa    L      White  Spring   \n",
       "3897                   33     New Jersey    L      Green  Spring   \n",
       "3898                   77      Minnesota    S      Brown  Summer   \n",
       "3899                   81     California    M      Beige  Spring   \n",
       "\n",
       "      Review_Rating Subscription_Status Payment_Method   Shipping_Type  \\\n",
       "0               3.1                 Yes    Credit Card         Express   \n",
       "1               3.1                 Yes  Bank Transfer         Express   \n",
       "2               3.1                 Yes           Cash   Free Shipping   \n",
       "3               3.5                 Yes         PayPal    Next Day Air   \n",
       "4               2.7                 Yes           Cash   Free Shipping   \n",
       "...             ...                 ...            ...             ...   \n",
       "3895            4.2                  No           Cash  2-Day Shipping   \n",
       "3896            4.5                  No         PayPal    Store Pickup   \n",
       "3897            2.9                  No    Credit Card        Standard   \n",
       "3898            3.8                  No         PayPal         Express   \n",
       "3899            3.1                  No  Bank Transfer    Store Pickup   \n",
       "\n",
       "     Discount_Applied Promo_Code_Used  Previous_Purchases  \\\n",
       "0                 Yes             Yes                  14   \n",
       "1                 Yes             Yes                   2   \n",
       "2                 Yes             Yes                  23   \n",
       "3                 Yes             Yes                  49   \n",
       "4                 Yes             Yes                  31   \n",
       "...               ...             ...                 ...   \n",
       "3895               No              No                  32   \n",
       "3896               No              No                  41   \n",
       "3897               No              No                  24   \n",
       "3898               No              No                  24   \n",
       "3899               No              No                  33   \n",
       "\n",
       "     Preferred_Payment_Method Frequency_of_Purchases  avg_sales  \n",
       "0                       Venmo            Fortnightly  55.721519  \n",
       "1                        Cash            Fortnightly  56.987013  \n",
       "2                 Credit Card                 Weekly  60.888889  \n",
       "3                      PayPal                 Weekly  61.444444  \n",
       "4                      PayPal               Annually  57.337838  \n",
       "...                       ...                    ...        ...  \n",
       "3895                    Venmo                 Weekly  62.883117  \n",
       "3896            Bank Transfer              Bi-Weekly  60.884058  \n",
       "3897                    Venmo              Quarterly  56.746269  \n",
       "3898                    Venmo                 Weekly  56.556818  \n",
       "3899                    Venmo              Quarterly  59.000000  \n",
       "\n",
       "[3900 rows x 20 columns]"
      ]
     },
     "execution_count": 45,
     "metadata": {},
     "output_type": "execute_result"
    }
   ],
   "source": [
    "df"
   ]
  },
  {
   "cell_type": "markdown",
   "id": "7bb6c8cf",
   "metadata": {},
   "source": [
    "## Most Payment Method "
   ]
  },
  {
   "cell_type": "code",
   "execution_count": 44,
   "id": "b5410c03",
   "metadata": {},
   "outputs": [
    {
     "name": "stdout",
     "output_type": "stream",
     "text": [
      " Most Payment Method is :  PayPal\n"
     ]
    }
   ],
   "source": [
    "Preferred_Payment_Method=df['Preferred_Payment_Method'].value_counts()\n",
    "most_payment_method=Preferred_Payment_Method.idxmax()\n",
    "print(' Most Payment Method is : ',most_payment_method)\n"
   ]
  },
  {
   "cell_type": "code",
   "execution_count": null,
   "id": "866c0e2a",
   "metadata": {},
   "outputs": [
    {
     "data": {
      "text/plain": [
       "5.0"
      ]
     },
     "execution_count": 37,
     "metadata": {},
     "output_type": "execute_result"
    }
   ],
   "source": [
    "df['Review_Rating'].max()"
   ]
  },
  {
   "cell_type": "markdown",
   "id": "9a3cbaae",
   "metadata": {},
   "source": [
    "## Most Shipping Type with high rating\n",
    "\n"
   ]
  },
  {
   "cell_type": "code",
   "execution_count": 43,
   "id": "a2b13474",
   "metadata": {},
   "outputs": [
    {
     "name": "stdout",
     "output_type": "stream",
     "text": [
      "Most Shipping Type Rating :  Standard\n"
     ]
    }
   ],
   "source": [
    "common_Shipping_Type=df[df['Review_Rating']>=4]['Shipping_Type'].mode()[0]\n",
    "print('Most Shipping Type Rating : ',common_Shipping_Type)"
   ]
  },
  {
   "cell_type": "markdown",
   "id": "b73060aa",
   "metadata": {},
   "source": [
    "## What is the most common season for purchases ?"
   ]
  },
  {
   "cell_type": "code",
   "execution_count": 46,
   "id": "d4da96d2",
   "metadata": {},
   "outputs": [
    {
     "name": "stdout",
     "output_type": "stream",
     "text": [
      "Most Commons Season for Purches Is : Spring\n"
     ]
    }
   ],
   "source": [
    "common_season=df['Season'].mode()[0]\n",
    "print('Most Commons Season for Purches Is :',common_season)"
   ]
  },
  {
   "cell_type": "markdown",
   "id": "810c7d7e",
   "metadata": {},
   "source": [
    "## What is Gender   Have Most Average sales?"
   ]
  },
  {
   "cell_type": "code",
   "execution_count": 65,
   "id": "5e989d0f",
   "metadata": {},
   "outputs": [],
   "source": [
    "most_gender_sales=df.groupby('Gender')['avg_sales'].sum()\n"
   ]
  },
  {
   "cell_type": "code",
   "execution_count": 66,
   "id": "24af6ca0",
   "metadata": {},
   "outputs": [
    {
     "data": {
      "image/png": "[encoded data removed]",
      "text/plain": [
       "<Figure size 2000x800 with 1 Axes>"
      ]
     },
     "metadata": {},
     "output_type": "display_data"
    }
   ],
   "source": [
    "plt.figure(figsize=(20,8))\n",
    "most_gender_sales.plot(kind='pie',fontsize=12,colors=[ \"#FF69B4\",\"#89CFF0\" ],explode=(0,0.1),autopct='%1.1f%%')\n",
    "plt.xlabel(\"Gender Sales\",weight='bold',color='#646464',fontsize=13,labelpad=20)\n",
    "plt.axis('equal')\n",
    "plt.legend(labels=most_gender_sales.index,loc='best')\n",
    "plt.show()"
   ]
  },
  {
   "cell_type": "code",
   "execution_count": null,
   "id": "3f8abebe",
   "metadata": {},
   "outputs": [],
   "source": []
  }
 ],
 "metadata": {
  "kernelspec": {
   "display_name": "base",
   "language": "python",
   "name": "python3"
  },
  "language_info": {
   "codemirror_mode": {
    "name": "ipython",
    "version": 3
   },
   "file_extension": ".py",
   "mimetype": "text/x-python",
   "name": "python",
   "nbconvert_exporter": "python",
   "pygments_lexer": "ipython3",
   "version": "3.12.7"
  }
 },
 "nbformat": 4,
 "nbformat_minor": 5
}
